{
 "cells": [
  {
   "cell_type": "markdown",
   "metadata": {},
   "source": [
    "# Проект по SQL"
   ]
  },
  {
   "cell_type": "markdown",
   "metadata": {},
   "source": [
    "Коронавирус застал мир врасплох, изменив привычный порядок вещей. В свободное время жители городов больше не выходят на улицу, не посещают кафе и торговые центры. Зато стало больше времени для книг. Это заметили стартаперы — и бросились создавать приложения для тех, кто любит читать.\n",
    "<br>Ваша компания решила быть на волне и купила крупный сервис для чтения книг по подписке.\n",
    "\n",
    "__Цель исследования__\n",
    "<br>Проанализировать базу данных для формирования ценностного предложения для нового продукта."
   ]
  },
  {
   "cell_type": "markdown",
   "metadata": {},
   "source": [
    "__Описание данных__\n",
    "\n",
    "__Таблица `books`__<br>\n",
    "Содержит данные о книгах:\n",
    "- `book_id` — идентификатор книги;\n",
    "- `author_id` — идентификатор автора;\n",
    "- `title` — название книги;\n",
    "- `num_pages` — количество страниц;\n",
    "- `publication_date` — дата публикации книги;\n",
    "- `publisher_id` — идентификатор издателя.\n",
    "\n",
    "__Таблица `authors`__<br>\n",
    "Содержит данные об авторах:\n",
    "- `author_id` — идентификатор автора;\n",
    "- `author` — имя автора.\n",
    "\n",
    "__Таблица `publishers`__\n",
    "Содержит данные об издательствах:\n",
    "- `publisher_id` — идентификатор издательства;\n",
    "- `publisher` — название издательства.\n",
    "\n",
    "__Таблица `ratings`__\n",
    "Содержит данные о пользовательских оценках книг:\n",
    "- `rating_id` — идентификатор оценки;\n",
    "- `book_id` — идентификатор книги;\n",
    "- `username` — имя пользователя, оставившего оценку;\n",
    "- `rating` — оценка книги.\n",
    "\n",
    "__Таблица `reviews`__\n",
    "Содержит данные о пользовательских обзорах:\n",
    "- `review_id` — идентификатор обзора;\n",
    "- `book_id` — идентификатор книги;\n",
    "- `username` — имя автора обзора;\n",
    "- `text` — текст обзора.\n",
    "\n",
    "\n",
    "__Задания__\n",
    "\n",
    "- Посчитайте, сколько книг вышло после 1 января 2000 года;\n",
    "- Для каждой книги посчитайте количество обзоров и среднюю оценку;\n",
    "- Определите издательство, которое выпустило наибольшее число книг толще 50 страниц — так вы исключите из анализа брошюры;\n",
    "- Определите автора с самой высокой средней оценкой книг — учитывайте только книги с 50 и более оценками;\n",
    "- Посчитайте среднее количество обзоров от пользователей, которые поставили больше 48 оценок."
   ]
  },
  {
   "cell_type": "markdown",
   "metadata": {},
   "source": [
    "## Открыть файлы с данными и изучить общую информацию"
   ]
  },
  {
   "cell_type": "code",
   "execution_count": 1,
   "metadata": {},
   "outputs": [],
   "source": [
    "# импортируем библиотеки\n",
    "import pandas as pd\n",
    "import sqlalchemy as sa\n",
    "\n",
    "# убираем ограничения по столбцам и строкам\n",
    "pd.set_option('display.max_colwidth', None)\n",
    "pd.options.display.float_format = '{:,.2f}'.format\n",
    "\n",
    "# устанавливаем параметры\n",
    "db_config = {\n",
    "    'user': '', # имя пользователя\n",
    "    'pwd': '', # пароль\n",
    "    'host': '',\n",
    "    'port': , # порт подключения\n",
    "    'db': '' # название базы данных\n",
    "}\n",
    "connection_string = 'postgresql://{user}:{pwd}@{host}:{port}/{db}'.format(**db_config)"
   ]
  },
  {
   "cell_type": "code",
   "execution_count": 2,
   "metadata": {},
   "outputs": [],
   "source": [
    "# сохраняем коннектор\n",
    "engine = sa.create_engine(connection_string, connect_args={'sslmode':'require'})\n",
    "# чтобы выполнить SQL-запрос, пишем функцию с использованием Pandas\n",
    "def get_sql_data(query:str, engine:sa.engine.base.Engine=engine) -> pd.DataFrame:\n",
    "    '''Открываем соединение, получаем данные из sql, закрываем соединение'''\n",
    "    with engine.connect() as con:\n",
    "        return pd.read_sql(sql=sa.text(query), con = con)"
   ]
  },
  {
   "cell_type": "code",
   "execution_count": 3,
   "metadata": {},
   "outputs": [],
   "source": [
    "# создадим функцию, формирующую запрос, и выводящую для посмотра содержимое таблицы, общей информации, \n",
    "# количества пропусков, описательной статистики и количества явных дубликатов\n",
    "\n",
    "def general_info(tab):\n",
    "    query = '''SELECT * FROM {}'''.format(tab)\n",
    "    df = get_sql_data(query)\n",
    "    display(df.head())\n",
    "    print('___________________________')\n",
    "    print('')\n",
    "    display(df.info())\n",
    "    print('___________________________')\n",
    "    print('')\n",
    "    display(df.isna().sum())\n",
    "    print('___________________________')\n",
    "    print('')\n",
    "    display(df.describe().T)\n",
    "    print('___________________________')\n",
    "    print('')\n",
    "    print('Количество дубликатов:', df.duplicated().sum())\n",
    "    print('___________________________')"
   ]
  },
  {
   "cell_type": "code",
   "execution_count": 4,
   "metadata": {},
   "outputs": [
    {
     "name": "stdout",
     "output_type": "stream",
     "text": [
      "\n",
      "Таблица books\n"
     ]
    },
    {
     "data": {
      "text/html": [
       "<div>\n",
       "<style scoped>\n",
       "    .dataframe tbody tr th:only-of-type {\n",
       "        vertical-align: middle;\n",
       "    }\n",
       "\n",
       "    .dataframe tbody tr th {\n",
       "        vertical-align: top;\n",
       "    }\n",
       "\n",
       "    .dataframe thead th {\n",
       "        text-align: right;\n",
       "    }\n",
       "</style>\n",
       "<table border=\"1\" class=\"dataframe\">\n",
       "  <thead>\n",
       "    <tr style=\"text-align: right;\">\n",
       "      <th></th>\n",
       "      <th>book_id</th>\n",
       "      <th>author_id</th>\n",
       "      <th>title</th>\n",
       "      <th>num_pages</th>\n",
       "      <th>publication_date</th>\n",
       "      <th>publisher_id</th>\n",
       "    </tr>\n",
       "  </thead>\n",
       "  <tbody>\n",
       "    <tr>\n",
       "      <th>0</th>\n",
       "      <td>1</td>\n",
       "      <td>546</td>\n",
       "      <td>'Salem's Lot</td>\n",
       "      <td>594</td>\n",
       "      <td>2005-11-01</td>\n",
       "      <td>93</td>\n",
       "    </tr>\n",
       "    <tr>\n",
       "      <th>1</th>\n",
       "      <td>2</td>\n",
       "      <td>465</td>\n",
       "      <td>1 000 Places to See Before You Die</td>\n",
       "      <td>992</td>\n",
       "      <td>2003-05-22</td>\n",
       "      <td>336</td>\n",
       "    </tr>\n",
       "    <tr>\n",
       "      <th>2</th>\n",
       "      <td>3</td>\n",
       "      <td>407</td>\n",
       "      <td>13 Little Blue Envelopes (Little Blue Envelope  #1)</td>\n",
       "      <td>322</td>\n",
       "      <td>2010-12-21</td>\n",
       "      <td>135</td>\n",
       "    </tr>\n",
       "    <tr>\n",
       "      <th>3</th>\n",
       "      <td>4</td>\n",
       "      <td>82</td>\n",
       "      <td>1491: New Revelations of the Americas Before Columbus</td>\n",
       "      <td>541</td>\n",
       "      <td>2006-10-10</td>\n",
       "      <td>309</td>\n",
       "    </tr>\n",
       "    <tr>\n",
       "      <th>4</th>\n",
       "      <td>5</td>\n",
       "      <td>125</td>\n",
       "      <td>1776</td>\n",
       "      <td>386</td>\n",
       "      <td>2006-07-04</td>\n",
       "      <td>268</td>\n",
       "    </tr>\n",
       "  </tbody>\n",
       "</table>\n",
       "</div>"
      ],
      "text/plain": [
       "   book_id  author_id                                                  title  \\\n",
       "0        1        546                                           'Salem's Lot   \n",
       "1        2        465                     1 000 Places to See Before You Die   \n",
       "2        3        407    13 Little Blue Envelopes (Little Blue Envelope  #1)   \n",
       "3        4         82  1491: New Revelations of the Americas Before Columbus   \n",
       "4        5        125                                                   1776   \n",
       "\n",
       "   num_pages publication_date  publisher_id  \n",
       "0        594       2005-11-01            93  \n",
       "1        992       2003-05-22           336  \n",
       "2        322       2010-12-21           135  \n",
       "3        541       2006-10-10           309  \n",
       "4        386       2006-07-04           268  "
      ]
     },
     "metadata": {},
     "output_type": "display_data"
    },
    {
     "name": "stdout",
     "output_type": "stream",
     "text": [
      "___________________________\n",
      "\n",
      "<class 'pandas.core.frame.DataFrame'>\n",
      "RangeIndex: 1000 entries, 0 to 999\n",
      "Data columns (total 6 columns):\n",
      " #   Column            Non-Null Count  Dtype \n",
      "---  ------            --------------  ----- \n",
      " 0   book_id           1000 non-null   int64 \n",
      " 1   author_id         1000 non-null   int64 \n",
      " 2   title             1000 non-null   object\n",
      " 3   num_pages         1000 non-null   int64 \n",
      " 4   publication_date  1000 non-null   object\n",
      " 5   publisher_id      1000 non-null   int64 \n",
      "dtypes: int64(4), object(2)\n",
      "memory usage: 47.0+ KB\n"
     ]
    },
    {
     "data": {
      "text/plain": [
       "None"
      ]
     },
     "metadata": {},
     "output_type": "display_data"
    },
    {
     "name": "stdout",
     "output_type": "stream",
     "text": [
      "___________________________\n",
      "\n"
     ]
    },
    {
     "data": {
      "text/plain": [
       "book_id             0\n",
       "author_id           0\n",
       "title               0\n",
       "num_pages           0\n",
       "publication_date    0\n",
       "publisher_id        0\n",
       "dtype: int64"
      ]
     },
     "metadata": {},
     "output_type": "display_data"
    },
    {
     "name": "stdout",
     "output_type": "stream",
     "text": [
      "___________________________\n",
      "\n"
     ]
    },
    {
     "data": {
      "text/html": [
       "<div>\n",
       "<style scoped>\n",
       "    .dataframe tbody tr th:only-of-type {\n",
       "        vertical-align: middle;\n",
       "    }\n",
       "\n",
       "    .dataframe tbody tr th {\n",
       "        vertical-align: top;\n",
       "    }\n",
       "\n",
       "    .dataframe thead th {\n",
       "        text-align: right;\n",
       "    }\n",
       "</style>\n",
       "<table border=\"1\" class=\"dataframe\">\n",
       "  <thead>\n",
       "    <tr style=\"text-align: right;\">\n",
       "      <th></th>\n",
       "      <th>count</th>\n",
       "      <th>mean</th>\n",
       "      <th>std</th>\n",
       "      <th>min</th>\n",
       "      <th>25%</th>\n",
       "      <th>50%</th>\n",
       "      <th>75%</th>\n",
       "      <th>max</th>\n",
       "    </tr>\n",
       "  </thead>\n",
       "  <tbody>\n",
       "    <tr>\n",
       "      <th>book_id</th>\n",
       "      <td>1,000.00</td>\n",
       "      <td>500.50</td>\n",
       "      <td>288.82</td>\n",
       "      <td>1.00</td>\n",
       "      <td>250.75</td>\n",
       "      <td>500.50</td>\n",
       "      <td>750.25</td>\n",
       "      <td>1,000.00</td>\n",
       "    </tr>\n",
       "    <tr>\n",
       "      <th>author_id</th>\n",
       "      <td>1,000.00</td>\n",
       "      <td>320.42</td>\n",
       "      <td>181.62</td>\n",
       "      <td>1.00</td>\n",
       "      <td>162.75</td>\n",
       "      <td>316.50</td>\n",
       "      <td>481.00</td>\n",
       "      <td>636.00</td>\n",
       "    </tr>\n",
       "    <tr>\n",
       "      <th>num_pages</th>\n",
       "      <td>1,000.00</td>\n",
       "      <td>389.11</td>\n",
       "      <td>229.39</td>\n",
       "      <td>14.00</td>\n",
       "      <td>249.00</td>\n",
       "      <td>352.00</td>\n",
       "      <td>453.00</td>\n",
       "      <td>2,690.00</td>\n",
       "    </tr>\n",
       "    <tr>\n",
       "      <th>publisher_id</th>\n",
       "      <td>1,000.00</td>\n",
       "      <td>171.27</td>\n",
       "      <td>99.08</td>\n",
       "      <td>1.00</td>\n",
       "      <td>83.00</td>\n",
       "      <td>177.50</td>\n",
       "      <td>258.00</td>\n",
       "      <td>340.00</td>\n",
       "    </tr>\n",
       "  </tbody>\n",
       "</table>\n",
       "</div>"
      ],
      "text/plain": [
       "                count   mean    std   min    25%    50%    75%      max\n",
       "book_id      1,000.00 500.50 288.82  1.00 250.75 500.50 750.25 1,000.00\n",
       "author_id    1,000.00 320.42 181.62  1.00 162.75 316.50 481.00   636.00\n",
       "num_pages    1,000.00 389.11 229.39 14.00 249.00 352.00 453.00 2,690.00\n",
       "publisher_id 1,000.00 171.27  99.08  1.00  83.00 177.50 258.00   340.00"
      ]
     },
     "metadata": {},
     "output_type": "display_data"
    },
    {
     "name": "stdout",
     "output_type": "stream",
     "text": [
      "___________________________\n",
      "\n",
      "Количество дубликатов: 0\n",
      "___________________________\n",
      "\n",
      "Таблица authors\n"
     ]
    },
    {
     "data": {
      "text/html": [
       "<div>\n",
       "<style scoped>\n",
       "    .dataframe tbody tr th:only-of-type {\n",
       "        vertical-align: middle;\n",
       "    }\n",
       "\n",
       "    .dataframe tbody tr th {\n",
       "        vertical-align: top;\n",
       "    }\n",
       "\n",
       "    .dataframe thead th {\n",
       "        text-align: right;\n",
       "    }\n",
       "</style>\n",
       "<table border=\"1\" class=\"dataframe\">\n",
       "  <thead>\n",
       "    <tr style=\"text-align: right;\">\n",
       "      <th></th>\n",
       "      <th>author_id</th>\n",
       "      <th>author</th>\n",
       "    </tr>\n",
       "  </thead>\n",
       "  <tbody>\n",
       "    <tr>\n",
       "      <th>0</th>\n",
       "      <td>1</td>\n",
       "      <td>A.S. Byatt</td>\n",
       "    </tr>\n",
       "    <tr>\n",
       "      <th>1</th>\n",
       "      <td>2</td>\n",
       "      <td>Aesop/Laura Harris/Laura Gibbs</td>\n",
       "    </tr>\n",
       "    <tr>\n",
       "      <th>2</th>\n",
       "      <td>3</td>\n",
       "      <td>Agatha Christie</td>\n",
       "    </tr>\n",
       "    <tr>\n",
       "      <th>3</th>\n",
       "      <td>4</td>\n",
       "      <td>Alan Brennert</td>\n",
       "    </tr>\n",
       "    <tr>\n",
       "      <th>4</th>\n",
       "      <td>5</td>\n",
       "      <td>Alan Moore/David   Lloyd</td>\n",
       "    </tr>\n",
       "  </tbody>\n",
       "</table>\n",
       "</div>"
      ],
      "text/plain": [
       "   author_id                          author\n",
       "0          1                      A.S. Byatt\n",
       "1          2  Aesop/Laura Harris/Laura Gibbs\n",
       "2          3                 Agatha Christie\n",
       "3          4                   Alan Brennert\n",
       "4          5        Alan Moore/David   Lloyd"
      ]
     },
     "metadata": {},
     "output_type": "display_data"
    },
    {
     "name": "stdout",
     "output_type": "stream",
     "text": [
      "___________________________\n",
      "\n",
      "<class 'pandas.core.frame.DataFrame'>\n",
      "RangeIndex: 636 entries, 0 to 635\n",
      "Data columns (total 2 columns):\n",
      " #   Column     Non-Null Count  Dtype \n",
      "---  ------     --------------  ----- \n",
      " 0   author_id  636 non-null    int64 \n",
      " 1   author     636 non-null    object\n",
      "dtypes: int64(1), object(1)\n",
      "memory usage: 10.1+ KB\n"
     ]
    },
    {
     "data": {
      "text/plain": [
       "None"
      ]
     },
     "metadata": {},
     "output_type": "display_data"
    },
    {
     "name": "stdout",
     "output_type": "stream",
     "text": [
      "___________________________\n",
      "\n"
     ]
    },
    {
     "data": {
      "text/plain": [
       "author_id    0\n",
       "author       0\n",
       "dtype: int64"
      ]
     },
     "metadata": {},
     "output_type": "display_data"
    },
    {
     "name": "stdout",
     "output_type": "stream",
     "text": [
      "___________________________\n",
      "\n"
     ]
    },
    {
     "data": {
      "text/html": [
       "<div>\n",
       "<style scoped>\n",
       "    .dataframe tbody tr th:only-of-type {\n",
       "        vertical-align: middle;\n",
       "    }\n",
       "\n",
       "    .dataframe tbody tr th {\n",
       "        vertical-align: top;\n",
       "    }\n",
       "\n",
       "    .dataframe thead th {\n",
       "        text-align: right;\n",
       "    }\n",
       "</style>\n",
       "<table border=\"1\" class=\"dataframe\">\n",
       "  <thead>\n",
       "    <tr style=\"text-align: right;\">\n",
       "      <th></th>\n",
       "      <th>count</th>\n",
       "      <th>mean</th>\n",
       "      <th>std</th>\n",
       "      <th>min</th>\n",
       "      <th>25%</th>\n",
       "      <th>50%</th>\n",
       "      <th>75%</th>\n",
       "      <th>max</th>\n",
       "    </tr>\n",
       "  </thead>\n",
       "  <tbody>\n",
       "    <tr>\n",
       "      <th>author_id</th>\n",
       "      <td>636.00</td>\n",
       "      <td>318.50</td>\n",
       "      <td>183.74</td>\n",
       "      <td>1.00</td>\n",
       "      <td>159.75</td>\n",
       "      <td>318.50</td>\n",
       "      <td>477.25</td>\n",
       "      <td>636.00</td>\n",
       "    </tr>\n",
       "  </tbody>\n",
       "</table>\n",
       "</div>"
      ],
      "text/plain": [
       "           count   mean    std  min    25%    50%    75%    max\n",
       "author_id 636.00 318.50 183.74 1.00 159.75 318.50 477.25 636.00"
      ]
     },
     "metadata": {},
     "output_type": "display_data"
    },
    {
     "name": "stdout",
     "output_type": "stream",
     "text": [
      "___________________________\n",
      "\n",
      "Количество дубликатов: 0\n",
      "___________________________\n",
      "\n",
      "Таблица publishers\n"
     ]
    },
    {
     "data": {
      "text/html": [
       "<div>\n",
       "<style scoped>\n",
       "    .dataframe tbody tr th:only-of-type {\n",
       "        vertical-align: middle;\n",
       "    }\n",
       "\n",
       "    .dataframe tbody tr th {\n",
       "        vertical-align: top;\n",
       "    }\n",
       "\n",
       "    .dataframe thead th {\n",
       "        text-align: right;\n",
       "    }\n",
       "</style>\n",
       "<table border=\"1\" class=\"dataframe\">\n",
       "  <thead>\n",
       "    <tr style=\"text-align: right;\">\n",
       "      <th></th>\n",
       "      <th>publisher_id</th>\n",
       "      <th>publisher</th>\n",
       "    </tr>\n",
       "  </thead>\n",
       "  <tbody>\n",
       "    <tr>\n",
       "      <th>0</th>\n",
       "      <td>1</td>\n",
       "      <td>Ace</td>\n",
       "    </tr>\n",
       "    <tr>\n",
       "      <th>1</th>\n",
       "      <td>2</td>\n",
       "      <td>Ace Book</td>\n",
       "    </tr>\n",
       "    <tr>\n",
       "      <th>2</th>\n",
       "      <td>3</td>\n",
       "      <td>Ace Books</td>\n",
       "    </tr>\n",
       "    <tr>\n",
       "      <th>3</th>\n",
       "      <td>4</td>\n",
       "      <td>Ace Hardcover</td>\n",
       "    </tr>\n",
       "    <tr>\n",
       "      <th>4</th>\n",
       "      <td>5</td>\n",
       "      <td>Addison Wesley Publishing Company</td>\n",
       "    </tr>\n",
       "  </tbody>\n",
       "</table>\n",
       "</div>"
      ],
      "text/plain": [
       "   publisher_id                          publisher\n",
       "0             1                                Ace\n",
       "1             2                           Ace Book\n",
       "2             3                          Ace Books\n",
       "3             4                      Ace Hardcover\n",
       "4             5  Addison Wesley Publishing Company"
      ]
     },
     "metadata": {},
     "output_type": "display_data"
    },
    {
     "name": "stdout",
     "output_type": "stream",
     "text": [
      "___________________________\n",
      "\n",
      "<class 'pandas.core.frame.DataFrame'>\n",
      "RangeIndex: 340 entries, 0 to 339\n",
      "Data columns (total 2 columns):\n",
      " #   Column        Non-Null Count  Dtype \n",
      "---  ------        --------------  ----- \n",
      " 0   publisher_id  340 non-null    int64 \n",
      " 1   publisher     340 non-null    object\n",
      "dtypes: int64(1), object(1)\n",
      "memory usage: 5.4+ KB\n"
     ]
    },
    {
     "data": {
      "text/plain": [
       "None"
      ]
     },
     "metadata": {},
     "output_type": "display_data"
    },
    {
     "name": "stdout",
     "output_type": "stream",
     "text": [
      "___________________________\n",
      "\n"
     ]
    },
    {
     "data": {
      "text/plain": [
       "publisher_id    0\n",
       "publisher       0\n",
       "dtype: int64"
      ]
     },
     "metadata": {},
     "output_type": "display_data"
    },
    {
     "name": "stdout",
     "output_type": "stream",
     "text": [
      "___________________________\n",
      "\n"
     ]
    },
    {
     "data": {
      "text/html": [
       "<div>\n",
       "<style scoped>\n",
       "    .dataframe tbody tr th:only-of-type {\n",
       "        vertical-align: middle;\n",
       "    }\n",
       "\n",
       "    .dataframe tbody tr th {\n",
       "        vertical-align: top;\n",
       "    }\n",
       "\n",
       "    .dataframe thead th {\n",
       "        text-align: right;\n",
       "    }\n",
       "</style>\n",
       "<table border=\"1\" class=\"dataframe\">\n",
       "  <thead>\n",
       "    <tr style=\"text-align: right;\">\n",
       "      <th></th>\n",
       "      <th>count</th>\n",
       "      <th>mean</th>\n",
       "      <th>std</th>\n",
       "      <th>min</th>\n",
       "      <th>25%</th>\n",
       "      <th>50%</th>\n",
       "      <th>75%</th>\n",
       "      <th>max</th>\n",
       "    </tr>\n",
       "  </thead>\n",
       "  <tbody>\n",
       "    <tr>\n",
       "      <th>publisher_id</th>\n",
       "      <td>340.00</td>\n",
       "      <td>170.50</td>\n",
       "      <td>98.29</td>\n",
       "      <td>1.00</td>\n",
       "      <td>85.75</td>\n",
       "      <td>170.50</td>\n",
       "      <td>255.25</td>\n",
       "      <td>340.00</td>\n",
       "    </tr>\n",
       "  </tbody>\n",
       "</table>\n",
       "</div>"
      ],
      "text/plain": [
       "              count   mean   std  min   25%    50%    75%    max\n",
       "publisher_id 340.00 170.50 98.29 1.00 85.75 170.50 255.25 340.00"
      ]
     },
     "metadata": {},
     "output_type": "display_data"
    },
    {
     "name": "stdout",
     "output_type": "stream",
     "text": [
      "___________________________\n",
      "\n",
      "Количество дубликатов: 0\n",
      "___________________________\n",
      "\n",
      "Таблица ratings\n"
     ]
    },
    {
     "data": {
      "text/html": [
       "<div>\n",
       "<style scoped>\n",
       "    .dataframe tbody tr th:only-of-type {\n",
       "        vertical-align: middle;\n",
       "    }\n",
       "\n",
       "    .dataframe tbody tr th {\n",
       "        vertical-align: top;\n",
       "    }\n",
       "\n",
       "    .dataframe thead th {\n",
       "        text-align: right;\n",
       "    }\n",
       "</style>\n",
       "<table border=\"1\" class=\"dataframe\">\n",
       "  <thead>\n",
       "    <tr style=\"text-align: right;\">\n",
       "      <th></th>\n",
       "      <th>rating_id</th>\n",
       "      <th>book_id</th>\n",
       "      <th>username</th>\n",
       "      <th>rating</th>\n",
       "    </tr>\n",
       "  </thead>\n",
       "  <tbody>\n",
       "    <tr>\n",
       "      <th>0</th>\n",
       "      <td>1</td>\n",
       "      <td>1</td>\n",
       "      <td>ryanfranco</td>\n",
       "      <td>4</td>\n",
       "    </tr>\n",
       "    <tr>\n",
       "      <th>1</th>\n",
       "      <td>2</td>\n",
       "      <td>1</td>\n",
       "      <td>grantpatricia</td>\n",
       "      <td>2</td>\n",
       "    </tr>\n",
       "    <tr>\n",
       "      <th>2</th>\n",
       "      <td>3</td>\n",
       "      <td>1</td>\n",
       "      <td>brandtandrea</td>\n",
       "      <td>5</td>\n",
       "    </tr>\n",
       "    <tr>\n",
       "      <th>3</th>\n",
       "      <td>4</td>\n",
       "      <td>2</td>\n",
       "      <td>lorichen</td>\n",
       "      <td>3</td>\n",
       "    </tr>\n",
       "    <tr>\n",
       "      <th>4</th>\n",
       "      <td>5</td>\n",
       "      <td>2</td>\n",
       "      <td>mariokeller</td>\n",
       "      <td>2</td>\n",
       "    </tr>\n",
       "  </tbody>\n",
       "</table>\n",
       "</div>"
      ],
      "text/plain": [
       "   rating_id  book_id       username  rating\n",
       "0          1        1     ryanfranco       4\n",
       "1          2        1  grantpatricia       2\n",
       "2          3        1   brandtandrea       5\n",
       "3          4        2       lorichen       3\n",
       "4          5        2    mariokeller       2"
      ]
     },
     "metadata": {},
     "output_type": "display_data"
    },
    {
     "name": "stdout",
     "output_type": "stream",
     "text": [
      "___________________________\n",
      "\n",
      "<class 'pandas.core.frame.DataFrame'>\n",
      "RangeIndex: 6456 entries, 0 to 6455\n",
      "Data columns (total 4 columns):\n",
      " #   Column     Non-Null Count  Dtype \n",
      "---  ------     --------------  ----- \n",
      " 0   rating_id  6456 non-null   int64 \n",
      " 1   book_id    6456 non-null   int64 \n",
      " 2   username   6456 non-null   object\n",
      " 3   rating     6456 non-null   int64 \n",
      "dtypes: int64(3), object(1)\n",
      "memory usage: 201.9+ KB\n"
     ]
    },
    {
     "data": {
      "text/plain": [
       "None"
      ]
     },
     "metadata": {},
     "output_type": "display_data"
    },
    {
     "name": "stdout",
     "output_type": "stream",
     "text": [
      "___________________________\n",
      "\n"
     ]
    },
    {
     "data": {
      "text/plain": [
       "rating_id    0\n",
       "book_id      0\n",
       "username     0\n",
       "rating       0\n",
       "dtype: int64"
      ]
     },
     "metadata": {},
     "output_type": "display_data"
    },
    {
     "name": "stdout",
     "output_type": "stream",
     "text": [
      "___________________________\n",
      "\n"
     ]
    },
    {
     "data": {
      "text/html": [
       "<div>\n",
       "<style scoped>\n",
       "    .dataframe tbody tr th:only-of-type {\n",
       "        vertical-align: middle;\n",
       "    }\n",
       "\n",
       "    .dataframe tbody tr th {\n",
       "        vertical-align: top;\n",
       "    }\n",
       "\n",
       "    .dataframe thead th {\n",
       "        text-align: right;\n",
       "    }\n",
       "</style>\n",
       "<table border=\"1\" class=\"dataframe\">\n",
       "  <thead>\n",
       "    <tr style=\"text-align: right;\">\n",
       "      <th></th>\n",
       "      <th>count</th>\n",
       "      <th>mean</th>\n",
       "      <th>std</th>\n",
       "      <th>min</th>\n",
       "      <th>25%</th>\n",
       "      <th>50%</th>\n",
       "      <th>75%</th>\n",
       "      <th>max</th>\n",
       "    </tr>\n",
       "  </thead>\n",
       "  <tbody>\n",
       "    <tr>\n",
       "      <th>rating_id</th>\n",
       "      <td>6,456.00</td>\n",
       "      <td>3,228.50</td>\n",
       "      <td>1,863.83</td>\n",
       "      <td>1.00</td>\n",
       "      <td>1,614.75</td>\n",
       "      <td>3,228.50</td>\n",
       "      <td>4,842.25</td>\n",
       "      <td>6,456.00</td>\n",
       "    </tr>\n",
       "    <tr>\n",
       "      <th>book_id</th>\n",
       "      <td>6,456.00</td>\n",
       "      <td>510.57</td>\n",
       "      <td>284.14</td>\n",
       "      <td>1.00</td>\n",
       "      <td>291.00</td>\n",
       "      <td>506.00</td>\n",
       "      <td>750.00</td>\n",
       "      <td>1,000.00</td>\n",
       "    </tr>\n",
       "    <tr>\n",
       "      <th>rating</th>\n",
       "      <td>6,456.00</td>\n",
       "      <td>3.93</td>\n",
       "      <td>0.94</td>\n",
       "      <td>1.00</td>\n",
       "      <td>3.00</td>\n",
       "      <td>4.00</td>\n",
       "      <td>5.00</td>\n",
       "      <td>5.00</td>\n",
       "    </tr>\n",
       "  </tbody>\n",
       "</table>\n",
       "</div>"
      ],
      "text/plain": [
       "             count     mean      std  min      25%      50%      75%      max\n",
       "rating_id 6,456.00 3,228.50 1,863.83 1.00 1,614.75 3,228.50 4,842.25 6,456.00\n",
       "book_id   6,456.00   510.57   284.14 1.00   291.00   506.00   750.00 1,000.00\n",
       "rating    6,456.00     3.93     0.94 1.00     3.00     4.00     5.00     5.00"
      ]
     },
     "metadata": {},
     "output_type": "display_data"
    },
    {
     "name": "stdout",
     "output_type": "stream",
     "text": [
      "___________________________\n",
      "\n",
      "Количество дубликатов: 0\n",
      "___________________________\n",
      "\n",
      "Таблица reviews\n"
     ]
    },
    {
     "data": {
      "text/html": [
       "<div>\n",
       "<style scoped>\n",
       "    .dataframe tbody tr th:only-of-type {\n",
       "        vertical-align: middle;\n",
       "    }\n",
       "\n",
       "    .dataframe tbody tr th {\n",
       "        vertical-align: top;\n",
       "    }\n",
       "\n",
       "    .dataframe thead th {\n",
       "        text-align: right;\n",
       "    }\n",
       "</style>\n",
       "<table border=\"1\" class=\"dataframe\">\n",
       "  <thead>\n",
       "    <tr style=\"text-align: right;\">\n",
       "      <th></th>\n",
       "      <th>review_id</th>\n",
       "      <th>book_id</th>\n",
       "      <th>username</th>\n",
       "      <th>text</th>\n",
       "    </tr>\n",
       "  </thead>\n",
       "  <tbody>\n",
       "    <tr>\n",
       "      <th>0</th>\n",
       "      <td>1</td>\n",
       "      <td>1</td>\n",
       "      <td>brandtandrea</td>\n",
       "      <td>Mention society tell send professor analysis. Over provide race technology continue these.</td>\n",
       "    </tr>\n",
       "    <tr>\n",
       "      <th>1</th>\n",
       "      <td>2</td>\n",
       "      <td>1</td>\n",
       "      <td>ryanfranco</td>\n",
       "      <td>Foot glass pretty audience hit themselves. Among admit investment argue security.</td>\n",
       "    </tr>\n",
       "    <tr>\n",
       "      <th>2</th>\n",
       "      <td>3</td>\n",
       "      <td>2</td>\n",
       "      <td>lorichen</td>\n",
       "      <td>Listen treat keep worry. Miss husband tax but person sport treatment industry. Kitchen decision deep the. Social party body the.</td>\n",
       "    </tr>\n",
       "    <tr>\n",
       "      <th>3</th>\n",
       "      <td>4</td>\n",
       "      <td>3</td>\n",
       "      <td>johnsonamanda</td>\n",
       "      <td>Finally month interesting blue could nature cultural bit. Prepare beat finish grow that smile teach. Dream me play near.</td>\n",
       "    </tr>\n",
       "    <tr>\n",
       "      <th>4</th>\n",
       "      <td>5</td>\n",
       "      <td>3</td>\n",
       "      <td>scotttamara</td>\n",
       "      <td>Nation purpose heavy give wait song will. List dinner another whole positive radio fast. Music staff many green.</td>\n",
       "    </tr>\n",
       "  </tbody>\n",
       "</table>\n",
       "</div>"
      ],
      "text/plain": [
       "   review_id  book_id       username  \\\n",
       "0          1        1   brandtandrea   \n",
       "1          2        1     ryanfranco   \n",
       "2          3        2       lorichen   \n",
       "3          4        3  johnsonamanda   \n",
       "4          5        3    scotttamara   \n",
       "\n",
       "                                                                                                                               text  \n",
       "0                                        Mention society tell send professor analysis. Over provide race technology continue these.  \n",
       "1                                                 Foot glass pretty audience hit themselves. Among admit investment argue security.  \n",
       "2  Listen treat keep worry. Miss husband tax but person sport treatment industry. Kitchen decision deep the. Social party body the.  \n",
       "3          Finally month interesting blue could nature cultural bit. Prepare beat finish grow that smile teach. Dream me play near.  \n",
       "4                  Nation purpose heavy give wait song will. List dinner another whole positive radio fast. Music staff many green.  "
      ]
     },
     "metadata": {},
     "output_type": "display_data"
    },
    {
     "name": "stdout",
     "output_type": "stream",
     "text": [
      "___________________________\n",
      "\n",
      "<class 'pandas.core.frame.DataFrame'>\n",
      "RangeIndex: 2793 entries, 0 to 2792\n",
      "Data columns (total 4 columns):\n",
      " #   Column     Non-Null Count  Dtype \n",
      "---  ------     --------------  ----- \n",
      " 0   review_id  2793 non-null   int64 \n",
      " 1   book_id    2793 non-null   int64 \n",
      " 2   username   2793 non-null   object\n",
      " 3   text       2793 non-null   object\n",
      "dtypes: int64(2), object(2)\n",
      "memory usage: 87.4+ KB\n"
     ]
    },
    {
     "data": {
      "text/plain": [
       "None"
      ]
     },
     "metadata": {},
     "output_type": "display_data"
    },
    {
     "name": "stdout",
     "output_type": "stream",
     "text": [
      "___________________________\n",
      "\n"
     ]
    },
    {
     "data": {
      "text/plain": [
       "review_id    0\n",
       "book_id      0\n",
       "username     0\n",
       "text         0\n",
       "dtype: int64"
      ]
     },
     "metadata": {},
     "output_type": "display_data"
    },
    {
     "name": "stdout",
     "output_type": "stream",
     "text": [
      "___________________________\n",
      "\n"
     ]
    },
    {
     "data": {
      "text/html": [
       "<div>\n",
       "<style scoped>\n",
       "    .dataframe tbody tr th:only-of-type {\n",
       "        vertical-align: middle;\n",
       "    }\n",
       "\n",
       "    .dataframe tbody tr th {\n",
       "        vertical-align: top;\n",
       "    }\n",
       "\n",
       "    .dataframe thead th {\n",
       "        text-align: right;\n",
       "    }\n",
       "</style>\n",
       "<table border=\"1\" class=\"dataframe\">\n",
       "  <thead>\n",
       "    <tr style=\"text-align: right;\">\n",
       "      <th></th>\n",
       "      <th>count</th>\n",
       "      <th>mean</th>\n",
       "      <th>std</th>\n",
       "      <th>min</th>\n",
       "      <th>25%</th>\n",
       "      <th>50%</th>\n",
       "      <th>75%</th>\n",
       "      <th>max</th>\n",
       "    </tr>\n",
       "  </thead>\n",
       "  <tbody>\n",
       "    <tr>\n",
       "      <th>review_id</th>\n",
       "      <td>2,793.00</td>\n",
       "      <td>1,397.00</td>\n",
       "      <td>806.41</td>\n",
       "      <td>1.00</td>\n",
       "      <td>699.00</td>\n",
       "      <td>1,397.00</td>\n",
       "      <td>2,095.00</td>\n",
       "      <td>2,793.00</td>\n",
       "    </tr>\n",
       "    <tr>\n",
       "      <th>book_id</th>\n",
       "      <td>2,793.00</td>\n",
       "      <td>504.69</td>\n",
       "      <td>288.47</td>\n",
       "      <td>1.00</td>\n",
       "      <td>259.00</td>\n",
       "      <td>505.00</td>\n",
       "      <td>753.00</td>\n",
       "      <td>1,000.00</td>\n",
       "    </tr>\n",
       "  </tbody>\n",
       "</table>\n",
       "</div>"
      ],
      "text/plain": [
       "             count     mean    std  min    25%      50%      75%      max\n",
       "review_id 2,793.00 1,397.00 806.41 1.00 699.00 1,397.00 2,095.00 2,793.00\n",
       "book_id   2,793.00   504.69 288.47 1.00 259.00   505.00   753.00 1,000.00"
      ]
     },
     "metadata": {},
     "output_type": "display_data"
    },
    {
     "name": "stdout",
     "output_type": "stream",
     "text": [
      "___________________________\n",
      "\n",
      "Количество дубликатов: 0\n",
      "___________________________\n"
     ]
    }
   ],
   "source": [
    "# создаем список таблиц\n",
    "tables = ['books','authors', 'publishers', 'ratings', 'reviews']\n",
    "\n",
    "# с помощью цикла выведем информацию таблиц, используя функцию general_info()\n",
    "for table in tables:\n",
    "    print('')\n",
    "    print('Таблица', table)\n",
    "    general_info(table)"
   ]
  },
  {
   "cell_type": "markdown",
   "metadata": {},
   "source": [
    "По итогу:\n",
    "\n",
    "- явные дубликаты и пропуски отсутствуют,\n",
    "- таблица `books` содержит 1000 строк,\n",
    "- таблица `authors` содержит 636 строк,\n",
    "- таблица `publishers` содержит 340 строк,\n",
    "- таблица `ratings` содержит 6456 строк,\n",
    "- таблица `reviews` содержит 2793 строки."
   ]
  },
  {
   "cell_type": "markdown",
   "metadata": {},
   "source": [
    "## Посчитаем, сколько книг вышло после 1 января 2000 года"
   ]
  },
  {
   "cell_type": "code",
   "execution_count": 5,
   "metadata": {},
   "outputs": [
    {
     "data": {
      "text/html": [
       "<div>\n",
       "<style scoped>\n",
       "    .dataframe tbody tr th:only-of-type {\n",
       "        vertical-align: middle;\n",
       "    }\n",
       "\n",
       "    .dataframe tbody tr th {\n",
       "        vertical-align: top;\n",
       "    }\n",
       "\n",
       "    .dataframe thead th {\n",
       "        text-align: right;\n",
       "    }\n",
       "</style>\n",
       "<table border=\"1\" class=\"dataframe\">\n",
       "  <thead>\n",
       "    <tr style=\"text-align: right;\">\n",
       "      <th></th>\n",
       "      <th>count</th>\n",
       "    </tr>\n",
       "  </thead>\n",
       "  <tbody>\n",
       "    <tr>\n",
       "      <th>0</th>\n",
       "      <td>819</td>\n",
       "    </tr>\n",
       "  </tbody>\n",
       "</table>\n",
       "</div>"
      ],
      "text/plain": [
       "   count\n",
       "0    819"
      ]
     },
     "execution_count": 5,
     "metadata": {},
     "output_type": "execute_result"
    }
   ],
   "source": [
    "query = '''\n",
    "SELECT COUNT(*) \n",
    "FROM books \n",
    "WHERE publication_date > '2000-01-01'\n",
    "'''\n",
    "get_sql_data(query)"
   ]
  },
  {
   "cell_type": "markdown",
   "metadata": {},
   "source": [
    "После 1 января 2020 года вышло 819 книг"
   ]
  },
  {
   "cell_type": "markdown",
   "metadata": {},
   "source": [
    "## Посчитаем количество обзоров и среднюю оценку для каждой книги"
   ]
  },
  {
   "cell_type": "code",
   "execution_count": 6,
   "metadata": {},
   "outputs": [
    {
     "data": {
      "text/html": [
       "<div>\n",
       "<style scoped>\n",
       "    .dataframe tbody tr th:only-of-type {\n",
       "        vertical-align: middle;\n",
       "    }\n",
       "\n",
       "    .dataframe tbody tr th {\n",
       "        vertical-align: top;\n",
       "    }\n",
       "\n",
       "    .dataframe thead th {\n",
       "        text-align: right;\n",
       "    }\n",
       "</style>\n",
       "<table border=\"1\" class=\"dataframe\">\n",
       "  <thead>\n",
       "    <tr style=\"text-align: right;\">\n",
       "      <th></th>\n",
       "      <th>title</th>\n",
       "      <th>cnt_review</th>\n",
       "      <th>avg_rating</th>\n",
       "    </tr>\n",
       "  </thead>\n",
       "  <tbody>\n",
       "    <tr>\n",
       "      <th>0</th>\n",
       "      <td>A Dirty Job (Grim Reaper  #1)</td>\n",
       "      <td>4</td>\n",
       "      <td>5.00</td>\n",
       "    </tr>\n",
       "    <tr>\n",
       "      <th>1</th>\n",
       "      <td>School's Out—Forever (Maximum Ride  #2)</td>\n",
       "      <td>3</td>\n",
       "      <td>5.00</td>\n",
       "    </tr>\n",
       "    <tr>\n",
       "      <th>2</th>\n",
       "      <td>Moneyball: The Art of Winning an Unfair Game</td>\n",
       "      <td>3</td>\n",
       "      <td>5.00</td>\n",
       "    </tr>\n",
       "    <tr>\n",
       "      <th>3</th>\n",
       "      <td>The Big Bad Wolf  (Alex Cross  #9)</td>\n",
       "      <td>2</td>\n",
       "      <td>5.00</td>\n",
       "    </tr>\n",
       "    <tr>\n",
       "      <th>4</th>\n",
       "      <td>Welcome to Temptation (Dempseys  #1)</td>\n",
       "      <td>2</td>\n",
       "      <td>5.00</td>\n",
       "    </tr>\n",
       "    <tr>\n",
       "      <th>...</th>\n",
       "      <td>...</td>\n",
       "      <td>...</td>\n",
       "      <td>...</td>\n",
       "    </tr>\n",
       "    <tr>\n",
       "      <th>995</th>\n",
       "      <td>The World Is Flat: A Brief History of the Twenty-first Century</td>\n",
       "      <td>3</td>\n",
       "      <td>2.25</td>\n",
       "    </tr>\n",
       "    <tr>\n",
       "      <th>996</th>\n",
       "      <td>Drowning Ruth</td>\n",
       "      <td>3</td>\n",
       "      <td>2.00</td>\n",
       "    </tr>\n",
       "    <tr>\n",
       "      <th>997</th>\n",
       "      <td>His Excellency: George Washington</td>\n",
       "      <td>2</td>\n",
       "      <td>2.00</td>\n",
       "    </tr>\n",
       "    <tr>\n",
       "      <th>998</th>\n",
       "      <td>Junky</td>\n",
       "      <td>2</td>\n",
       "      <td>2.00</td>\n",
       "    </tr>\n",
       "    <tr>\n",
       "      <th>999</th>\n",
       "      <td>Harvesting the Heart</td>\n",
       "      <td>2</td>\n",
       "      <td>1.50</td>\n",
       "    </tr>\n",
       "  </tbody>\n",
       "</table>\n",
       "<p>1000 rows × 3 columns</p>\n",
       "</div>"
      ],
      "text/plain": [
       "                                                              title  \\\n",
       "0                                     A Dirty Job (Grim Reaper  #1)   \n",
       "1                           School's Out—Forever (Maximum Ride  #2)   \n",
       "2                      Moneyball: The Art of Winning an Unfair Game   \n",
       "3                                The Big Bad Wolf  (Alex Cross  #9)   \n",
       "4                              Welcome to Temptation (Dempseys  #1)   \n",
       "..                                                              ...   \n",
       "995  The World Is Flat: A Brief History of the Twenty-first Century   \n",
       "996                                                   Drowning Ruth   \n",
       "997                               His Excellency: George Washington   \n",
       "998                                                           Junky   \n",
       "999                                            Harvesting the Heart   \n",
       "\n",
       "     cnt_review  avg_rating  \n",
       "0             4        5.00  \n",
       "1             3        5.00  \n",
       "2             3        5.00  \n",
       "3             2        5.00  \n",
       "4             2        5.00  \n",
       "..          ...         ...  \n",
       "995           3        2.25  \n",
       "996           3        2.00  \n",
       "997           2        2.00  \n",
       "998           2        2.00  \n",
       "999           2        1.50  \n",
       "\n",
       "[1000 rows x 3 columns]"
      ]
     },
     "execution_count": 6,
     "metadata": {},
     "output_type": "execute_result"
    }
   ],
   "source": [
    "query = \"\"\"\n",
    "SELECT title,\n",
    "       COUNT(DISTINCT review_id) AS cnt_review,\n",
    "       ROUND(AVG(rating), 2) AS avg_rating\n",
    "FROM books AS b \n",
    "LEFT JOIN ratings AS rt ON b.book_id = rt.book_id\n",
    "LEFT JOIN reviews AS rv ON b.book_id = rv.book_id\n",
    "GROUP BY b.book_id\n",
    "ORDER BY avg_rating DESC,\n",
    "         cnt_review DESC\n",
    "\"\"\"\n",
    "get_sql_data(query)"
   ]
  },
  {
   "cell_type": "markdown",
   "metadata": {},
   "source": [
    "Самый высокий рейтинг 5 баллов у книги `A Dirty Job (Grim Reaper #1)` имеет 4 обзора.\n",
    "<br>Самый низкий (1,5 балла) у книги с 2 обзорами - `Harvesting the Heart`."
   ]
  },
  {
   "cell_type": "markdown",
   "metadata": {},
   "source": [
    "## Определим издательство, которое выпустило наибольшее число книг толще 50 страниц — так мы исключим из анализа брошюры"
   ]
  },
  {
   "cell_type": "code",
   "execution_count": 7,
   "metadata": {
    "scrolled": true
   },
   "outputs": [
    {
     "data": {
      "text/html": [
       "<div>\n",
       "<style scoped>\n",
       "    .dataframe tbody tr th:only-of-type {\n",
       "        vertical-align: middle;\n",
       "    }\n",
       "\n",
       "    .dataframe tbody tr th {\n",
       "        vertical-align: top;\n",
       "    }\n",
       "\n",
       "    .dataframe thead th {\n",
       "        text-align: right;\n",
       "    }\n",
       "</style>\n",
       "<table border=\"1\" class=\"dataframe\">\n",
       "  <thead>\n",
       "    <tr style=\"text-align: right;\">\n",
       "      <th></th>\n",
       "      <th>publisher</th>\n",
       "      <th>count</th>\n",
       "    </tr>\n",
       "  </thead>\n",
       "  <tbody>\n",
       "    <tr>\n",
       "      <th>0</th>\n",
       "      <td>Penguin Books</td>\n",
       "      <td>42</td>\n",
       "    </tr>\n",
       "    <tr>\n",
       "      <th>1</th>\n",
       "      <td>Vintage</td>\n",
       "      <td>31</td>\n",
       "    </tr>\n",
       "    <tr>\n",
       "      <th>2</th>\n",
       "      <td>Grand Central Publishing</td>\n",
       "      <td>25</td>\n",
       "    </tr>\n",
       "  </tbody>\n",
       "</table>\n",
       "</div>"
      ],
      "text/plain": [
       "                  publisher  count\n",
       "0             Penguin Books     42\n",
       "1                   Vintage     31\n",
       "2  Grand Central Publishing     25"
      ]
     },
     "execution_count": 7,
     "metadata": {},
     "output_type": "execute_result"
    }
   ],
   "source": [
    "query = '''\n",
    "SELECT p.publisher,\n",
    "       COUNT(b.book_id)\n",
    "FROM publishers AS p\n",
    "LEFT JOIN books AS b ON b.publisher_id = p.publisher_id\n",
    "WHERE b.num_pages > 50\n",
    "GROUP BY p.publisher_id\n",
    "ORDER BY count DESC\n",
    "LIMIT 3\n",
    "'''\n",
    "get_sql_data(query)"
   ]
  },
  {
   "cell_type": "markdown",
   "metadata": {},
   "source": [
    "Издательство, выпустившее наибольшее количество книг толще 50 страниц, только одно - `Penguin Books` (42 книги)."
   ]
  },
  {
   "cell_type": "markdown",
   "metadata": {},
   "source": [
    "## Определите автора с самой высокой средней оценкой книг — учитывайте только книги с 50 и более оценками;"
   ]
  },
  {
   "cell_type": "code",
   "execution_count": 8,
   "metadata": {},
   "outputs": [
    {
     "data": {
      "text/html": [
       "<div>\n",
       "<style scoped>\n",
       "    .dataframe tbody tr th:only-of-type {\n",
       "        vertical-align: middle;\n",
       "    }\n",
       "\n",
       "    .dataframe tbody tr th {\n",
       "        vertical-align: top;\n",
       "    }\n",
       "\n",
       "    .dataframe thead th {\n",
       "        text-align: right;\n",
       "    }\n",
       "</style>\n",
       "<table border=\"1\" class=\"dataframe\">\n",
       "  <thead>\n",
       "    <tr style=\"text-align: right;\">\n",
       "      <th></th>\n",
       "      <th>author</th>\n",
       "      <th>avg</th>\n",
       "    </tr>\n",
       "  </thead>\n",
       "  <tbody>\n",
       "    <tr>\n",
       "      <th>0</th>\n",
       "      <td>J.K. Rowling/Mary GrandPré</td>\n",
       "      <td>4.29</td>\n",
       "    </tr>\n",
       "    <tr>\n",
       "      <th>1</th>\n",
       "      <td>Markus Zusak/Cao Xuân Việt Khương</td>\n",
       "      <td>4.26</td>\n",
       "    </tr>\n",
       "    <tr>\n",
       "      <th>2</th>\n",
       "      <td>J.R.R. Tolkien</td>\n",
       "      <td>4.25</td>\n",
       "    </tr>\n",
       "  </tbody>\n",
       "</table>\n",
       "</div>"
      ],
      "text/plain": [
       "                              author  avg\n",
       "0         J.K. Rowling/Mary GrandPré 4.29\n",
       "1  Markus Zusak/Cao Xuân Việt Khương 4.26\n",
       "2                     J.R.R. Tolkien 4.25"
      ]
     },
     "execution_count": 8,
     "metadata": {},
     "output_type": "execute_result"
    }
   ],
   "source": [
    "query = '''\n",
    "SELECT a.author,\n",
    "       AVG(rt.rating)\n",
    "FROM authors AS a\n",
    "JOIN books AS b ON b.author_id = a.author_id\n",
    "JOIN ratings AS rt ON rt.book_id = b.book_id\n",
    "WHERE b.book_id IN (SELECT b.book_id\n",
    "                    FROM books AS b\n",
    "                    JOIN ratings AS rt ON rt.book_id = b.book_id\n",
    "                    GROUP BY b.book_id\n",
    "                    HAVING COUNT(rt.rating_id) >= 50)\n",
    "GROUP BY a.author\n",
    "ORDER BY AVG DESC\n",
    "LIMIT 3\n",
    "'''\n",
    "get_sql_data(query)"
   ]
  },
  {
   "cell_type": "markdown",
   "metadata": {},
   "source": [
    "Самая высокая средняя оценка книг 4,29 у автора `J.K. Rowling/Mary GrandPré`."
   ]
  },
  {
   "cell_type": "markdown",
   "metadata": {},
   "source": [
    "## Посчитайте среднее количество обзоров от пользователей, которые поставили больше 48 оценок."
   ]
  },
  {
   "cell_type": "code",
   "execution_count": 9,
   "metadata": {},
   "outputs": [
    {
     "data": {
      "text/html": [
       "<div>\n",
       "<style scoped>\n",
       "    .dataframe tbody tr th:only-of-type {\n",
       "        vertical-align: middle;\n",
       "    }\n",
       "\n",
       "    .dataframe tbody tr th {\n",
       "        vertical-align: top;\n",
       "    }\n",
       "\n",
       "    .dataframe thead th {\n",
       "        text-align: right;\n",
       "    }\n",
       "</style>\n",
       "<table border=\"1\" class=\"dataframe\">\n",
       "  <thead>\n",
       "    <tr style=\"text-align: right;\">\n",
       "      <th></th>\n",
       "      <th>avg</th>\n",
       "    </tr>\n",
       "  </thead>\n",
       "  <tbody>\n",
       "    <tr>\n",
       "      <th>0</th>\n",
       "      <td>24.00</td>\n",
       "    </tr>\n",
       "  </tbody>\n",
       "</table>\n",
       "</div>"
      ],
      "text/plain": [
       "    avg\n",
       "0 24.00"
      ]
     },
     "execution_count": 9,
     "metadata": {},
     "output_type": "execute_result"
    }
   ],
   "source": [
    "query = '''\n",
    "WITH \n",
    "a AS (SELECT username,\n",
    "             COUNT(review_id) AS cnt_review\n",
    "      FROM reviews\n",
    "      WHERE username IN (SELECT username\n",
    "                         FROM ratings\n",
    "                         GROUP BY username\n",
    "                         HAVING COUNT(rating_id) > 48)\n",
    "      GROUP BY username)\n",
    "SELECT (SUM(cnt_review)/COUNT(cnt_review)) AS AVG\n",
    "FROM a            \n",
    "'''\n",
    "get_sql_data(query)"
   ]
  },
  {
   "cell_type": "markdown",
   "metadata": {},
   "source": [
    "В среднем на пользователя, которые поставили от 48 оценок и более, приходится 24 обзора."
   ]
  },
  {
   "cell_type": "markdown",
   "metadata": {},
   "source": [
    "__Вывод__\n",
    " \n",
    "Из проведенного анализа базы данных мы выяснили, что:\n",
    "- в сервисе хранится 1000 книг от 636 авторов и 340 издательств,\n",
    "- 819 книг были выпущены с начала 2000 года и позже,\n",
    "- средняя оценка книг от 1,5 до 5 баллов,\n",
    "- больше всего книг выпустило издательство Penguin Books,\n",
    "- J.K.Rowling/Mary GrandPré является автором с самой высокой оценкой книг,\n",
    "- в среднем 24 обзора приходится на самых активных пользователей."
   ]
  }
 ],
 "metadata": {
  "ExecuteTimeLog": [
   {
    "duration": 514,
    "start_time": "2023-09-12T13:11:37.908Z"
   },
   {
    "duration": 9066,
    "start_time": "2023-09-12T13:11:38.424Z"
   },
   {
    "duration": 82,
    "start_time": "2023-09-12T13:11:47.492Z"
   },
   {
    "duration": 4,
    "start_time": "2023-09-12T13:11:47.575Z"
   },
   {
    "duration": 253,
    "start_time": "2023-09-12T13:11:47.581Z"
   },
   {
    "duration": 10,
    "start_time": "2023-09-12T14:16:56.617Z"
   },
   {
    "duration": 21,
    "start_time": "2023-09-12T14:30:35.206Z"
   },
   {
    "duration": 31,
    "start_time": "2023-09-12T14:51:06.085Z"
   },
   {
    "duration": 27,
    "start_time": "2023-09-12T14:53:58.368Z"
   },
   {
    "duration": 29,
    "start_time": "2023-09-12T14:54:35.595Z"
   },
   {
    "duration": 28,
    "start_time": "2023-09-12T14:55:04.541Z"
   },
   {
    "duration": 28,
    "start_time": "2023-09-12T14:55:30.248Z"
   },
   {
    "duration": 28,
    "start_time": "2023-09-12T15:00:58.299Z"
   },
   {
    "duration": 542,
    "start_time": "2023-09-13T07:24:31.578Z"
   },
   {
    "duration": 10443,
    "start_time": "2023-09-13T07:24:32.123Z"
   },
   {
    "duration": 485,
    "start_time": "2023-09-13T07:24:42.567Z"
   },
   {
    "duration": 4,
    "start_time": "2023-09-13T07:24:43.054Z"
   },
   {
    "duration": 253,
    "start_time": "2023-09-13T07:24:43.060Z"
   },
   {
    "duration": 52,
    "start_time": "2023-09-13T07:24:43.315Z"
   },
   {
    "duration": 69,
    "start_time": "2023-09-13T07:24:43.369Z"
   },
   {
    "duration": 53,
    "start_time": "2023-09-13T07:24:43.440Z"
   },
   {
    "duration": 89,
    "start_time": "2023-09-13T07:27:50.369Z"
   },
   {
    "duration": 69,
    "start_time": "2023-09-13T07:28:24.656Z"
   },
   {
    "duration": 86,
    "start_time": "2023-09-13T07:28:58.984Z"
   },
   {
    "duration": 91,
    "start_time": "2023-09-13T07:31:50.578Z"
   },
   {
    "duration": 53,
    "start_time": "2023-09-13T07:44:28.174Z"
   },
   {
    "duration": 64,
    "start_time": "2023-09-13T07:45:16.463Z"
   },
   {
    "duration": 53,
    "start_time": "2023-09-13T07:45:26.153Z"
   },
   {
    "duration": 67,
    "start_time": "2023-09-13T07:47:30.967Z"
   },
   {
    "duration": 65,
    "start_time": "2023-09-13T07:48:35.846Z"
   },
   {
    "duration": 65,
    "start_time": "2023-09-13T07:50:03.523Z"
   },
   {
    "duration": 63,
    "start_time": "2023-09-13T07:50:45.194Z"
   },
   {
    "duration": 64,
    "start_time": "2023-09-13T07:50:58.904Z"
   },
   {
    "duration": 63,
    "start_time": "2023-09-13T07:51:13.667Z"
   },
   {
    "duration": 5,
    "start_time": "2023-09-13T07:52:05.558Z"
   },
   {
    "duration": 98,
    "start_time": "2023-09-13T07:52:05.565Z"
   },
   {
    "duration": 557,
    "start_time": "2023-09-13T07:52:05.665Z"
   },
   {
    "duration": 5,
    "start_time": "2023-09-13T07:52:06.224Z"
   },
   {
    "duration": 268,
    "start_time": "2023-09-13T07:52:06.232Z"
   },
   {
    "duration": 51,
    "start_time": "2023-09-13T07:52:06.502Z"
   },
   {
    "duration": 72,
    "start_time": "2023-09-13T07:52:06.555Z"
   },
   {
    "duration": 68,
    "start_time": "2023-09-13T07:52:06.630Z"
   },
   {
    "duration": 62,
    "start_time": "2023-09-13T07:52:31.271Z"
   },
   {
    "duration": 63,
    "start_time": "2023-09-13T07:53:56.417Z"
   },
   {
    "duration": 52,
    "start_time": "2023-09-13T07:54:56.425Z"
   },
   {
    "duration": 53,
    "start_time": "2023-09-13T07:55:36.869Z"
   },
   {
    "duration": 54,
    "start_time": "2023-09-13T07:55:58.010Z"
   },
   {
    "duration": 52,
    "start_time": "2023-09-13T07:56:03.075Z"
   },
   {
    "duration": 53,
    "start_time": "2023-09-13T08:00:30.406Z"
   },
   {
    "duration": 582,
    "start_time": "2023-09-13T10:29:42.421Z"
   },
   {
    "duration": 9024,
    "start_time": "2023-09-13T10:29:43.005Z"
   },
   {
    "duration": 117,
    "start_time": "2023-09-13T10:29:52.032Z"
   },
   {
    "duration": 4,
    "start_time": "2023-09-13T10:29:52.151Z"
   },
   {
    "duration": 244,
    "start_time": "2023-09-13T10:29:52.157Z"
   },
   {
    "duration": 10,
    "start_time": "2023-09-13T10:29:52.403Z"
   },
   {
    "duration": 49,
    "start_time": "2023-09-13T10:29:52.415Z"
   },
   {
    "duration": 13,
    "start_time": "2023-09-13T10:29:52.466Z"
   },
   {
    "duration": 111,
    "start_time": "2023-09-13T10:29:52.481Z"
   },
   {
    "duration": 23,
    "start_time": "2023-09-13T10:35:15.776Z"
   },
   {
    "duration": 24,
    "start_time": "2023-09-13T10:35:56.349Z"
   },
   {
    "duration": 31,
    "start_time": "2023-09-13T10:37:22.839Z"
   },
   {
    "duration": 22,
    "start_time": "2023-09-13T10:38:23.213Z"
   },
   {
    "duration": 14,
    "start_time": "2023-09-13T10:38:38.316Z"
   },
   {
    "duration": 19,
    "start_time": "2023-09-13T10:43:28.326Z"
   },
   {
    "duration": 18,
    "start_time": "2023-09-13T10:44:01.136Z"
   },
   {
    "duration": 16,
    "start_time": "2023-09-13T10:44:43.189Z"
   },
   {
    "duration": 18,
    "start_time": "2023-09-13T10:49:35.197Z"
   },
   {
    "duration": 24,
    "start_time": "2023-09-13T11:05:41.101Z"
   },
   {
    "duration": 28,
    "start_time": "2023-09-13T11:07:26.424Z"
   },
   {
    "duration": 24,
    "start_time": "2023-09-13T11:07:33.689Z"
   },
   {
    "duration": 24,
    "start_time": "2023-09-13T11:08:10.148Z"
   },
   {
    "duration": 22,
    "start_time": "2023-09-13T11:09:17.819Z"
   },
   {
    "duration": 21,
    "start_time": "2023-09-13T11:18:14.378Z"
   },
   {
    "duration": 29,
    "start_time": "2023-09-13T11:18:51.610Z"
   },
   {
    "duration": 16,
    "start_time": "2023-09-13T11:20:38.258Z"
   },
   {
    "duration": 19,
    "start_time": "2023-09-13T11:21:39.901Z"
   },
   {
    "duration": 13,
    "start_time": "2023-09-13T11:22:09.563Z"
   },
   {
    "duration": 22,
    "start_time": "2023-09-13T11:25:51.147Z"
   },
   {
    "duration": 15,
    "start_time": "2023-09-13T11:26:28.766Z"
   },
   {
    "duration": 25,
    "start_time": "2023-09-13T11:29:15.459Z"
   },
   {
    "duration": 23,
    "start_time": "2023-09-13T11:29:59.329Z"
   },
   {
    "duration": 13,
    "start_time": "2023-09-13T11:31:42.225Z"
   },
   {
    "duration": 15,
    "start_time": "2023-09-13T11:32:51.588Z"
   },
   {
    "duration": 15,
    "start_time": "2023-09-13T11:33:41.396Z"
   },
   {
    "duration": 24,
    "start_time": "2023-09-13T11:35:35.140Z"
   },
   {
    "duration": 15,
    "start_time": "2023-09-13T11:35:57.610Z"
   },
   {
    "duration": 14,
    "start_time": "2023-09-13T11:38:22.080Z"
   },
   {
    "duration": 23,
    "start_time": "2023-09-13T11:40:57.079Z"
   },
   {
    "duration": 23,
    "start_time": "2023-09-13T11:45:21.298Z"
   },
   {
    "duration": 23,
    "start_time": "2023-09-13T11:45:50.721Z"
   },
   {
    "duration": 13,
    "start_time": "2023-09-13T11:47:07.418Z"
   },
   {
    "duration": 16,
    "start_time": "2023-09-13T11:48:47.585Z"
   },
   {
    "duration": 16,
    "start_time": "2023-09-13T11:50:01.258Z"
   },
   {
    "duration": 15,
    "start_time": "2023-09-13T11:50:37.383Z"
   },
   {
    "duration": 533,
    "start_time": "2023-09-13T12:25:13.299Z"
   },
   {
    "duration": 8987,
    "start_time": "2023-09-13T12:25:13.833Z"
   },
   {
    "duration": 125,
    "start_time": "2023-09-13T12:25:22.821Z"
   },
   {
    "duration": 4,
    "start_time": "2023-09-13T12:25:22.948Z"
   },
   {
    "duration": 237,
    "start_time": "2023-09-13T12:25:22.954Z"
   },
   {
    "duration": 16,
    "start_time": "2023-09-13T12:25:23.194Z"
   },
   {
    "duration": 45,
    "start_time": "2023-09-13T12:25:23.212Z"
   },
   {
    "duration": 12,
    "start_time": "2023-09-13T12:25:23.259Z"
   },
   {
    "duration": 18,
    "start_time": "2023-09-13T12:25:23.273Z"
   },
   {
    "duration": 14,
    "start_time": "2023-09-13T12:25:23.294Z"
   },
   {
    "duration": 587,
    "start_time": "2023-09-13T17:42:00.209Z"
   },
   {
    "duration": 18953,
    "start_time": "2023-09-13T17:42:00.798Z"
   },
   {
    "duration": 513,
    "start_time": "2023-09-13T17:42:19.753Z"
   },
   {
    "duration": 5,
    "start_time": "2023-09-13T17:42:20.268Z"
   },
   {
    "duration": 453,
    "start_time": "2023-09-13T17:42:20.275Z"
   },
   {
    "duration": 5,
    "start_time": "2023-09-13T17:42:20.729Z"
   },
   {
    "duration": 283,
    "start_time": "2023-09-13T17:42:20.736Z"
   },
   {
    "duration": 55,
    "start_time": "2023-09-13T17:42:21.021Z"
   },
   {
    "duration": 74,
    "start_time": "2023-09-13T17:42:21.078Z"
   },
   {
    "duration": 57,
    "start_time": "2023-09-13T17:42:21.154Z"
   },
   {
    "duration": 61,
    "start_time": "2023-09-13T17:42:21.212Z"
   },
   {
    "duration": 58,
    "start_time": "2023-09-13T17:42:21.275Z"
   },
   {
    "duration": 61,
    "start_time": "2023-09-13T19:13:20.938Z"
   },
   {
    "duration": 535,
    "start_time": "2023-09-13T19:13:25.418Z"
   },
   {
    "duration": 10068,
    "start_time": "2023-09-13T19:13:25.955Z"
   },
   {
    "duration": 5,
    "start_time": "2023-09-13T19:13:36.025Z"
   },
   {
    "duration": 778,
    "start_time": "2023-09-13T19:13:36.033Z"
   },
   {
    "duration": 54,
    "start_time": "2023-09-13T19:13:36.813Z"
   },
   {
    "duration": 91,
    "start_time": "2023-09-13T19:13:36.869Z"
   },
   {
    "duration": 62,
    "start_time": "2023-09-13T19:13:36.962Z"
   },
   {
    "duration": 60,
    "start_time": "2023-09-13T19:13:37.026Z"
   },
   {
    "duration": 58,
    "start_time": "2023-09-13T19:13:37.090Z"
   },
   {
    "duration": 558,
    "start_time": "2023-09-13T19:14:41.575Z"
   },
   {
    "duration": 13109,
    "start_time": "2023-09-13T19:14:42.135Z"
   },
   {
    "duration": 5,
    "start_time": "2023-09-13T19:14:55.246Z"
   },
   {
    "duration": 706,
    "start_time": "2023-09-13T19:14:55.253Z"
   },
   {
    "duration": 63,
    "start_time": "2023-09-13T19:14:55.961Z"
   },
   {
    "duration": 78,
    "start_time": "2023-09-13T19:14:56.026Z"
   },
   {
    "duration": 58,
    "start_time": "2023-09-13T19:14:56.106Z"
   },
   {
    "duration": 67,
    "start_time": "2023-09-13T19:14:56.167Z"
   },
   {
    "duration": 61,
    "start_time": "2023-09-13T19:14:56.236Z"
   }
  ],
  "kernelspec": {
   "display_name": "Python 3 (ipykernel)",
   "language": "python",
   "name": "python3"
  },
  "language_info": {
   "codemirror_mode": {
    "name": "ipython",
    "version": 3
   },
   "file_extension": ".py",
   "mimetype": "text/x-python",
   "name": "python",
   "nbconvert_exporter": "python",
   "pygments_lexer": "ipython3",
   "version": "3.9.16"
  },
  "toc": {
   "base_numbering": 1,
   "nav_menu": {},
   "number_sections": true,
   "sideBar": true,
   "skip_h1_title": true,
   "title_cell": "Table of Contents",
   "title_sidebar": "Contents",
   "toc_cell": false,
   "toc_position": {},
   "toc_section_display": true,
   "toc_window_display": false
  }
 },
 "nbformat": 4,
 "nbformat_minor": 2
}
