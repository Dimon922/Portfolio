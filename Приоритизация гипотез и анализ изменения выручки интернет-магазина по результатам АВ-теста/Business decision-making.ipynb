{
 "cells": [
  {
   "cell_type": "markdown",
   "metadata": {},
   "source": [
    "# Приоритизация гипотез и анализ изменения выручки интернет-магазина по результатам А/В-теста."
   ]
  },
  {
   "cell_type": "markdown",
   "metadata": {},
   "source": [
    "# Описание проекта\n",
    "\n",
    "Вместе с отделом маркетинга подготовили список гипотез для увеличения выручки.\n",
    "Приоритизируем гипотезы, запустим A/B-тест и проанализируем результаты. \n",
    "\n",
    "__Описание данных__<br>\n",
    "*В нашем распоряжении три датасета.*\n",
    "\n",
    "___Данные для первой части___\n",
    "\n",
    "__Файл__ `/datasets/hypothesis.csv`\n",
    "<br>`Hypothesis` — краткое описание гипотезы;\n",
    "<br>`Reach` — охват пользователей по 10-балльной шкале;\n",
    "<br>`Impact` — влияние на пользователей по 10-балльной шкале;\n",
    "<br>`Confidence` — уверенность в гипотезе по 10-балльной шкале;\n",
    "<br>`Efforts` — затраты ресурсов на проверку гипотезы по 10-балльной шкале. Чем больше значение `Efforts`, тем дороже проверка гипотезы.\n",
    "\n",
    "___Данные для второй части___\n",
    "\n",
    "__Файл__ `/datasets/orders.csv`\n",
    "<br>`transactionId` — идентификатор заказа;\n",
    "<br>`visitorId` — идентификатор пользователя, совершившего заказ;\n",
    "<br>`date` — дата, когда был совершён заказ;\n",
    "<br>`revenue` — выручка заказа;\n",
    "<br>`group` — группа A/B-теста, в которую попал заказ.\n",
    "\n",
    "__Файл__ `/datasets/visitors.csv`\n",
    "<br>`date` — дата;\n",
    "<br>`group` — группа A/B-теста;\n",
    "<br>`visitors` — количество пользователей в указанную дату в указанной группе A/B-теста"
   ]
  },
  {
   "cell_type": "markdown",
   "metadata": {},
   "source": [
    "## 1 часть. Приоритизация гипотез.\n",
    "\n",
    "Импортируем библиотеки и загрузим данные для первой части из CSV-файла в переменную. Далее изучим данные и выполним предобработку, если это потребуется."
   ]
  },
  {
   "cell_type": "code",
   "execution_count": 1,
   "metadata": {},
   "outputs": [],
   "source": [
    "# импортируем библиотеки\n",
    "import pandas as pd\n",
    "import scipy.stats as stats\n",
    "import datetime as dt\n",
    "import numpy as np\n",
    "import matplotlib.pyplot as plt\n",
    "from pandas.plotting import register_matplotlib_converters\n",
    "import warnings\n",
    "# конвертеры, которые позволяют использовать типы pandas в matplotlib  \n",
    "register_matplotlib_converters()"
   ]
  },
  {
   "cell_type": "code",
   "execution_count": 2,
   "metadata": {},
   "outputs": [
    {
     "data": {
      "text/html": [
       "<div>\n",
       "<style scoped>\n",
       "    .dataframe tbody tr th:only-of-type {\n",
       "        vertical-align: middle;\n",
       "    }\n",
       "\n",
       "    .dataframe tbody tr th {\n",
       "        vertical-align: top;\n",
       "    }\n",
       "\n",
       "    .dataframe thead th {\n",
       "        text-align: right;\n",
       "    }\n",
       "</style>\n",
       "<table border=\"1\" class=\"dataframe\">\n",
       "  <thead>\n",
       "    <tr style=\"text-align: right;\">\n",
       "      <th></th>\n",
       "      <th>Hypothesis</th>\n",
       "      <th>Reach</th>\n",
       "      <th>Impact</th>\n",
       "      <th>Confidence</th>\n",
       "      <th>Efforts</th>\n",
       "    </tr>\n",
       "  </thead>\n",
       "  <tbody>\n",
       "    <tr>\n",
       "      <th>0</th>\n",
       "      <td>Добавить два новых канала привлечения трафика, что позволит привлекать на 30% больше пользователей</td>\n",
       "      <td>3</td>\n",
       "      <td>10</td>\n",
       "      <td>8</td>\n",
       "      <td>6</td>\n",
       "    </tr>\n",
       "    <tr>\n",
       "      <th>1</th>\n",
       "      <td>Запустить собственную службу доставки, что сократит срок доставки заказов</td>\n",
       "      <td>2</td>\n",
       "      <td>5</td>\n",
       "      <td>4</td>\n",
       "      <td>10</td>\n",
       "    </tr>\n",
       "    <tr>\n",
       "      <th>2</th>\n",
       "      <td>Добавить блоки рекомендаций товаров на сайт интернет магазина, чтобы повысить конверсию и средний чек заказа</td>\n",
       "      <td>8</td>\n",
       "      <td>3</td>\n",
       "      <td>7</td>\n",
       "      <td>3</td>\n",
       "    </tr>\n",
       "    <tr>\n",
       "      <th>3</th>\n",
       "      <td>Изменить структура категорий, что увеличит конверсию, т.к. пользователи быстрее найдут нужный товар</td>\n",
       "      <td>8</td>\n",
       "      <td>3</td>\n",
       "      <td>3</td>\n",
       "      <td>8</td>\n",
       "    </tr>\n",
       "    <tr>\n",
       "      <th>4</th>\n",
       "      <td>Изменить цвет фона главной страницы, чтобы увеличить вовлеченность пользователей</td>\n",
       "      <td>3</td>\n",
       "      <td>1</td>\n",
       "      <td>1</td>\n",
       "      <td>1</td>\n",
       "    </tr>\n",
       "    <tr>\n",
       "      <th>5</th>\n",
       "      <td>Добавить страницу отзывов клиентов о магазине, что позволит увеличить количество заказов</td>\n",
       "      <td>3</td>\n",
       "      <td>2</td>\n",
       "      <td>2</td>\n",
       "      <td>3</td>\n",
       "    </tr>\n",
       "    <tr>\n",
       "      <th>6</th>\n",
       "      <td>Показать на главной странице баннеры с актуальными акциями и распродажами, чтобы увеличить конверсию</td>\n",
       "      <td>5</td>\n",
       "      <td>3</td>\n",
       "      <td>8</td>\n",
       "      <td>3</td>\n",
       "    </tr>\n",
       "    <tr>\n",
       "      <th>7</th>\n",
       "      <td>Добавить форму подписки на все основные страницы, чтобы собрать базу клиентов для email-рассылок</td>\n",
       "      <td>10</td>\n",
       "      <td>7</td>\n",
       "      <td>8</td>\n",
       "      <td>5</td>\n",
       "    </tr>\n",
       "    <tr>\n",
       "      <th>8</th>\n",
       "      <td>Запустить акцию, дающую скидку на товар в день рождения</td>\n",
       "      <td>1</td>\n",
       "      <td>9</td>\n",
       "      <td>9</td>\n",
       "      <td>5</td>\n",
       "    </tr>\n",
       "  </tbody>\n",
       "</table>\n",
       "</div>"
      ],
      "text/plain": [
       "                                                                                                     Hypothesis  \\\n",
       "0            Добавить два новых канала привлечения трафика, что позволит привлекать на 30% больше пользователей   \n",
       "1                                     Запустить собственную службу доставки, что сократит срок доставки заказов   \n",
       "2  Добавить блоки рекомендаций товаров на сайт интернет магазина, чтобы повысить конверсию и средний чек заказа   \n",
       "3           Изменить структура категорий, что увеличит конверсию, т.к. пользователи быстрее найдут нужный товар   \n",
       "4                              Изменить цвет фона главной страницы, чтобы увеличить вовлеченность пользователей   \n",
       "5                      Добавить страницу отзывов клиентов о магазине, что позволит увеличить количество заказов   \n",
       "6          Показать на главной странице баннеры с актуальными акциями и распродажами, чтобы увеличить конверсию   \n",
       "7              Добавить форму подписки на все основные страницы, чтобы собрать базу клиентов для email-рассылок   \n",
       "8                                                       Запустить акцию, дающую скидку на товар в день рождения   \n",
       "\n",
       "   Reach  Impact  Confidence  Efforts  \n",
       "0      3      10           8        6  \n",
       "1      2       5           4       10  \n",
       "2      8       3           7        3  \n",
       "3      8       3           3        8  \n",
       "4      3       1           1        1  \n",
       "5      3       2           2        3  \n",
       "6      5       3           8        3  \n",
       "7     10       7           8        5  \n",
       "8      1       9           9        5  "
      ]
     },
     "metadata": {},
     "output_type": "display_data"
    },
    {
     "name": "stdout",
     "output_type": "stream",
     "text": [
      "<class 'pandas.core.frame.DataFrame'>\n",
      "RangeIndex: 9 entries, 0 to 8\n",
      "Data columns (total 5 columns):\n",
      " #   Column      Non-Null Count  Dtype \n",
      "---  ------      --------------  ----- \n",
      " 0   Hypothesis  9 non-null      object\n",
      " 1   Reach       9 non-null      int64 \n",
      " 2   Impact      9 non-null      int64 \n",
      " 3   Confidence  9 non-null      int64 \n",
      " 4   Efforts     9 non-null      int64 \n",
      "dtypes: int64(4), object(1)\n",
      "memory usage: 488.0+ bytes\n"
     ]
    }
   ],
   "source": [
    "# читаем файл\n",
    "data = pd.read_csv('')\n",
    "\n",
    "# посмотрим на содержимое таблицы и общую информацию\n",
    "pd.set_option('display.max_colwidth', None)\n",
    "display(data)\n",
    "data.info()"
   ]
  },
  {
   "cell_type": "code",
   "execution_count": 3,
   "metadata": {},
   "outputs": [],
   "source": [
    "# Приведем названия столбцов к нижнему регистру\n",
    "data.columns = data.columns.str.lower()"
   ]
  },
  {
   "cell_type": "markdown",
   "metadata": {},
   "source": [
    "### Применим фреймворк ICE для приоритизации гипотез и отсортируем их по убыванию приоритета."
   ]
  },
  {
   "cell_type": "code",
   "execution_count": 4,
   "metadata": {},
   "outputs": [
    {
     "data": {
      "text/html": [
       "<div>\n",
       "<style scoped>\n",
       "    .dataframe tbody tr th:only-of-type {\n",
       "        vertical-align: middle;\n",
       "    }\n",
       "\n",
       "    .dataframe tbody tr th {\n",
       "        vertical-align: top;\n",
       "    }\n",
       "\n",
       "    .dataframe thead th {\n",
       "        text-align: right;\n",
       "    }\n",
       "</style>\n",
       "<table border=\"1\" class=\"dataframe\">\n",
       "  <thead>\n",
       "    <tr style=\"text-align: right;\">\n",
       "      <th></th>\n",
       "      <th>hypothesis</th>\n",
       "      <th>reach</th>\n",
       "      <th>impact</th>\n",
       "      <th>confidence</th>\n",
       "      <th>efforts</th>\n",
       "      <th>ice</th>\n",
       "    </tr>\n",
       "  </thead>\n",
       "  <tbody>\n",
       "    <tr>\n",
       "      <th>8</th>\n",
       "      <td>Запустить акцию, дающую скидку на товар в день рождения</td>\n",
       "      <td>1</td>\n",
       "      <td>9</td>\n",
       "      <td>9</td>\n",
       "      <td>5</td>\n",
       "      <td>16.200000</td>\n",
       "    </tr>\n",
       "    <tr>\n",
       "      <th>0</th>\n",
       "      <td>Добавить два новых канала привлечения трафика, что позволит привлекать на 30% больше пользователей</td>\n",
       "      <td>3</td>\n",
       "      <td>10</td>\n",
       "      <td>8</td>\n",
       "      <td>6</td>\n",
       "      <td>13.333333</td>\n",
       "    </tr>\n",
       "    <tr>\n",
       "      <th>7</th>\n",
       "      <td>Добавить форму подписки на все основные страницы, чтобы собрать базу клиентов для email-рассылок</td>\n",
       "      <td>10</td>\n",
       "      <td>7</td>\n",
       "      <td>8</td>\n",
       "      <td>5</td>\n",
       "      <td>11.200000</td>\n",
       "    </tr>\n",
       "    <tr>\n",
       "      <th>6</th>\n",
       "      <td>Показать на главной странице баннеры с актуальными акциями и распродажами, чтобы увеличить конверсию</td>\n",
       "      <td>5</td>\n",
       "      <td>3</td>\n",
       "      <td>8</td>\n",
       "      <td>3</td>\n",
       "      <td>8.000000</td>\n",
       "    </tr>\n",
       "    <tr>\n",
       "      <th>2</th>\n",
       "      <td>Добавить блоки рекомендаций товаров на сайт интернет магазина, чтобы повысить конверсию и средний чек заказа</td>\n",
       "      <td>8</td>\n",
       "      <td>3</td>\n",
       "      <td>7</td>\n",
       "      <td>3</td>\n",
       "      <td>7.000000</td>\n",
       "    </tr>\n",
       "    <tr>\n",
       "      <th>1</th>\n",
       "      <td>Запустить собственную службу доставки, что сократит срок доставки заказов</td>\n",
       "      <td>2</td>\n",
       "      <td>5</td>\n",
       "      <td>4</td>\n",
       "      <td>10</td>\n",
       "      <td>2.000000</td>\n",
       "    </tr>\n",
       "    <tr>\n",
       "      <th>5</th>\n",
       "      <td>Добавить страницу отзывов клиентов о магазине, что позволит увеличить количество заказов</td>\n",
       "      <td>3</td>\n",
       "      <td>2</td>\n",
       "      <td>2</td>\n",
       "      <td>3</td>\n",
       "      <td>1.333333</td>\n",
       "    </tr>\n",
       "    <tr>\n",
       "      <th>3</th>\n",
       "      <td>Изменить структура категорий, что увеличит конверсию, т.к. пользователи быстрее найдут нужный товар</td>\n",
       "      <td>8</td>\n",
       "      <td>3</td>\n",
       "      <td>3</td>\n",
       "      <td>8</td>\n",
       "      <td>1.125000</td>\n",
       "    </tr>\n",
       "    <tr>\n",
       "      <th>4</th>\n",
       "      <td>Изменить цвет фона главной страницы, чтобы увеличить вовлеченность пользователей</td>\n",
       "      <td>3</td>\n",
       "      <td>1</td>\n",
       "      <td>1</td>\n",
       "      <td>1</td>\n",
       "      <td>1.000000</td>\n",
       "    </tr>\n",
       "  </tbody>\n",
       "</table>\n",
       "</div>"
      ],
      "text/plain": [
       "                                                                                                     hypothesis  \\\n",
       "8                                                       Запустить акцию, дающую скидку на товар в день рождения   \n",
       "0            Добавить два новых канала привлечения трафика, что позволит привлекать на 30% больше пользователей   \n",
       "7              Добавить форму подписки на все основные страницы, чтобы собрать базу клиентов для email-рассылок   \n",
       "6          Показать на главной странице баннеры с актуальными акциями и распродажами, чтобы увеличить конверсию   \n",
       "2  Добавить блоки рекомендаций товаров на сайт интернет магазина, чтобы повысить конверсию и средний чек заказа   \n",
       "1                                     Запустить собственную службу доставки, что сократит срок доставки заказов   \n",
       "5                      Добавить страницу отзывов клиентов о магазине, что позволит увеличить количество заказов   \n",
       "3           Изменить структура категорий, что увеличит конверсию, т.к. пользователи быстрее найдут нужный товар   \n",
       "4                              Изменить цвет фона главной страницы, чтобы увеличить вовлеченность пользователей   \n",
       "\n",
       "   reach  impact  confidence  efforts        ice  \n",
       "8      1       9           9        5  16.200000  \n",
       "0      3      10           8        6  13.333333  \n",
       "7     10       7           8        5  11.200000  \n",
       "6      5       3           8        3   8.000000  \n",
       "2      8       3           7        3   7.000000  \n",
       "1      2       5           4       10   2.000000  \n",
       "5      3       2           2        3   1.333333  \n",
       "3      8       3           3        8   1.125000  \n",
       "4      3       1           1        1   1.000000  "
      ]
     },
     "execution_count": 4,
     "metadata": {},
     "output_type": "execute_result"
    }
   ],
   "source": [
    "data['ice'] = (data['impact']*data['confidence'])/data['efforts']\n",
    "data.sort_values(by='ice', ascending=False)"
   ]
  },
  {
   "cell_type": "markdown",
   "metadata": {},
   "source": [
    "Наиболее перспенктивные гипотезы по ICE с индексами: 8, 0, 7. "
   ]
  },
  {
   "cell_type": "markdown",
   "metadata": {},
   "source": [
    "### Применим фреймворк RICE для приоритизации гипотез и отсортируем их по убыванию приоритета."
   ]
  },
  {
   "cell_type": "code",
   "execution_count": 5,
   "metadata": {},
   "outputs": [
    {
     "data": {
      "text/html": [
       "<div>\n",
       "<style scoped>\n",
       "    .dataframe tbody tr th:only-of-type {\n",
       "        vertical-align: middle;\n",
       "    }\n",
       "\n",
       "    .dataframe tbody tr th {\n",
       "        vertical-align: top;\n",
       "    }\n",
       "\n",
       "    .dataframe thead th {\n",
       "        text-align: right;\n",
       "    }\n",
       "</style>\n",
       "<table border=\"1\" class=\"dataframe\">\n",
       "  <thead>\n",
       "    <tr style=\"text-align: right;\">\n",
       "      <th></th>\n",
       "      <th>hypothesis</th>\n",
       "      <th>reach</th>\n",
       "      <th>impact</th>\n",
       "      <th>confidence</th>\n",
       "      <th>efforts</th>\n",
       "      <th>ice</th>\n",
       "      <th>rice</th>\n",
       "    </tr>\n",
       "  </thead>\n",
       "  <tbody>\n",
       "    <tr>\n",
       "      <th>7</th>\n",
       "      <td>Добавить форму подписки на все основные страницы, чтобы собрать базу клиентов для email-рассылок</td>\n",
       "      <td>10</td>\n",
       "      <td>7</td>\n",
       "      <td>8</td>\n",
       "      <td>5</td>\n",
       "      <td>11.200000</td>\n",
       "      <td>112.0</td>\n",
       "    </tr>\n",
       "    <tr>\n",
       "      <th>2</th>\n",
       "      <td>Добавить блоки рекомендаций товаров на сайт интернет магазина, чтобы повысить конверсию и средний чек заказа</td>\n",
       "      <td>8</td>\n",
       "      <td>3</td>\n",
       "      <td>7</td>\n",
       "      <td>3</td>\n",
       "      <td>7.000000</td>\n",
       "      <td>56.0</td>\n",
       "    </tr>\n",
       "    <tr>\n",
       "      <th>0</th>\n",
       "      <td>Добавить два новых канала привлечения трафика, что позволит привлекать на 30% больше пользователей</td>\n",
       "      <td>3</td>\n",
       "      <td>10</td>\n",
       "      <td>8</td>\n",
       "      <td>6</td>\n",
       "      <td>13.333333</td>\n",
       "      <td>40.0</td>\n",
       "    </tr>\n",
       "    <tr>\n",
       "      <th>6</th>\n",
       "      <td>Показать на главной странице баннеры с актуальными акциями и распродажами, чтобы увеличить конверсию</td>\n",
       "      <td>5</td>\n",
       "      <td>3</td>\n",
       "      <td>8</td>\n",
       "      <td>3</td>\n",
       "      <td>8.000000</td>\n",
       "      <td>40.0</td>\n",
       "    </tr>\n",
       "    <tr>\n",
       "      <th>8</th>\n",
       "      <td>Запустить акцию, дающую скидку на товар в день рождения</td>\n",
       "      <td>1</td>\n",
       "      <td>9</td>\n",
       "      <td>9</td>\n",
       "      <td>5</td>\n",
       "      <td>16.200000</td>\n",
       "      <td>16.2</td>\n",
       "    </tr>\n",
       "    <tr>\n",
       "      <th>3</th>\n",
       "      <td>Изменить структура категорий, что увеличит конверсию, т.к. пользователи быстрее найдут нужный товар</td>\n",
       "      <td>8</td>\n",
       "      <td>3</td>\n",
       "      <td>3</td>\n",
       "      <td>8</td>\n",
       "      <td>1.125000</td>\n",
       "      <td>9.0</td>\n",
       "    </tr>\n",
       "    <tr>\n",
       "      <th>1</th>\n",
       "      <td>Запустить собственную службу доставки, что сократит срок доставки заказов</td>\n",
       "      <td>2</td>\n",
       "      <td>5</td>\n",
       "      <td>4</td>\n",
       "      <td>10</td>\n",
       "      <td>2.000000</td>\n",
       "      <td>4.0</td>\n",
       "    </tr>\n",
       "    <tr>\n",
       "      <th>5</th>\n",
       "      <td>Добавить страницу отзывов клиентов о магазине, что позволит увеличить количество заказов</td>\n",
       "      <td>3</td>\n",
       "      <td>2</td>\n",
       "      <td>2</td>\n",
       "      <td>3</td>\n",
       "      <td>1.333333</td>\n",
       "      <td>4.0</td>\n",
       "    </tr>\n",
       "    <tr>\n",
       "      <th>4</th>\n",
       "      <td>Изменить цвет фона главной страницы, чтобы увеличить вовлеченность пользователей</td>\n",
       "      <td>3</td>\n",
       "      <td>1</td>\n",
       "      <td>1</td>\n",
       "      <td>1</td>\n",
       "      <td>1.000000</td>\n",
       "      <td>3.0</td>\n",
       "    </tr>\n",
       "  </tbody>\n",
       "</table>\n",
       "</div>"
      ],
      "text/plain": [
       "                                                                                                     hypothesis  \\\n",
       "7              Добавить форму подписки на все основные страницы, чтобы собрать базу клиентов для email-рассылок   \n",
       "2  Добавить блоки рекомендаций товаров на сайт интернет магазина, чтобы повысить конверсию и средний чек заказа   \n",
       "0            Добавить два новых канала привлечения трафика, что позволит привлекать на 30% больше пользователей   \n",
       "6          Показать на главной странице баннеры с актуальными акциями и распродажами, чтобы увеличить конверсию   \n",
       "8                                                       Запустить акцию, дающую скидку на товар в день рождения   \n",
       "3           Изменить структура категорий, что увеличит конверсию, т.к. пользователи быстрее найдут нужный товар   \n",
       "1                                     Запустить собственную службу доставки, что сократит срок доставки заказов   \n",
       "5                      Добавить страницу отзывов клиентов о магазине, что позволит увеличить количество заказов   \n",
       "4                              Изменить цвет фона главной страницы, чтобы увеличить вовлеченность пользователей   \n",
       "\n",
       "   reach  impact  confidence  efforts        ice   rice  \n",
       "7     10       7           8        5  11.200000  112.0  \n",
       "2      8       3           7        3   7.000000   56.0  \n",
       "0      3      10           8        6  13.333333   40.0  \n",
       "6      5       3           8        3   8.000000   40.0  \n",
       "8      1       9           9        5  16.200000   16.2  \n",
       "3      8       3           3        8   1.125000    9.0  \n",
       "1      2       5           4       10   2.000000    4.0  \n",
       "5      3       2           2        3   1.333333    4.0  \n",
       "4      3       1           1        1   1.000000    3.0  "
      ]
     },
     "execution_count": 5,
     "metadata": {},
     "output_type": "execute_result"
    }
   ],
   "source": [
    "data['rice'] = (data['reach']*data['impact']*data['confidence'])/data['efforts']\n",
    "data = data.sort_values(by='rice', ascending=False)\n",
    "data"
   ]
  },
  {
   "cell_type": "markdown",
   "metadata": {},
   "source": [
    "Наиболее перспенктивные гипотезы по RICE с индексами: 7, 2, 0, 6. "
   ]
  },
  {
   "cell_type": "markdown",
   "metadata": {},
   "source": [
    "### Посмотрим, как изменилась приоритизация гипотез при применении RICE вместо ICE. \n",
    "\n",
    "Для этого построим график приоритезации гипотез для наглядности. Добавим 2 колонки с рейтингами RICE и ICE"
   ]
  },
  {
   "cell_type": "code",
   "execution_count": 6,
   "metadata": {},
   "outputs": [
    {
     "data": {
      "text/html": [
       "<div>\n",
       "<style scoped>\n",
       "    .dataframe tbody tr th:only-of-type {\n",
       "        vertical-align: middle;\n",
       "    }\n",
       "\n",
       "    .dataframe tbody tr th {\n",
       "        vertical-align: top;\n",
       "    }\n",
       "\n",
       "    .dataframe thead th {\n",
       "        text-align: right;\n",
       "    }\n",
       "</style>\n",
       "<table border=\"1\" class=\"dataframe\">\n",
       "  <thead>\n",
       "    <tr style=\"text-align: right;\">\n",
       "      <th></th>\n",
       "      <th>hypothesis</th>\n",
       "      <th>reach</th>\n",
       "      <th>impact</th>\n",
       "      <th>confidence</th>\n",
       "      <th>efforts</th>\n",
       "      <th>ice</th>\n",
       "      <th>rice</th>\n",
       "      <th>rating_ice</th>\n",
       "      <th>rating_rice</th>\n",
       "    </tr>\n",
       "  </thead>\n",
       "  <tbody>\n",
       "    <tr>\n",
       "      <th>7</th>\n",
       "      <td>Добавить форму подписки на все основные страницы, чтобы собрать базу клиентов для email-рассылок</td>\n",
       "      <td>10</td>\n",
       "      <td>7</td>\n",
       "      <td>8</td>\n",
       "      <td>5</td>\n",
       "      <td>11.200000</td>\n",
       "      <td>112.0</td>\n",
       "      <td>7.0</td>\n",
       "      <td>9.0</td>\n",
       "    </tr>\n",
       "    <tr>\n",
       "      <th>2</th>\n",
       "      <td>Добавить блоки рекомендаций товаров на сайт интернет магазина, чтобы повысить конверсию и средний чек заказа</td>\n",
       "      <td>8</td>\n",
       "      <td>3</td>\n",
       "      <td>7</td>\n",
       "      <td>3</td>\n",
       "      <td>7.000000</td>\n",
       "      <td>56.0</td>\n",
       "      <td>5.0</td>\n",
       "      <td>8.0</td>\n",
       "    </tr>\n",
       "    <tr>\n",
       "      <th>0</th>\n",
       "      <td>Добавить два новых канала привлечения трафика, что позволит привлекать на 30% больше пользователей</td>\n",
       "      <td>3</td>\n",
       "      <td>10</td>\n",
       "      <td>8</td>\n",
       "      <td>6</td>\n",
       "      <td>13.333333</td>\n",
       "      <td>40.0</td>\n",
       "      <td>8.0</td>\n",
       "      <td>6.0</td>\n",
       "    </tr>\n",
       "    <tr>\n",
       "      <th>6</th>\n",
       "      <td>Показать на главной странице баннеры с актуальными акциями и распродажами, чтобы увеличить конверсию</td>\n",
       "      <td>5</td>\n",
       "      <td>3</td>\n",
       "      <td>8</td>\n",
       "      <td>3</td>\n",
       "      <td>8.000000</td>\n",
       "      <td>40.0</td>\n",
       "      <td>6.0</td>\n",
       "      <td>7.0</td>\n",
       "    </tr>\n",
       "    <tr>\n",
       "      <th>8</th>\n",
       "      <td>Запустить акцию, дающую скидку на товар в день рождения</td>\n",
       "      <td>1</td>\n",
       "      <td>9</td>\n",
       "      <td>9</td>\n",
       "      <td>5</td>\n",
       "      <td>16.200000</td>\n",
       "      <td>16.2</td>\n",
       "      <td>9.0</td>\n",
       "      <td>5.0</td>\n",
       "    </tr>\n",
       "    <tr>\n",
       "      <th>3</th>\n",
       "      <td>Изменить структура категорий, что увеличит конверсию, т.к. пользователи быстрее найдут нужный товар</td>\n",
       "      <td>8</td>\n",
       "      <td>3</td>\n",
       "      <td>3</td>\n",
       "      <td>8</td>\n",
       "      <td>1.125000</td>\n",
       "      <td>9.0</td>\n",
       "      <td>2.0</td>\n",
       "      <td>4.0</td>\n",
       "    </tr>\n",
       "    <tr>\n",
       "      <th>1</th>\n",
       "      <td>Запустить собственную службу доставки, что сократит срок доставки заказов</td>\n",
       "      <td>2</td>\n",
       "      <td>5</td>\n",
       "      <td>4</td>\n",
       "      <td>10</td>\n",
       "      <td>2.000000</td>\n",
       "      <td>4.0</td>\n",
       "      <td>4.0</td>\n",
       "      <td>2.0</td>\n",
       "    </tr>\n",
       "    <tr>\n",
       "      <th>5</th>\n",
       "      <td>Добавить страницу отзывов клиентов о магазине, что позволит увеличить количество заказов</td>\n",
       "      <td>3</td>\n",
       "      <td>2</td>\n",
       "      <td>2</td>\n",
       "      <td>3</td>\n",
       "      <td>1.333333</td>\n",
       "      <td>4.0</td>\n",
       "      <td>3.0</td>\n",
       "      <td>3.0</td>\n",
       "    </tr>\n",
       "    <tr>\n",
       "      <th>4</th>\n",
       "      <td>Изменить цвет фона главной страницы, чтобы увеличить вовлеченность пользователей</td>\n",
       "      <td>3</td>\n",
       "      <td>1</td>\n",
       "      <td>1</td>\n",
       "      <td>1</td>\n",
       "      <td>1.000000</td>\n",
       "      <td>3.0</td>\n",
       "      <td>1.0</td>\n",
       "      <td>1.0</td>\n",
       "    </tr>\n",
       "  </tbody>\n",
       "</table>\n",
       "</div>"
      ],
      "text/plain": [
       "                                                                                                     hypothesis  \\\n",
       "7              Добавить форму подписки на все основные страницы, чтобы собрать базу клиентов для email-рассылок   \n",
       "2  Добавить блоки рекомендаций товаров на сайт интернет магазина, чтобы повысить конверсию и средний чек заказа   \n",
       "0            Добавить два новых канала привлечения трафика, что позволит привлекать на 30% больше пользователей   \n",
       "6          Показать на главной странице баннеры с актуальными акциями и распродажами, чтобы увеличить конверсию   \n",
       "8                                                       Запустить акцию, дающую скидку на товар в день рождения   \n",
       "3           Изменить структура категорий, что увеличит конверсию, т.к. пользователи быстрее найдут нужный товар   \n",
       "1                                     Запустить собственную службу доставки, что сократит срок доставки заказов   \n",
       "5                      Добавить страницу отзывов клиентов о магазине, что позволит увеличить количество заказов   \n",
       "4                              Изменить цвет фона главной страницы, чтобы увеличить вовлеченность пользователей   \n",
       "\n",
       "   reach  impact  confidence  efforts        ice   rice  rating_ice  \\\n",
       "7     10       7           8        5  11.200000  112.0         7.0   \n",
       "2      8       3           7        3   7.000000   56.0         5.0   \n",
       "0      3      10           8        6  13.333333   40.0         8.0   \n",
       "6      5       3           8        3   8.000000   40.0         6.0   \n",
       "8      1       9           9        5  16.200000   16.2         9.0   \n",
       "3      8       3           3        8   1.125000    9.0         2.0   \n",
       "1      2       5           4       10   2.000000    4.0         4.0   \n",
       "5      3       2           2        3   1.333333    4.0         3.0   \n",
       "4      3       1           1        1   1.000000    3.0         1.0   \n",
       "\n",
       "   rating_rice  \n",
       "7          9.0  \n",
       "2          8.0  \n",
       "0          6.0  \n",
       "6          7.0  \n",
       "8          5.0  \n",
       "3          4.0  \n",
       "1          2.0  \n",
       "5          3.0  \n",
       "4          1.0  "
      ]
     },
     "execution_count": 6,
     "metadata": {},
     "output_type": "execute_result"
    }
   ],
   "source": [
    "data['rating_ice'] = data['ice'].rank()\n",
    "data['rating_rice'] = data['rice'].rank(method='first')\n",
    "data"
   ]
  },
  {
   "cell_type": "code",
   "execution_count": 7,
   "metadata": {},
   "outputs": [
    {
     "data": {
      "image/png": "[encoded data removed]",
      "text/plain": [
       "<Figure size 1200x500 with 1 Axes>"
      ]
     },
     "metadata": {},
     "output_type": "display_data"
    }
   ],
   "source": [
    "data[['hypothesis', 'rating_ice', 'rating_rice']].plot(kind = 'bar', grid=True, figsize=(12, 5))\n",
    "plt.title(\"График приоритезации гипотез\")\n",
    "plt.xlabel(\"Индекс гипотезы\")\n",
    "plt.ylabel(\"Рейтинг ICE / RICE\")\n",
    "plt.show();"
   ]
  },
  {
   "cell_type": "markdown",
   "metadata": {},
   "source": [
    "При сравнении RICE с ICЕ будем отталкиваться от *Reach* (параметр, учитывающий скольких пользователей затронет изменение).\n",
    "Здесь в лидеры выбивается гипотеза с индексом 7 (гипотеза - **Добавить форму подписки на все основные страницы, чтобы собрать базу клиентов для email-рассылок**), т.к. *Reach* у нее 10, в то время как у других гипотез он меньше. На втором месте гипотеза с индексом 2 (гипотеза - **Добавить блоки рекомендаций товаров на сайт интернет магазина, чтобы повысить конверсию и средний чек заказа**), у нее также высокий параметр *Reach* равный 8 и небольшие затраты (*Efforts* равен 3). Гипотеза с индексом 8 (гипотеза - **Запустить акцию, дающую скидку на товар в день рождения**) имеет самый высокий рейтинг ICЕ, но ее *Reach* составляет всего лишь 1 и в рейтинге RICE всего лишь на 5-ом месте."
   ]
  },
  {
   "cell_type": "markdown",
   "metadata": {},
   "source": [
    "## 2 часть. Анализ A/B-теста"
   ]
  },
  {
   "cell_type": "markdown",
   "metadata": {},
   "source": [
    "### Построим график кумулятивной выручки по группам. \n",
    "\n",
    "Прочтём данные из файлов для второй части с результатами A/B-тестирования. Далее изучим данные и выполним предобработку, если это потребуется."
   ]
  },
  {
   "cell_type": "code",
   "execution_count": 8,
   "metadata": {},
   "outputs": [
    {
     "data": {
      "text/html": [
       "<div>\n",
       "<style scoped>\n",
       "    .dataframe tbody tr th:only-of-type {\n",
       "        vertical-align: middle;\n",
       "    }\n",
       "\n",
       "    .dataframe tbody tr th {\n",
       "        vertical-align: top;\n",
       "    }\n",
       "\n",
       "    .dataframe thead th {\n",
       "        text-align: right;\n",
       "    }\n",
       "</style>\n",
       "<table border=\"1\" class=\"dataframe\">\n",
       "  <thead>\n",
       "    <tr style=\"text-align: right;\">\n",
       "      <th></th>\n",
       "      <th>transactionId</th>\n",
       "      <th>visitorId</th>\n",
       "      <th>date</th>\n",
       "      <th>revenue</th>\n",
       "      <th>group</th>\n",
       "    </tr>\n",
       "  </thead>\n",
       "  <tbody>\n",
       "    <tr>\n",
       "      <th>0</th>\n",
       "      <td>3667963787</td>\n",
       "      <td>3312258926</td>\n",
       "      <td>2019-08-15</td>\n",
       "      <td>1650</td>\n",
       "      <td>B</td>\n",
       "    </tr>\n",
       "    <tr>\n",
       "      <th>1</th>\n",
       "      <td>2804400009</td>\n",
       "      <td>3642806036</td>\n",
       "      <td>2019-08-15</td>\n",
       "      <td>730</td>\n",
       "      <td>B</td>\n",
       "    </tr>\n",
       "    <tr>\n",
       "      <th>2</th>\n",
       "      <td>2961555356</td>\n",
       "      <td>4069496402</td>\n",
       "      <td>2019-08-15</td>\n",
       "      <td>400</td>\n",
       "      <td>A</td>\n",
       "    </tr>\n",
       "    <tr>\n",
       "      <th>3</th>\n",
       "      <td>3797467345</td>\n",
       "      <td>1196621759</td>\n",
       "      <td>2019-08-15</td>\n",
       "      <td>9759</td>\n",
       "      <td>B</td>\n",
       "    </tr>\n",
       "    <tr>\n",
       "      <th>4</th>\n",
       "      <td>2282983706</td>\n",
       "      <td>2322279887</td>\n",
       "      <td>2019-08-15</td>\n",
       "      <td>2308</td>\n",
       "      <td>B</td>\n",
       "    </tr>\n",
       "  </tbody>\n",
       "</table>\n",
       "</div>"
      ],
      "text/plain": [
       "   transactionId   visitorId        date  revenue group\n",
       "0     3667963787  3312258926  2019-08-15     1650     B\n",
       "1     2804400009  3642806036  2019-08-15      730     B\n",
       "2     2961555356  4069496402  2019-08-15      400     A\n",
       "3     3797467345  1196621759  2019-08-15     9759     B\n",
       "4     2282983706  2322279887  2019-08-15     2308     B"
      ]
     },
     "metadata": {},
     "output_type": "display_data"
    },
    {
     "name": "stdout",
     "output_type": "stream",
     "text": [
      "<class 'pandas.core.frame.DataFrame'>\n",
      "RangeIndex: 1197 entries, 0 to 1196\n",
      "Data columns (total 5 columns):\n",
      " #   Column         Non-Null Count  Dtype \n",
      "---  ------         --------------  ----- \n",
      " 0   transactionId  1197 non-null   int64 \n",
      " 1   visitorId      1197 non-null   int64 \n",
      " 2   date           1197 non-null   object\n",
      " 3   revenue        1197 non-null   int64 \n",
      " 4   group          1197 non-null   object\n",
      "dtypes: int64(3), object(2)\n",
      "memory usage: 46.9+ KB\n"
     ]
    },
    {
     "data": {
      "text/plain": [
       "None"
      ]
     },
     "metadata": {},
     "output_type": "display_data"
    },
    {
     "name": "stdout",
     "output_type": "stream",
     "text": [
      "Количество дубликатов: 0\n"
     ]
    }
   ],
   "source": [
    "# читаем файл\n",
    "orders = pd.read_csv('')\n",
    "\n",
    "# посмотрим на содержимое таблицы, общую информацию и проверим на дубликаты\n",
    "display(orders.head())\n",
    "display(orders.info())\n",
    "print('Количество дубликатов:', orders.duplicated().sum())"
   ]
  },
  {
   "cell_type": "code",
   "execution_count": 9,
   "metadata": {},
   "outputs": [
    {
     "data": {
      "text/html": [
       "<div>\n",
       "<style scoped>\n",
       "    .dataframe tbody tr th:only-of-type {\n",
       "        vertical-align: middle;\n",
       "    }\n",
       "\n",
       "    .dataframe tbody tr th {\n",
       "        vertical-align: top;\n",
       "    }\n",
       "\n",
       "    .dataframe thead th {\n",
       "        text-align: right;\n",
       "    }\n",
       "</style>\n",
       "<table border=\"1\" class=\"dataframe\">\n",
       "  <thead>\n",
       "    <tr style=\"text-align: right;\">\n",
       "      <th></th>\n",
       "      <th>date</th>\n",
       "      <th>group</th>\n",
       "      <th>visitors</th>\n",
       "    </tr>\n",
       "  </thead>\n",
       "  <tbody>\n",
       "    <tr>\n",
       "      <th>0</th>\n",
       "      <td>2019-08-01</td>\n",
       "      <td>A</td>\n",
       "      <td>719</td>\n",
       "    </tr>\n",
       "    <tr>\n",
       "      <th>1</th>\n",
       "      <td>2019-08-02</td>\n",
       "      <td>A</td>\n",
       "      <td>619</td>\n",
       "    </tr>\n",
       "    <tr>\n",
       "      <th>2</th>\n",
       "      <td>2019-08-03</td>\n",
       "      <td>A</td>\n",
       "      <td>507</td>\n",
       "    </tr>\n",
       "    <tr>\n",
       "      <th>3</th>\n",
       "      <td>2019-08-04</td>\n",
       "      <td>A</td>\n",
       "      <td>717</td>\n",
       "    </tr>\n",
       "    <tr>\n",
       "      <th>4</th>\n",
       "      <td>2019-08-05</td>\n",
       "      <td>A</td>\n",
       "      <td>756</td>\n",
       "    </tr>\n",
       "  </tbody>\n",
       "</table>\n",
       "</div>"
      ],
      "text/plain": [
       "         date group  visitors\n",
       "0  2019-08-01     A       719\n",
       "1  2019-08-02     A       619\n",
       "2  2019-08-03     A       507\n",
       "3  2019-08-04     A       717\n",
       "4  2019-08-05     A       756"
      ]
     },
     "metadata": {},
     "output_type": "display_data"
    },
    {
     "name": "stdout",
     "output_type": "stream",
     "text": [
      "<class 'pandas.core.frame.DataFrame'>\n",
      "RangeIndex: 62 entries, 0 to 61\n",
      "Data columns (total 3 columns):\n",
      " #   Column    Non-Null Count  Dtype \n",
      "---  ------    --------------  ----- \n",
      " 0   date      62 non-null     object\n",
      " 1   group     62 non-null     object\n",
      " 2   visitors  62 non-null     int64 \n",
      "dtypes: int64(1), object(2)\n",
      "memory usage: 1.6+ KB\n"
     ]
    },
    {
     "data": {
      "text/plain": [
       "None"
      ]
     },
     "metadata": {},
     "output_type": "display_data"
    },
    {
     "name": "stdout",
     "output_type": "stream",
     "text": [
      "Количество дубликатов: 0\n"
     ]
    }
   ],
   "source": [
    "# читаем файл\n",
    "visitors = pd.read_csv('')\n",
    "\n",
    "# посмотрим на содержимое таблицы и общую информацию\n",
    "display(visitors.head())\n",
    "display(visitors.info())\n",
    "print('Количество дубликатов:', visitors.duplicated().sum())"
   ]
  },
  {
   "cell_type": "code",
   "execution_count": 10,
   "metadata": {},
   "outputs": [],
   "source": [
    "# приведем колонки с датами в таблицах к нужному типу\n",
    "orders['date'] = orders['date'].map(lambda x: dt.datetime.strptime(x, '%Y-%m-%d'))\n",
    "visitors['date'] = visitors['date'].map(lambda x: dt.datetime.strptime(x, '%Y-%m-%d'))"
   ]
  },
  {
   "cell_type": "markdown",
   "metadata": {},
   "source": [
    "Проверим, попадают ли какие-то пользователи в обе группы в таблице с заказами?"
   ]
  },
  {
   "cell_type": "code",
   "execution_count": 11,
   "metadata": {},
   "outputs": [
    {
     "data": {
      "text/html": [
       "<div>\n",
       "<style scoped>\n",
       "    .dataframe tbody tr th:only-of-type {\n",
       "        vertical-align: middle;\n",
       "    }\n",
       "\n",
       "    .dataframe tbody tr th {\n",
       "        vertical-align: top;\n",
       "    }\n",
       "\n",
       "    .dataframe thead th {\n",
       "        text-align: right;\n",
       "    }\n",
       "</style>\n",
       "<table border=\"1\" class=\"dataframe\">\n",
       "  <thead>\n",
       "    <tr style=\"text-align: right;\">\n",
       "      <th></th>\n",
       "      <th>group</th>\n",
       "    </tr>\n",
       "    <tr>\n",
       "      <th>visitorId</th>\n",
       "      <th></th>\n",
       "    </tr>\n",
       "  </thead>\n",
       "  <tbody>\n",
       "    <tr>\n",
       "      <th>5114589</th>\n",
       "      <td>1</td>\n",
       "    </tr>\n",
       "    <tr>\n",
       "      <th>6958315</th>\n",
       "      <td>1</td>\n",
       "    </tr>\n",
       "    <tr>\n",
       "      <th>8300375</th>\n",
       "      <td>2</td>\n",
       "    </tr>\n",
       "  </tbody>\n",
       "</table>\n",
       "</div>"
      ],
      "text/plain": [
       "           group\n",
       "visitorId       \n",
       "5114589        1\n",
       "6958315        1\n",
       "8300375        2"
      ]
     },
     "metadata": {},
     "output_type": "display_data"
    },
    {
     "name": "stdout",
     "output_type": "stream",
     "text": [
      "Общее количество пользователей в group    1031\n",
      "dtype: int64\n",
      "Количество пользователей, которые попали в обе group    58\n",
      "dtype: int64\n"
     ]
    }
   ],
   "source": [
    "group_ab = orders.pivot_table(index='visitorId', values='group', aggfunc='nunique')\n",
    "display(group_ab.head(3))\n",
    "print('Общее количество пользователей в', group_ab.query('group != 0').count())\n",
    "print('Количество пользователей, которые попали в обе', group_ab.query('group > 1').count())"
   ]
  },
  {
   "cell_type": "markdown",
   "metadata": {},
   "source": [
    "Всего 58 пользователей попали в обе группы. Их количество мало, удалять не будем, на анализ не повлияет."
   ]
  },
  {
   "cell_type": "markdown",
   "metadata": {},
   "source": [
    "Чтобы построить графики, соберем кумулятивные данные. \n",
    "<br>Для этого объявим датафрейм `cumulativeData` со столбцами: \n",
    "<br>`date` — дата;\n",
    "<br>`group` — группа A/B-теста (A или B);\n",
    "<br>`orders` — кумулятивное количество заказов на указанную дату в указанной группе;\n",
    "<br>`buyers` — кумулятивное количество пользователей, совершивших хотя бы один заказ, на указанную дату в указанной группе;\n",
    "<br>`revenue` — кумулятивная выручка на указанную дату в указанной группе (средний чек);\n",
    "<br>`visitors` — кумулятивное количество посетителей интернет-магазина на указанную дату в определённой группе."
   ]
  },
  {
   "cell_type": "code",
   "execution_count": 12,
   "metadata": {},
   "outputs": [
    {
     "data": {
      "text/html": [
       "<div>\n",
       "<style scoped>\n",
       "    .dataframe tbody tr th:only-of-type {\n",
       "        vertical-align: middle;\n",
       "    }\n",
       "\n",
       "    .dataframe tbody tr th {\n",
       "        vertical-align: top;\n",
       "    }\n",
       "\n",
       "    .dataframe thead th {\n",
       "        text-align: right;\n",
       "    }\n",
       "</style>\n",
       "<table border=\"1\" class=\"dataframe\">\n",
       "  <thead>\n",
       "    <tr style=\"text-align: right;\">\n",
       "      <th></th>\n",
       "      <th>date</th>\n",
       "      <th>group</th>\n",
       "      <th>orders</th>\n",
       "      <th>buyers</th>\n",
       "      <th>revenue</th>\n",
       "      <th>visitors</th>\n",
       "    </tr>\n",
       "  </thead>\n",
       "  <tbody>\n",
       "    <tr>\n",
       "      <th>0</th>\n",
       "      <td>2019-08-01</td>\n",
       "      <td>A</td>\n",
       "      <td>24</td>\n",
       "      <td>20</td>\n",
       "      <td>148579</td>\n",
       "      <td>719</td>\n",
       "    </tr>\n",
       "    <tr>\n",
       "      <th>1</th>\n",
       "      <td>2019-08-01</td>\n",
       "      <td>B</td>\n",
       "      <td>21</td>\n",
       "      <td>20</td>\n",
       "      <td>101217</td>\n",
       "      <td>713</td>\n",
       "    </tr>\n",
       "    <tr>\n",
       "      <th>2</th>\n",
       "      <td>2019-08-02</td>\n",
       "      <td>A</td>\n",
       "      <td>44</td>\n",
       "      <td>38</td>\n",
       "      <td>242401</td>\n",
       "      <td>1338</td>\n",
       "    </tr>\n",
       "    <tr>\n",
       "      <th>3</th>\n",
       "      <td>2019-08-02</td>\n",
       "      <td>B</td>\n",
       "      <td>45</td>\n",
       "      <td>43</td>\n",
       "      <td>266748</td>\n",
       "      <td>1294</td>\n",
       "    </tr>\n",
       "    <tr>\n",
       "      <th>4</th>\n",
       "      <td>2019-08-03</td>\n",
       "      <td>A</td>\n",
       "      <td>68</td>\n",
       "      <td>62</td>\n",
       "      <td>354874</td>\n",
       "      <td>1845</td>\n",
       "    </tr>\n",
       "  </tbody>\n",
       "</table>\n",
       "</div>"
      ],
      "text/plain": [
       "        date group  orders  buyers  revenue  visitors\n",
       "0 2019-08-01     A      24      20   148579       719\n",
       "1 2019-08-01     B      21      20   101217       713\n",
       "2 2019-08-02     A      44      38   242401      1338\n",
       "3 2019-08-02     B      45      43   266748      1294\n",
       "4 2019-08-03     A      68      62   354874      1845"
      ]
     },
     "execution_count": 12,
     "metadata": {},
     "output_type": "execute_result"
    }
   ],
   "source": [
    "# создаем массив уникальных пар значений дат и групп теста\n",
    "datesGroups = orders[['date','group']].drop_duplicates() \n",
    "\n",
    "# получаем агрегированные кумулятивные по дням данные о заказах \n",
    "ordersAggregated = (\n",
    "    datesGroups.apply(lambda x: orders[np.logical_and(orders['date'] <= x['date'], orders['group'] == x['group'])]\n",
    "    .agg({'date' : 'max', 'group' : 'max', 'transactionId' : 'nunique', 'visitorId' : 'nunique', 'revenue' : 'sum'}), axis=1)\n",
    "    .sort_values(by=['date','group'])\n",
    ")\n",
    "\n",
    "# получаем агрегированные кумулятивные по дням данные о посетителях интернет-магазина \n",
    "visitorsAggregated = (\n",
    "    datesGroups.apply(lambda x: visitors[np.logical_and(visitors['date'] <= x['date'], visitors['group'] == x['group'])]\n",
    "    .agg({'date' : 'max', 'group' : 'max', 'visitors' : 'sum'}), axis=1)\n",
    "    .sort_values(by=['date','group'])\n",
    ")\n",
    "\n",
    "# объединяем кумулятивные данные в одной таблице и присваиваем ее столбцам понятные названия\n",
    "cumulativeData = ordersAggregated.merge(visitorsAggregated, left_on=['date', 'group'], right_on=['date', 'group'])\n",
    "cumulativeData.columns = ['date', 'group', 'orders', 'buyers', 'revenue', 'visitors']\n",
    "\n",
    "# выведем на экран несколько строк таблицы\n",
    "cumulativeData.head()"
   ]
  },
  {
   "cell_type": "markdown",
   "metadata": {},
   "source": [
    "Построим графики кумулятивной выручки по дням и группам A/B-тестирования."
   ]
  },
  {
   "cell_type": "code",
   "execution_count": 13,
   "metadata": {},
   "outputs": [
    {
     "data": {
      "image/png": "[encoded data removed]",
      "text/plain": [
       "<Figure size 1300x500 with 1 Axes>"
      ]
     },
     "metadata": {},
     "output_type": "display_data"
    }
   ],
   "source": [
    "# получаем датафреймы с кумулятивным количеством заказов и кумулятивной выручкой по дням в группах А и В\n",
    "cumulativeRevenueA = cumulativeData[cumulativeData['group']=='A'][['date','revenue', 'orders']]\n",
    "cumulativeRevenueB = cumulativeData[cumulativeData['group']=='B'][['date','revenue', 'orders']]\n",
    "\n",
    "# строим график выручки групп А и В\n",
    "plt.figure(figsize=(13,5))\n",
    "plt.plot(cumulativeRevenueA['date'], cumulativeRevenueA['revenue'], label='A')\n",
    "plt.plot(cumulativeRevenueB['date'], cumulativeRevenueB['revenue'], label='B')\n",
    "plt.title(\"График кумулятивной выручки по дням и группам\")\n",
    "plt.ylabel('Выручка')\n",
    "plt.xlabel('Дата')\n",
    "plt.grid()\n",
    "plt.legend();"
   ]
  },
  {
   "cell_type": "markdown",
   "metadata": {},
   "source": [
    "Видим, что выручки обоих групп на протяжении всего теста растут. На старте выручка по группам практически одинаковая. После 05.08.2019 выручка в группе В начинает лидировать на всем промежутке теста, за исключением 13.08.2019, когда они пересекаются. Также видим всплеск 19.08.2019 в группе В, после чего данная группа становится абсолютным лидером до завершения теста. Это может сигнализировать о большом количестве заказов, либо о появлении очень дорогих заказов в выборке. "
   ]
  },
  {
   "cell_type": "markdown",
   "metadata": {},
   "source": [
    "### Построим график кумулятивного среднего чека по группам. \n",
    "<br> Для этого разделим кумулятивную выручку на кумулятивное число заказов."
   ]
  },
  {
   "cell_type": "code",
   "execution_count": 14,
   "metadata": {},
   "outputs": [
    {
     "data": {
      "image/png": "[encoded data removed]",
      "text/plain": [
       "<Figure size 1300x500 with 1 Axes>"
      ]
     },
     "metadata": {},
     "output_type": "display_data"
    }
   ],
   "source": [
    "plt.figure(figsize=(13,5))\n",
    "plt.plot(cumulativeRevenueA['date'], cumulativeRevenueA['revenue']/cumulativeRevenueA['orders'], label='A')\n",
    "plt.plot(cumulativeRevenueB['date'], cumulativeRevenueB['revenue']/cumulativeRevenueB['orders'], label='B')\n",
    "plt.title(\"График кумулятивного среднего чека по группам\")\n",
    "plt.ylabel('Средний чек')\n",
    "plt.xlabel('Дата')\n",
    "plt.grid()\n",
    "plt.legend();"
   ]
  },
  {
   "cell_type": "markdown",
   "metadata": {},
   "source": [
    "Средний чек группы А становится равномерным ближе к концу теста. В начале месяца он падает, затем растет и далее более менее стабилизируется, достигает пика 13.08.2019, когда он выше, чем у группы В.\n",
    "<br>У группы В средний чек волнообразный. Имеет огромный скачек 19.08.2019, значит попали крупные заказы. Тогда ей нужно больше данных, чтобы прийти к реальному среднему чеку и установиться на его уровне."
   ]
  },
  {
   "cell_type": "markdown",
   "metadata": {},
   "source": [
    "### Построим график относительного изменения кумулятивного среднего чека группы B к группе A."
   ]
  },
  {
   "cell_type": "code",
   "execution_count": 15,
   "metadata": {},
   "outputs": [
    {
     "data": {
      "image/png": "[encoded data removed]",
      "text/plain": [
       "<Figure size 1300x600 with 1 Axes>"
      ]
     },
     "metadata": {},
     "output_type": "display_data"
    }
   ],
   "source": [
    "# собираем данные в одном датафрейме\n",
    "mergedCumulativeRevenue = (\n",
    "    cumulativeRevenueA.merge(cumulativeRevenueB, left_on='date', right_on='date', how='left', suffixes=['A', 'B'])\n",
    ")\n",
    "\n",
    "# cтроим отношение средних чеков\n",
    "plt.figure(figsize=(13,6))\n",
    "(\n",
    "    plt.plot(mergedCumulativeRevenue['date'], \n",
    "            (mergedCumulativeRevenue['revenueB']/mergedCumulativeRevenue['ordersB'])/\n",
    "            (mergedCumulativeRevenue['revenueA']/mergedCumulativeRevenue['ordersA'])-1)\n",
    ")\n",
    "\n",
    "# добавляем ось X\n",
    "plt.axhline(y=0, color='black', linestyle='--') \n",
    "\n",
    "plt.title(\"График относительного изменения кумулятивного среднего чека группы B к группе A\")\n",
    "plt.ylabel('Относительное изменение кумулятивного среднего чека')\n",
    "plt.xlabel('Дата')\n",
    "plt.grid(); "
   ]
  },
  {
   "cell_type": "markdown",
   "metadata": {},
   "source": [
    "В нескольких точках график различия между сегментами резко «скачет». Где-то точно спрятались крупные заказы и выбросы! Найдём их позже."
   ]
  },
  {
   "cell_type": "markdown",
   "metadata": {},
   "source": [
    "### Построим график кумулятивного среднего количества заказов на посетителя по группам. "
   ]
  },
  {
   "cell_type": "code",
   "execution_count": 16,
   "metadata": {},
   "outputs": [
    {
     "data": {
      "image/png": "[encoded data removed]",
      "text/plain": [
       "<Figure size 1300x500 with 1 Axes>"
      ]
     },
     "metadata": {},
     "output_type": "display_data"
    }
   ],
   "source": [
    "# получаем датафреймы с кумулятивными количествами заказов и посетителей по дням в группах А и В\n",
    "cumulativeOrdersA = cumulativeData[cumulativeData['group']=='A'][['date','visitors', 'orders']]\n",
    "cumulativeOrdersB = cumulativeData[cumulativeData['group']=='B'][['date','visitors', 'orders']]\n",
    "\n",
    "# строим график среднего количества заказов на посетителя групп А и В\n",
    "plt.figure(figsize=(13,5))\n",
    "plt.plot(cumulativeOrdersA['date'], cumulativeOrdersA['orders']/cumulativeOrdersA['visitors'], label='A')\n",
    "plt.plot(cumulativeOrdersB['date'], cumulativeOrdersB['orders']/cumulativeOrdersB['visitors'], label='B')\n",
    "plt.title(\"График кумулятивного среднего количества заказов на посетителя по группам\")\n",
    "plt.ylabel('Среднее количество заказов на посетителя')\n",
    "plt.xlabel('Дата')\n",
    "plt.grid()\n",
    "plt.legend();"
   ]
  },
  {
   "cell_type": "markdown",
   "metadata": {},
   "source": [
    "Видим, что в целом среднее количество заказов на посетителя в группах выровнялись со второй недели теста.\n",
    "В самом начале теста среднее количество заказов в группе А было выше (03.08.2019), далее резкое падение и стабилизация до конца теста. \n",
    "В группе В с начала теста был взлет потом падение 04.08.2019, далее подъм и стабилизация, не смотря на колебания на всем промежутке теста. Начиная с 06.08.2019 среднее количество заказов на посетителя в группе В и до конца теста выше, чем в группе А. "
   ]
  },
  {
   "cell_type": "markdown",
   "metadata": {},
   "source": [
    "### Построим график относительного изменения кумулятивного среднего количества заказов на посетителя группы B к группе A. "
   ]
  },
  {
   "cell_type": "code",
   "execution_count": 17,
   "metadata": {},
   "outputs": [
    {
     "data": {
      "image/png": "[encoded data removed]",
      "text/plain": [
       "<Figure size 1500x800 with 1 Axes>"
      ]
     },
     "metadata": {},
     "output_type": "display_data"
    }
   ],
   "source": [
    "# собираем данные в одном датафрейме\n",
    "mergeCumulativeOrders = (\n",
    "    cumulativeOrdersA.merge(cumulativeOrdersB, left_on='date', right_on='date', how='left', suffixes=['A', 'B'])\n",
    ")\n",
    "\n",
    "# cтроим отношение среднего количества заказов на посетителя\n",
    "plt.figure(figsize=(15,8))\n",
    "(\n",
    "    plt.plot(mergeCumulativeOrders['date'], \n",
    "            (mergeCumulativeOrders['ordersB']/mergeCumulativeOrders['visitorsB'])/\n",
    "            (mergeCumulativeOrders['ordersA']/mergeCumulativeOrders['visitorsA'])-1)\n",
    ")\n",
    "\n",
    "# добавляем ось X\n",
    "plt.axhline(y=0, color='black', linestyle='--') \n",
    "plt.axhline(y=0.1, color='grey', linestyle='--')\n",
    "\n",
    "plt.title(\"График относительного изменения кумулятивного среднего количества заказов на посетителя группы B к группе A\")\n",
    "plt.ylabel('Относительное изменение кумулятивного среднего количества заказов на посетителя', fontsize=9)\n",
    "plt.xlabel('Дата')\n",
    "plt.grid(); "
   ]
  },
  {
   "cell_type": "markdown",
   "metadata": {},
   "source": [
    "В начале теста группа B значительно проигрывала группе A, затем вырвалась вперёд со второй недели и до конца теста. Прирост среднего количества заказов на посетителя группы B к группе A колеблется на этом промежутке, 15-20% со второй недели и 10-13 с третьей недели и до конца теста."
   ]
  },
  {
   "cell_type": "markdown",
   "metadata": {},
   "source": [
    "### Постром точечный график количества заказов по пользователям. "
   ]
  },
  {
   "cell_type": "code",
   "execution_count": 18,
   "metadata": {},
   "outputs": [
    {
     "data": {
      "text/html": [
       "<div>\n",
       "<style scoped>\n",
       "    .dataframe tbody tr th:only-of-type {\n",
       "        vertical-align: middle;\n",
       "    }\n",
       "\n",
       "    .dataframe tbody tr th {\n",
       "        vertical-align: top;\n",
       "    }\n",
       "\n",
       "    .dataframe thead th {\n",
       "        text-align: right;\n",
       "    }\n",
       "</style>\n",
       "<table border=\"1\" class=\"dataframe\">\n",
       "  <thead>\n",
       "    <tr style=\"text-align: right;\">\n",
       "      <th></th>\n",
       "      <th>transactionId</th>\n",
       "      <th>visitorId</th>\n",
       "      <th>date</th>\n",
       "      <th>revenue</th>\n",
       "      <th>group</th>\n",
       "    </tr>\n",
       "  </thead>\n",
       "  <tbody>\n",
       "    <tr>\n",
       "      <th>0</th>\n",
       "      <td>3667963787</td>\n",
       "      <td>3312258926</td>\n",
       "      <td>2019-08-15</td>\n",
       "      <td>1650</td>\n",
       "      <td>B</td>\n",
       "    </tr>\n",
       "    <tr>\n",
       "      <th>1</th>\n",
       "      <td>2804400009</td>\n",
       "      <td>3642806036</td>\n",
       "      <td>2019-08-15</td>\n",
       "      <td>730</td>\n",
       "      <td>B</td>\n",
       "    </tr>\n",
       "    <tr>\n",
       "      <th>2</th>\n",
       "      <td>2961555356</td>\n",
       "      <td>4069496402</td>\n",
       "      <td>2019-08-15</td>\n",
       "      <td>400</td>\n",
       "      <td>A</td>\n",
       "    </tr>\n",
       "    <tr>\n",
       "      <th>3</th>\n",
       "      <td>3797467345</td>\n",
       "      <td>1196621759</td>\n",
       "      <td>2019-08-15</td>\n",
       "      <td>9759</td>\n",
       "      <td>B</td>\n",
       "    </tr>\n",
       "    <tr>\n",
       "      <th>4</th>\n",
       "      <td>2282983706</td>\n",
       "      <td>2322279887</td>\n",
       "      <td>2019-08-15</td>\n",
       "      <td>2308</td>\n",
       "      <td>B</td>\n",
       "    </tr>\n",
       "  </tbody>\n",
       "</table>\n",
       "</div>"
      ],
      "text/plain": [
       "   transactionId   visitorId       date  revenue group\n",
       "0     3667963787  3312258926 2019-08-15     1650     B\n",
       "1     2804400009  3642806036 2019-08-15      730     B\n",
       "2     2961555356  4069496402 2019-08-15      400     A\n",
       "3     3797467345  1196621759 2019-08-15     9759     B\n",
       "4     2282983706  2322279887 2019-08-15     2308     B"
      ]
     },
     "execution_count": 18,
     "metadata": {},
     "output_type": "execute_result"
    }
   ],
   "source": [
    "orders.head()"
   ]
  },
  {
   "cell_type": "code",
   "execution_count": 19,
   "metadata": {},
   "outputs": [
    {
     "data": {
      "text/html": [
       "<div>\n",
       "<style scoped>\n",
       "    .dataframe tbody tr th:only-of-type {\n",
       "        vertical-align: middle;\n",
       "    }\n",
       "\n",
       "    .dataframe tbody tr th {\n",
       "        vertical-align: top;\n",
       "    }\n",
       "\n",
       "    .dataframe thead th {\n",
       "        text-align: right;\n",
       "    }\n",
       "</style>\n",
       "<table border=\"1\" class=\"dataframe\">\n",
       "  <thead>\n",
       "    <tr style=\"text-align: right;\">\n",
       "      <th></th>\n",
       "      <th>userId</th>\n",
       "      <th>orders</th>\n",
       "    </tr>\n",
       "  </thead>\n",
       "  <tbody>\n",
       "    <tr>\n",
       "      <th>1023</th>\n",
       "      <td>4256040402</td>\n",
       "      <td>11</td>\n",
       "    </tr>\n",
       "    <tr>\n",
       "      <th>591</th>\n",
       "      <td>2458001652</td>\n",
       "      <td>11</td>\n",
       "    </tr>\n",
       "    <tr>\n",
       "      <th>569</th>\n",
       "      <td>2378935119</td>\n",
       "      <td>9</td>\n",
       "    </tr>\n",
       "    <tr>\n",
       "      <th>487</th>\n",
       "      <td>2038680547</td>\n",
       "      <td>8</td>\n",
       "    </tr>\n",
       "    <tr>\n",
       "      <th>44</th>\n",
       "      <td>199603092</td>\n",
       "      <td>5</td>\n",
       "    </tr>\n",
       "  </tbody>\n",
       "</table>\n",
       "</div>"
      ],
      "text/plain": [
       "          userId  orders\n",
       "1023  4256040402      11\n",
       "591   2458001652      11\n",
       "569   2378935119       9\n",
       "487   2038680547       8\n",
       "44     199603092       5"
      ]
     },
     "execution_count": 19,
     "metadata": {},
     "output_type": "execute_result"
    }
   ],
   "source": [
    "# подсчитаем количество заказов по пользователям\n",
    "ordersByUsers = (\n",
    "    orders.groupby('visitorId', as_index=False)\n",
    "    .agg({'transactionId': 'nunique'})\n",
    ")\n",
    "# присваиваем столбцам понятные названия\n",
    "ordersByUsers.columns = ['userId', 'orders']\n",
    "\n",
    "# выведем на экран по убыванию количества заказов\n",
    "ordersByUsers.sort_values(by='orders', ascending=False).head()"
   ]
  },
  {
   "cell_type": "code",
   "execution_count": 20,
   "metadata": {},
   "outputs": [
    {
     "data": {
      "image/png": "[encoded data removed]",
      "text/plain": [
       "<Figure size 1500x600 with 1 Axes>"
      ]
     },
     "metadata": {},
     "output_type": "display_data"
    }
   ],
   "source": [
    "# серия из чисел от 0 до количества наблюдений в ordersByUsers\n",
    "x_values = pd.Series(range(0, len(ordersByUsers)))\n",
    "\n",
    "plt.figure(figsize=(15,6))\n",
    "plt.scatter(x_values, ordersByUsers['orders'])\n",
    "plt.title(\"Точечный график количества заказов по пользователям\")\n",
    "plt.ylabel('Количество заказов')\n",
    "plt.xlabel('Пользователи')\n",
    "plt.grid();"
   ]
  },
  {
   "cell_type": "markdown",
   "metadata": {},
   "source": [
    "Из графика видно, что большинство пользователей заказывают 1 заказ, но есть и те, которые заказывают от 2 до 5.\n",
    "<br>Построим гистрограмму распределения количества заказов на одного пользователя."
   ]
  },
  {
   "cell_type": "code",
   "execution_count": 21,
   "metadata": {},
   "outputs": [
    {
     "data": {
      "image/png": "[encoded data removed]",
      "text/plain": [
       "<Figure size 1300x600 with 1 Axes>"
      ]
     },
     "metadata": {},
     "output_type": "display_data"
    }
   ],
   "source": [
    "plt.figure(figsize=(13,6))\n",
    "plt.hist(ordersByUsers['orders'])\n",
    "plt.title(\"Гистограмма количества заказов по пользователям\")\n",
    "plt.ylabel('Пользователи')\n",
    "plt.xlabel('Количество заказов')\n",
    "plt.grid();"
   ]
  },
  {
   "cell_type": "markdown",
   "metadata": {},
   "source": [
    "Так и есть, львиная доля заказывает 1 раз, 2-3 раза уже доля пользователей минимальна, остальных можно не брать в расчет."
   ]
  },
  {
   "cell_type": "markdown",
   "metadata": {},
   "source": [
    "### Посчитаем 95-й и 99-й перцентили количества заказов на пользователя и выберем границу для определения аномальных пользователей."
   ]
  },
  {
   "cell_type": "code",
   "execution_count": 22,
   "metadata": {},
   "outputs": [
    {
     "name": "stdout",
     "output_type": "stream",
     "text": [
      "Количество заказов у 5% пользователей составляет: 2.0\n",
      "Количество заказов у 1% пользователей составляет: 4.0\n"
     ]
    }
   ],
   "source": [
    "print('Количество заказов у 5% пользователей составляет:', np.percentile(ordersByUsers['orders'], 95))\n",
    "print('Количество заказов у 1% пользователей составляет:', np.percentile(ordersByUsers['orders'], 99))"
   ]
  },
  {
   "cell_type": "markdown",
   "metadata": {},
   "source": [
    "2 заказа оформляют 5% пользователей и только 1% больше 4-х. Выберем 2 заказа на одного пользователя за нижнюю границу числа заказов, и отсеим аномальных пользователей по ней.  "
   ]
  },
  {
   "cell_type": "markdown",
   "metadata": {},
   "source": [
    "### Построим точечный график стоимостей заказов. "
   ]
  },
  {
   "cell_type": "code",
   "execution_count": 23,
   "metadata": {},
   "outputs": [
    {
     "data": {
      "image/png": "[encoded data removed]",
      "text/plain": [
       "<Figure size 1500x600 with 1 Axes>"
      ]
     },
     "metadata": {},
     "output_type": "display_data"
    }
   ],
   "source": [
    "x_values = pd.Series(range(0, len(orders['revenue'])))\n",
    "\n",
    "plt.figure(figsize=(15,6))\n",
    "plt.scatter(x_values, orders['revenue'])\n",
    "plt.title(\"Точечный график стоимостей заказов\")\n",
    "plt.ylabel('Стоимость заказов')\n",
    "plt.xlabel('Пользователи')\n",
    "plt.grid();"
   ]
  },
  {
   "cell_type": "markdown",
   "metadata": {},
   "source": [
    "Присутствуют 2 аномальных заказа на 1,2 млн. руб. и на 200 тыс.руб., остальные заказы не превышают 100 тыс.руб. Уберем эти выбросы и построим более наглядный график, ограничившись заказами до 100 тыс.руб."
   ]
  },
  {
   "cell_type": "code",
   "execution_count": 24,
   "metadata": {},
   "outputs": [
    {
     "data": {
      "image/png": "[encoded data removed]",
      "text/plain": [
       "<Figure size 1500x600 with 1 Axes>"
      ]
     },
     "metadata": {},
     "output_type": "display_data"
    }
   ],
   "source": [
    "plt.figure(figsize=(15,6))\n",
    "plt.scatter(x_values, orders['revenue'])\n",
    "plt.ylim(0, 100000)\n",
    "plt.title(\"Точечный график стоимостей заказов\")\n",
    "plt.ylabel('Стоимость заказов')\n",
    "plt.xlabel('Пользователи')\n",
    "plt.grid();"
   ]
  },
  {
   "cell_type": "markdown",
   "metadata": {},
   "source": [
    "Большинство заказов сосредоточено до 30 тыс.руб."
   ]
  },
  {
   "cell_type": "markdown",
   "metadata": {},
   "source": [
    "### Посчитаем 95-й и 99-й перцентили стоимости заказов и выберем границу для определения аномальных заказов."
   ]
  },
  {
   "cell_type": "code",
   "execution_count": 25,
   "metadata": {},
   "outputs": [
    {
     "name": "stdout",
     "output_type": "stream",
     "text": [
      "Стоимость заказов у 5% пользователей составляет: 28000.000000000004\n",
      "Стоимость заказов у 1% пользователей составляет: 58233.19999999999\n"
     ]
    }
   ],
   "source": [
    "print('Стоимость заказов у 5% пользователей составляет:', np.percentile(orders['revenue'], 95))\n",
    "print('Стоимость заказов у 1% пользователей составляет:', np.percentile(orders['revenue'], 99))"
   ]
  },
  {
   "cell_type": "markdown",
   "metadata": {},
   "source": [
    "Стоимость заказов у 5% пользователей не превышает 28000 руб, и только 1% больше 58233,20 руб.  Выберем 28000 руб. за нижнюю границу стоимости заказов, и отсеим аномальных пользователей по ней."
   ]
  },
  {
   "cell_type": "markdown",
   "metadata": {},
   "source": [
    "### Посчитаем статистическую значимость различий в среднем количестве заказов на посетителя между группами по «сырым» данным."
   ]
  },
  {
   "cell_type": "markdown",
   "metadata": {},
   "source": [
    "Посчитаем статистическую значимость различий в среднем количестве заказов на пользователя  между группам по «сырым» данным — без удаления аномальных пользователей.\n",
    "<br>__Сформулируем гипотезы.__ \n",
    "<br>***Нулевая***: различий в среднем количестве заказов на посетителя между группами нет. \n",
    "<br>***Альтернативная***: различия в среднем количестве заказов на посетителя между группами есть."
   ]
  },
  {
   "cell_type": "code",
   "execution_count": 26,
   "metadata": {},
   "outputs": [
    {
     "data": {
      "text/html": [
       "<div>\n",
       "<style scoped>\n",
       "    .dataframe tbody tr th:only-of-type {\n",
       "        vertical-align: middle;\n",
       "    }\n",
       "\n",
       "    .dataframe tbody tr th {\n",
       "        vertical-align: top;\n",
       "    }\n",
       "\n",
       "    .dataframe thead th {\n",
       "        text-align: right;\n",
       "    }\n",
       "</style>\n",
       "<table border=\"1\" class=\"dataframe\">\n",
       "  <thead>\n",
       "    <tr style=\"text-align: right;\">\n",
       "      <th></th>\n",
       "      <th>date</th>\n",
       "      <th>ordersPerDateA</th>\n",
       "      <th>revenuePerDateA</th>\n",
       "      <th>ordersPerDateB</th>\n",
       "      <th>revenuePerDateB</th>\n",
       "      <th>ordersCummulativeA</th>\n",
       "      <th>revenueCummulativeA</th>\n",
       "      <th>ordersCummulativeB</th>\n",
       "      <th>revenueCummulativeB</th>\n",
       "      <th>visitorsPerDateA</th>\n",
       "      <th>visitorsPerDateB</th>\n",
       "      <th>visitorsCummulativeA</th>\n",
       "      <th>visitorsCummulativeB</th>\n",
       "    </tr>\n",
       "  </thead>\n",
       "  <tbody>\n",
       "    <tr>\n",
       "      <th>0</th>\n",
       "      <td>2019-08-01</td>\n",
       "      <td>24</td>\n",
       "      <td>148579</td>\n",
       "      <td>21</td>\n",
       "      <td>101217</td>\n",
       "      <td>24</td>\n",
       "      <td>148579</td>\n",
       "      <td>21</td>\n",
       "      <td>101217</td>\n",
       "      <td>719</td>\n",
       "      <td>713</td>\n",
       "      <td>719</td>\n",
       "      <td>713</td>\n",
       "    </tr>\n",
       "    <tr>\n",
       "      <th>1</th>\n",
       "      <td>2019-08-02</td>\n",
       "      <td>20</td>\n",
       "      <td>93822</td>\n",
       "      <td>24</td>\n",
       "      <td>165531</td>\n",
       "      <td>44</td>\n",
       "      <td>242401</td>\n",
       "      <td>45</td>\n",
       "      <td>266748</td>\n",
       "      <td>619</td>\n",
       "      <td>581</td>\n",
       "      <td>1338</td>\n",
       "      <td>1294</td>\n",
       "    </tr>\n",
       "    <tr>\n",
       "      <th>2</th>\n",
       "      <td>2019-08-03</td>\n",
       "      <td>24</td>\n",
       "      <td>112473</td>\n",
       "      <td>16</td>\n",
       "      <td>114248</td>\n",
       "      <td>68</td>\n",
       "      <td>354874</td>\n",
       "      <td>61</td>\n",
       "      <td>380996</td>\n",
       "      <td>507</td>\n",
       "      <td>509</td>\n",
       "      <td>1845</td>\n",
       "      <td>1803</td>\n",
       "    </tr>\n",
       "    <tr>\n",
       "      <th>3</th>\n",
       "      <td>2019-08-04</td>\n",
       "      <td>16</td>\n",
       "      <td>70825</td>\n",
       "      <td>17</td>\n",
       "      <td>108571</td>\n",
       "      <td>84</td>\n",
       "      <td>425699</td>\n",
       "      <td>78</td>\n",
       "      <td>489567</td>\n",
       "      <td>717</td>\n",
       "      <td>770</td>\n",
       "      <td>2562</td>\n",
       "      <td>2573</td>\n",
       "    </tr>\n",
       "    <tr>\n",
       "      <th>4</th>\n",
       "      <td>2019-08-05</td>\n",
       "      <td>25</td>\n",
       "      <td>124218</td>\n",
       "      <td>23</td>\n",
       "      <td>92428</td>\n",
       "      <td>109</td>\n",
       "      <td>549917</td>\n",
       "      <td>101</td>\n",
       "      <td>581995</td>\n",
       "      <td>756</td>\n",
       "      <td>707</td>\n",
       "      <td>3318</td>\n",
       "      <td>3280</td>\n",
       "    </tr>\n",
       "  </tbody>\n",
       "</table>\n",
       "</div>"
      ],
      "text/plain": [
       "        date  ordersPerDateA  revenuePerDateA  ordersPerDateB  \\\n",
       "0 2019-08-01              24           148579              21   \n",
       "1 2019-08-02              20            93822              24   \n",
       "2 2019-08-03              24           112473              16   \n",
       "3 2019-08-04              16            70825              17   \n",
       "4 2019-08-05              25           124218              23   \n",
       "\n",
       "   revenuePerDateB  ordersCummulativeA  revenueCummulativeA  \\\n",
       "0           101217                  24               148579   \n",
       "1           165531                  44               242401   \n",
       "2           114248                  68               354874   \n",
       "3           108571                  84               425699   \n",
       "4            92428                 109               549917   \n",
       "\n",
       "   ordersCummulativeB  revenueCummulativeB  visitorsPerDateA  \\\n",
       "0                  21               101217               719   \n",
       "1                  45               266748               619   \n",
       "2                  61               380996               507   \n",
       "3                  78               489567               717   \n",
       "4                 101               581995               756   \n",
       "\n",
       "   visitorsPerDateB  visitorsCummulativeA  visitorsCummulativeB  \n",
       "0               713                   719                   713  \n",
       "1               581                  1338                  1294  \n",
       "2               509                  1845                  1803  \n",
       "3               770                  2562                  2573  \n",
       "4               707                  3318                  3280  "
      ]
     },
     "execution_count": 26,
     "metadata": {},
     "output_type": "execute_result"
    }
   ],
   "source": [
    "# создадим несколько таблиц данных по заказам и визитам по группам, и добавим кумулятивные показатели\n",
    "visitorsADaily = visitors[visitors['group'] == 'A'][['date', 'visitors']]\n",
    "visitorsADaily.columns = ['date', 'visitorsPerDateA']\n",
    "\n",
    "visitorsACummulative = visitorsADaily.apply(\n",
    "    lambda x: visitorsADaily[visitorsADaily['date'] <= x['date']].agg(\n",
    "        {'date': 'max', 'visitorsPerDateA': 'sum'}\n",
    "    ),\n",
    "    axis=1,\n",
    ")\n",
    "visitorsACummulative.columns = ['date', 'visitorsCummulativeA']\n",
    "\n",
    "visitorsBDaily = visitors[visitors['group'] == 'B'][['date', 'visitors']]\n",
    "visitorsBDaily.columns = ['date', 'visitorsPerDateB']\n",
    "\n",
    "visitorsBCummulative = visitorsBDaily.apply(\n",
    "    lambda x: visitorsBDaily[visitorsBDaily['date'] <= x['date']].agg(\n",
    "        {'date': 'max', 'visitorsPerDateB': 'sum'}\n",
    "    ),\n",
    "    axis=1,\n",
    ")\n",
    "visitorsBCummulative.columns = ['date', 'visitorsCummulativeB']\n",
    "\n",
    "ordersADaily = (\n",
    "    orders[orders['group'] == 'A'][['date', 'transactionId', 'visitorId', 'revenue']]\n",
    "    .groupby('date', as_index=False)\n",
    "    .agg({'transactionId': pd.Series.nunique, 'revenue': 'sum'})\n",
    ")\n",
    "ordersADaily.columns = ['date', 'ordersPerDateA', 'revenuePerDateA']\n",
    "\n",
    "ordersACummulative = ordersADaily.apply(\n",
    "    lambda x: ordersADaily[ordersADaily['date'] <= x['date']].agg(\n",
    "        {'date': 'max', 'ordersPerDateA': 'sum', 'revenuePerDateA': 'sum'}\n",
    "    ),\n",
    "    axis=1,\n",
    ").sort_values(by=['date'])\n",
    "ordersACummulative.columns = [\n",
    "    'date',\n",
    "    'ordersCummulativeA',\n",
    "    'revenueCummulativeA',\n",
    "]\n",
    "\n",
    "ordersBDaily = (\n",
    "    orders[orders['group'] == 'B'][['date', 'transactionId', 'visitorId', 'revenue']]\n",
    "    .groupby('date', as_index=False)\n",
    "    .agg({'transactionId': pd.Series.nunique, 'revenue': 'sum'})\n",
    ")\n",
    "ordersBDaily.columns = ['date', 'ordersPerDateB', 'revenuePerDateB']\n",
    "\n",
    "ordersBCummulative = ordersBDaily.apply(\n",
    "    lambda x: ordersBDaily[ordersBDaily['date'] <= x['date']].agg(\n",
    "        {'date': 'max', 'ordersPerDateB': 'sum', 'revenuePerDateB': 'sum'}\n",
    "    ),\n",
    "    axis=1,\n",
    ").sort_values(by=['date'])\n",
    "ordersBCummulative.columns = [\n",
    "    'date',\n",
    "    'ordersCummulativeB',\n",
    "    'revenueCummulativeB',\n",
    "]\n",
    "\n",
    "# объединим все таблицы в одну\n",
    "df = (\n",
    "    ordersADaily.merge(\n",
    "        ordersBDaily, left_on='date', right_on='date', how='left'\n",
    "    )\n",
    "    .merge(ordersACummulative, left_on='date', right_on='date', how='left')\n",
    "    .merge(ordersBCummulative, left_on='date', right_on='date', how='left')\n",
    "    .merge(visitorsADaily, left_on='date', right_on='date', how='left')\n",
    "    .merge(visitorsBDaily, left_on='date', right_on='date', how='left')\n",
    "    .merge(visitorsACummulative, left_on='date', right_on='date', how='left')\n",
    "    .merge(visitorsBCummulative, left_on='date', right_on='date', how='left')\n",
    ")\n",
    "\n",
    "# выведем на экран\n",
    "df.head()"
   ]
  },
  {
   "cell_type": "markdown",
   "metadata": {},
   "source": [
    "Где,\n",
    "<br>`date` — дата;\n",
    "<br>`ordersPerDateA` — количество заказов в выбранную дату в группе A;\n",
    "<br>`revenuePerDateA` — суммарная выручка в выбранную дату в группе A;\n",
    "<br>`ordersPerDateB` — количество заказов в выбранную дату в группе B;\n",
    "<br>`revenuePerDateB` — суммарная выручка в выбранную дату в группе B;\n",
    "<br>`ordersCummulativeA` — суммарное число заказов до выбранной даты включительно в группе A;\n",
    "<br>`revenueCummulativeA` — суммарная выручка до выбранной даты включительно в группе A;\n",
    "<br>`ordersCummulativeB` — суммарное количество заказов до выбранной даты включительно в группе B;\n",
    "<br>`revenueCummulativeB` — суммарная выручка до выбранной даты включительно в группе B;\n",
    "<br>`visitorsPerDateA` — количество пользователей в выбранную дату в группе A;\n",
    "<br>`visitorsPerDateB` — количество пользователей в выбранную дату в группе B;\n",
    "<br>`visitorsCummulativeA` — количество пользователей до выбранной даты включительно в группе A;\n",
    "<br>`visitorsCummulativeB` — количество пользователей до выбранной даты включительно в группе B."
   ]
  },
  {
   "cell_type": "markdown",
   "metadata": {},
   "source": [
    "Создадим переменные `ordersByUsersA` и `ordersByUsersB` со столбцами `['userId', 'orders']`. В них для пользователей, которые заказывали хотя бы 1 раз, укажем число совершённых заказов."
   ]
  },
  {
   "cell_type": "code",
   "execution_count": 27,
   "metadata": {},
   "outputs": [],
   "source": [
    "ordersByUsersA = (orders[orders['group'] == 'A'].groupby('visitorId', as_index=False).agg({'transactionId': pd.Series.nunique}))\n",
    "ordersByUsersA.columns = ['userId', 'orders']\n",
    "\n",
    "ordersByUsersB = (orders[orders['group'] == 'B'].groupby('visitorId', as_index=False).agg({'transactionId': pd.Series.nunique}))\n",
    "ordersByUsersB.columns = ['userId', 'orders'] "
   ]
  },
  {
   "cell_type": "markdown",
   "metadata": {},
   "source": [
    "Объявим переменные `sampleA` и `sampleB`, в которых пользователям из разных групп будет соответствовать количество заказов. Тем, кто ничего не заказал, будут соответствовать нули. Это нужно, чтобы подготовить выборки к проверке критерием Манна-Уитни.\n",
    "Применим критерий и отформатируем p-value, округлив его до трёх знаков после запятой.\n",
    "А также выведем относительный прирост среднего числа заказов группы B."
   ]
  },
  {
   "cell_type": "code",
   "execution_count": 28,
   "metadata": {},
   "outputs": [
    {
     "name": "stdout",
     "output_type": "stream",
     "text": [
      "p-value: 0.017\n",
      "Отвергаем нулевую гипотезу: по «сырым» данным различия в среднем количестве заказов на посетителя между группами есть.\n",
      "Относительный прирост группы B: 13.81%\n"
     ]
    }
   ],
   "source": [
    "sampleA = pd.concat([ordersByUsersA['orders'], pd.Series(\n",
    "            0, index=np.arange(df['visitorsPerDateA'].sum() - len(ordersByUsersA['orders'])), name='orders')], axis=0)\n",
    "\n",
    "sampleB = pd.concat([ordersByUsersB['orders'], pd.Series(\n",
    "            0, index=np.arange(df['visitorsPerDateB'].sum() - len(ordersByUsersB['orders'])), name='orders')], axis=0)\n",
    "\n",
    "\n",
    "# зададим критический уровень статистической значимости\n",
    "alpha = .05\n",
    "\n",
    "results = stats.mannwhitneyu(sampleA, sampleB)\n",
    "\n",
    "print('p-value: {:.3f}'.format(results.pvalue))\n",
    "\n",
    "if results.pvalue < alpha:\n",
    "    print('Отвергаем нулевую гипотезу: по «сырым» данным различия в среднем количестве заказов на посетителя между группами есть.')\n",
    "else:\n",
    "    print('Не получилось отвергнуть нулевую гипотезу: по «сырым» данным различий в среднем количестве заказов между группами нет.')\n",
    "    \n",
    "print(\"Относительный прирост группы B: {0:.2%}\".format(sampleB.mean() / sampleA.mean() - 1))  "
   ]
  },
  {
   "cell_type": "markdown",
   "metadata": {},
   "source": [
    "P-value = 0.017 меньше 0.05. Значит, нулевую гипотезу о том, что статистически значимых различий в среднем количестве заказов на посетителя между группами нет, отвергаем. Относительный прирост группы B равен 13.81%."
   ]
  },
  {
   "cell_type": "markdown",
   "metadata": {},
   "source": [
    "### Посчитаем статистическую значимость различий в среднем чеке заказа между группами по «сырым» данным. "
   ]
  },
  {
   "cell_type": "markdown",
   "metadata": {},
   "source": [
    "Теперь проверим статистическую значимость различий в среднем чеке между сегментами. \n",
    "<br>***Нулевая гипотеза***: различий в среднем чеке между группами нет. \n",
    "<br>***Альтернативная гипотеза***: различия в среднем чеке между группами есть. \n",
    "<br><br>Чтобы рассчитать статистическую значимость различий в среднем чеке, передадим критерию mannwhitneyu() данные о выручке с заказов. А ещё найдём относительные различия в среднем чеке между группами."
   ]
  },
  {
   "cell_type": "code",
   "execution_count": 29,
   "metadata": {},
   "outputs": [
    {
     "name": "stdout",
     "output_type": "stream",
     "text": [
      "p-value: 0.729\n",
      "Не получилось отвергнуть нулевую гипотезу: по «сырым» данным различий в среднем чеке между группами нет.\n",
      "Относительный прирост группы B: 25.87%\n"
     ]
    }
   ],
   "source": [
    "results = stats.mannwhitneyu(orders[orders['group']=='A']['revenue'], orders[orders['group']=='B']['revenue'])\n",
    "\n",
    "print('p-value: {:.3f}'.format(results.pvalue))\n",
    "\n",
    "if results.pvalue < alpha:\n",
    "    print('Отвергаем нулевую гипотезу: по «сырым» данным различия в среднем чеке между группами есть.')\n",
    "else:\n",
    "    print('Не получилось отвергнуть нулевую гипотезу: по «сырым» данным различий в среднем чеке между группами нет.')\n",
    "    \n",
    "print(\"Относительный прирост группы B: {0:.2%}\"\n",
    "      .format(orders[orders['group']=='B']['revenue'].mean()/orders[orders['group']=='A']['revenue'].mean()-1))"
   ]
  },
  {
   "cell_type": "markdown",
   "metadata": {},
   "source": [
    "P-value значительно больше 0.05. Значит, причин отвергать нулевую гипотезу и считать, что в среднем чеке есть различия, нет. Средний чек группы B значительно выше среднего чека группы A, прирост почти 26%. Скорее всего сказываются ранее выявленные большие заказы."
   ]
  },
  {
   "cell_type": "markdown",
   "metadata": {},
   "source": [
    "### Посчитаем статистическую значимость различий в среднем количестве заказов на посетителя между группами по «очищенным» данным. "
   ]
  },
  {
   "cell_type": "markdown",
   "metadata": {},
   "source": [
    "Сделаем срезы пользователей с числом заказов больше 2 — `usersWithManyOrders` и пользователей, совершивших заказы дороже 28 000 руб. — `usersWithExpensiveOrders`. Объединим их в таблице `abnormalUsers`. \n",
    "Узнаем, сколько всего аномальных пользователей атрибутом `shape`."
   ]
  },
  {
   "cell_type": "code",
   "execution_count": 30,
   "metadata": {},
   "outputs": [
    {
     "name": "stdout",
     "output_type": "stream",
     "text": [
      "Количество аномальных пользователей 74\n"
     ]
    }
   ],
   "source": [
    "# запишем нижние границы для аномальных заказов пользователей и стоимости заказов в переменные\n",
    "border_orders = np.percentile(ordersByUsers['orders'], 95)\n",
    "border_revenue = np.percentile(orders['revenue'], 95)\n",
    "\n",
    "usersWithManyOrders = pd.concat(\n",
    "    [\n",
    "        ordersByUsersA[ordersByUsersA['orders'] > border_orders]['userId'],\n",
    "        ordersByUsersB[ordersByUsersB['orders'] > border_orders]['userId'],\n",
    "    ],\n",
    "    axis=0,\n",
    ")\n",
    "usersWithExpensiveOrders = orders[orders['revenue'] > border_revenue]['visitorId']\n",
    "abnormalUsers = (\n",
    "    pd.concat([usersWithManyOrders, usersWithExpensiveOrders], axis=0)\n",
    "    .drop_duplicates()\n",
    "    .sort_values()\n",
    ")\n",
    "\n",
    "print('Количество аномальных пользователей', abnormalUsers.shape[0]) "
   ]
  },
  {
   "cell_type": "markdown",
   "metadata": {},
   "source": [
    "Всего 74 аномальных пользователя. \n",
    "Узнаем, как их действия повлияли на результаты теста. Посчитаем статистическую значимость различий в среднем количестве заказов на посетителя между группами теста по очищенным данным. Сначала подготовим выборки количества заказов по пользователям по группам теста."
   ]
  },
  {
   "cell_type": "code",
   "execution_count": 31,
   "metadata": {},
   "outputs": [],
   "source": [
    "sampleAFiltered = pd.concat([ordersByUsersA[np.logical_not(ordersByUsersA['userId'].isin(abnormalUsers))]['orders'], pd.Series(\n",
    "            0, index=np.arange(df['visitorsPerDateA'].sum() - len(ordersByUsersA['orders'])), name='orders')], axis=0)\n",
    "\n",
    "sampleBFiltered = pd.concat([ordersByUsersB[np.logical_not(ordersByUsersB['userId'].isin(abnormalUsers))]['orders'], pd.Series(\n",
    "            0, index=np.arange(df['visitorsPerDateB'].sum() - len(ordersByUsersB['orders'])), name='orders')], axis=0) "
   ]
  },
  {
   "cell_type": "markdown",
   "metadata": {},
   "source": [
    "<br>__Сформулируем гипотезы.__ \n",
    "<br>***Нулевая***: по «очищенным» данным различий в среднем количестве заказов на посетителя между группами нет. \n",
    "<br>***Альтернативная***: по «очищенным» данным различия в среднем количестве заказов на посетителя между группами есть.\n",
    "<br>Применим статистический критерий Манна-Уитни к полученным выборкам."
   ]
  },
  {
   "cell_type": "code",
   "execution_count": 32,
   "metadata": {},
   "outputs": [
    {
     "name": "stdout",
     "output_type": "stream",
     "text": [
      "p-value: 0.013\n",
      "Отвергаем нулевую гипотезу: по «очищенным» данным различия в среднем количестве заказов на посетителя между группами есть.\n",
      "Относительный прирост группы B: 17.27%\n"
     ]
    }
   ],
   "source": [
    "results = stats.mannwhitneyu(sampleAFiltered, sampleBFiltered)\n",
    "\n",
    "print('p-value: {:.3f}'.format(results.pvalue))\n",
    "\n",
    "if results.pvalue < alpha:\n",
    "    print('Отвергаем нулевую гипотезу: по «очищенным» данным различия в среднем количестве заказов на посетителя между группами есть.')\n",
    "else:\n",
    "    print('Не получилось отвергнуть нулевую гипотезу: по «очищенным» данным различий в среднем количестве заказов между группами нет.')\n",
    "    \n",
    "print(\"Относительный прирост группы B: {0:.2%}\".format(sampleBFiltered.mean()/sampleAFiltered.mean()-1))"
   ]
  },
  {
   "cell_type": "markdown",
   "metadata": {},
   "source": [
    "P-value также меньше 0.05, как и в случае с «сырыми» данными. Поэтому, нулевую гипотезу о том, что статистически значимых различий по «очищенным» данным в среднем количестве заказов на посетителя между группами нет, отвергаем. Относительный прирост группы B стал еще выше 17.27%."
   ]
  },
  {
   "cell_type": "markdown",
   "metadata": {},
   "source": [
    "### Посчитаем статистическую значимость различий в среднем чеке заказа между группами по «очищенным» данным."
   ]
  },
  {
   "cell_type": "markdown",
   "metadata": {},
   "source": [
    "Результаты по среднему количеству заказов практически не изменились. Произошло ли что-нибудь с результатами по среднему чеку?\n",
    "<br>Сформулируем гипотезы.\n",
    "<br>***Нулевая гипотеза***: по «очищенным» данным различий в среднем чеке между группами нет. \n",
    "<br>***Альтернативная гипотеза***: по «очищенным» данным различия в среднем чеке между группами есть."
   ]
  },
  {
   "cell_type": "code",
   "execution_count": 33,
   "metadata": {},
   "outputs": [
    {
     "name": "stdout",
     "output_type": "stream",
     "text": [
      "p-value: 0.738\n",
      "Не получилось отвергнуть нулевую гипотезу: по «очищенным» данным различий в среднем чеке между группами нет.\n",
      "Относительный прирост группы B: -1.96%\n"
     ]
    }
   ],
   "source": [
    "results = stats.mannwhitneyu(orders[np.logical_and(orders['group'] == 'A', \n",
    "                                                   np.logical_not(orders['visitorId'].isin(abnormalUsers)))]['revenue'], \n",
    "                             orders[np.logical_and(orders['group'] == 'B', \n",
    "                                                   np.logical_not(orders['visitorId'].isin(abnormalUsers)))]['revenue'])\n",
    "\n",
    "print('p-value: {:.3f}'.format(results.pvalue))\n",
    "\n",
    "if results.pvalue < alpha:\n",
    "    print('Отвергаем нулевую гипотезу: по «очищенным» данным различия в среднем чеке между группами есть.')\n",
    "else:\n",
    "    print('Не получилось отвергнуть нулевую гипотезу: по «очищенным» данным различий в среднем чеке между группами нет.')\n",
    "    \n",
    "print(\"Относительный прирост группы B: {0:.2%}\".format(\n",
    "        orders[np.logical_and(orders['group'] == 'B', np.logical_not(orders['visitorId']\n",
    "                                                                     .isin(abnormalUsers)))]['revenue'].mean()\n",
    "        / orders[np.logical_and(orders['group'] == 'A', np.logical_not(orders['visitorId']\n",
    "                                                                       .isin(abnormalUsers)))]['revenue'].mean() - 1))"
   ]
  },
  {
   "cell_type": "markdown",
   "metadata": {},
   "source": [
    "Результат тот же, что и с «сырыми» данными. P-value значительно больше 0.05. Отвергаем нулевую гипотезу. Средний чек группы B значительно выше среднего чека группы A, прирост почти 26%. Скорее всего сказываются ранее выявленные большие заказы.\n",
    "А вот разница между средними чеками упала с почти 26% до почти 2% в пользу группы A. Это доказывает, что разница была связана с выбросами в «сырых» данных."
   ]
  },
  {
   "cell_type": "markdown",
   "metadata": {},
   "source": [
    "### Примем решение по результатам теста. "
   ]
  },
  {
   "cell_type": "markdown",
   "metadata": {},
   "source": [
    "__Подведем итоги по результатам теста:__\n",
    "* Есть статистически значимое различие в среднем количестве заказов на посетителя между группами, как по «сырым» данным, так и по «очищенным». При этом относительный прирост группы B выше на 13-17% по отношению к группе А.\n",
    "* И по «сырыми» и по «очищенным» данным нет статистически значимого различия по среднему чеку между группами. \n",
    "* График различия среднего количества заказов на посетителя между группами сообщает, что результаты группы B лучше группы A в среднем на 10-15%.\n",
    "* График различия среднего чека колеблется: он-то и позволил нам найти аномалии. Сделать из этого графика определённые выводы нельзя.\n",
    "\n",
    "Цель теста - увеличить выручку. На выручку влияет среднее количество заказов на посетителя. А т.к. среднее количество заказов на посетителя группы В увеличилось, соответственно выручка тоже увеличилась, несмотря на то, что средний чек не изменился.\n",
    "<br>__Исходя из этих фактов, следует остановить тест, признать его успешным, победа за группой В.__ "
   ]
  },
  {
   "cell_type": "code",
   "execution_count": null,
   "metadata": {},
   "outputs": [],
   "source": []
  }
 ],
 "metadata": {
  "ExecuteTimeLog": [
   {
    "duration": 910,
    "start_time": "2023-06-15T09:51:34.930Z"
   },
   {
    "duration": 78,
    "start_time": "2023-06-15T09:55:40.479Z"
   },
   {
    "duration": 23,
    "start_time": "2023-06-15T09:55:57.395Z"
   },
   {
    "duration": 28,
    "start_time": "2023-06-15T09:56:47.156Z"
   },
   {
    "duration": 11,
    "start_time": "2023-06-15T09:56:48.849Z"
   },
   {
    "duration": 28,
    "start_time": "2023-06-15T09:57:06.009Z"
   },
   {
    "duration": 9,
    "start_time": "2023-06-15T09:57:07.189Z"
   },
   {
    "duration": 100,
    "start_time": "2023-06-15T13:30:35.303Z"
   },
   {
    "duration": 7,
    "start_time": "2023-06-15T13:31:05.903Z"
   },
   {
    "duration": 987,
    "start_time": "2023-06-15T13:31:08.533Z"
   },
   {
    "duration": 87,
    "start_time": "2023-06-15T13:31:11.375Z"
   },
   {
    "duration": 93,
    "start_time": "2023-06-15T13:31:13.804Z"
   },
   {
    "duration": 18,
    "start_time": "2023-06-15T13:31:40.871Z"
   },
   {
    "duration": 11,
    "start_time": "2023-06-15T13:32:02.632Z"
   },
   {
    "duration": 21,
    "start_time": "2023-06-15T13:35:11.484Z"
   },
   {
    "duration": 4,
    "start_time": "2023-06-15T13:35:32.334Z"
   },
   {
    "duration": 20,
    "start_time": "2023-06-15T13:35:47.796Z"
   },
   {
    "duration": 31,
    "start_time": "2023-06-15T13:36:37.445Z"
   },
   {
    "duration": 6,
    "start_time": "2023-06-15T13:43:54.424Z"
   },
   {
    "duration": 7,
    "start_time": "2023-06-15T13:43:55.659Z"
   },
   {
    "duration": 4,
    "start_time": "2023-06-15T13:47:51.345Z"
   },
   {
    "duration": 14,
    "start_time": "2023-06-15T13:48:06.548Z"
   },
   {
    "duration": 4,
    "start_time": "2023-06-15T13:48:40.898Z"
   },
   {
    "duration": 8,
    "start_time": "2023-06-15T13:48:41.912Z"
   },
   {
    "duration": 11,
    "start_time": "2023-06-15T13:49:03.334Z"
   },
   {
    "duration": 144,
    "start_time": "2023-06-15T13:59:00.405Z"
   },
   {
    "duration": 10,
    "start_time": "2023-06-15T13:59:01.641Z"
   },
   {
    "duration": 59,
    "start_time": "2023-06-15T14:00:43.645Z"
   },
   {
    "duration": 10,
    "start_time": "2023-06-15T14:00:46.495Z"
   },
   {
    "duration": 47,
    "start_time": "2023-06-15T14:01:08.017Z"
   },
   {
    "duration": 8,
    "start_time": "2023-06-15T14:01:09.158Z"
   },
   {
    "duration": 54,
    "start_time": "2023-06-15T14:01:31.941Z"
   },
   {
    "duration": 70,
    "start_time": "2023-06-15T14:02:42.466Z"
   },
   {
    "duration": 792,
    "start_time": "2023-06-16T09:14:05.110Z"
   },
   {
    "duration": 62,
    "start_time": "2023-06-16T09:14:16.705Z"
   },
   {
    "duration": 16,
    "start_time": "2023-06-16T09:14:17.613Z"
   },
   {
    "duration": 3,
    "start_time": "2023-06-16T09:14:42.254Z"
   },
   {
    "duration": 38,
    "start_time": "2023-06-16T09:14:42.259Z"
   },
   {
    "duration": 27,
    "start_time": "2023-06-16T09:14:42.299Z"
   },
   {
    "duration": 30,
    "start_time": "2023-06-16T09:14:42.327Z"
   },
   {
    "duration": 39,
    "start_time": "2023-06-16T09:14:42.358Z"
   },
   {
    "duration": 49,
    "start_time": "2023-06-16T09:14:42.398Z"
   },
   {
    "duration": 22,
    "start_time": "2023-06-16T09:14:42.448Z"
   },
   {
    "duration": 48,
    "start_time": "2023-06-16T09:14:42.472Z"
   },
   {
    "duration": 16,
    "start_time": "2023-06-16T09:14:42.521Z"
   },
   {
    "duration": 154,
    "start_time": "2023-06-16T09:14:42.538Z"
   },
   {
    "duration": 60,
    "start_time": "2023-06-16T09:14:42.694Z"
   },
   {
    "duration": 33,
    "start_time": "2023-06-16T09:45:01.857Z"
   },
   {
    "duration": 50,
    "start_time": "2023-06-16T09:45:15.239Z"
   },
   {
    "duration": 38,
    "start_time": "2023-06-16T09:45:28.099Z"
   },
   {
    "duration": 111,
    "start_time": "2023-06-16T09:45:37.894Z"
   },
   {
    "duration": 36,
    "start_time": "2023-06-16T09:45:49.158Z"
   },
   {
    "duration": 39,
    "start_time": "2023-06-16T09:45:58.087Z"
   },
   {
    "duration": 38,
    "start_time": "2023-06-16T09:46:09.373Z"
   },
   {
    "duration": 37,
    "start_time": "2023-06-16T09:46:14.571Z"
   },
   {
    "duration": 42,
    "start_time": "2023-06-16T09:46:23.497Z"
   },
   {
    "duration": 37,
    "start_time": "2023-06-16T09:46:35.333Z"
   },
   {
    "duration": 36,
    "start_time": "2023-06-16T09:46:40.899Z"
   },
   {
    "duration": 10,
    "start_time": "2023-06-16T09:48:21.162Z"
   },
   {
    "duration": 393,
    "start_time": "2023-06-16T09:48:28.496Z"
   },
   {
    "duration": 37,
    "start_time": "2023-06-16T09:48:28.890Z"
   },
   {
    "duration": 14,
    "start_time": "2023-06-16T09:48:28.928Z"
   },
   {
    "duration": 14,
    "start_time": "2023-06-16T09:48:28.943Z"
   },
   {
    "duration": 18,
    "start_time": "2023-06-16T09:48:28.958Z"
   },
   {
    "duration": 18,
    "start_time": "2023-06-16T09:48:28.978Z"
   },
   {
    "duration": 8,
    "start_time": "2023-06-16T09:48:28.998Z"
   },
   {
    "duration": 13,
    "start_time": "2023-06-16T09:48:29.007Z"
   },
   {
    "duration": 24,
    "start_time": "2023-06-16T09:48:29.022Z"
   },
   {
    "duration": 79,
    "start_time": "2023-06-16T09:48:29.047Z"
   },
   {
    "duration": 18,
    "start_time": "2023-06-16T09:48:29.127Z"
   },
   {
    "duration": 2,
    "start_time": "2023-06-16T09:49:35.115Z"
   },
   {
    "duration": 49,
    "start_time": "2023-06-16T09:49:35.119Z"
   },
   {
    "duration": 10,
    "start_time": "2023-06-16T09:49:35.170Z"
   },
   {
    "duration": 15,
    "start_time": "2023-06-16T09:49:35.182Z"
   },
   {
    "duration": 26,
    "start_time": "2023-06-16T09:49:35.198Z"
   },
   {
    "duration": 10,
    "start_time": "2023-06-16T09:49:35.225Z"
   },
   {
    "duration": 18,
    "start_time": "2023-06-16T09:49:35.236Z"
   },
   {
    "duration": 30,
    "start_time": "2023-06-16T09:49:35.255Z"
   },
   {
    "duration": 64,
    "start_time": "2023-06-16T09:49:35.287Z"
   },
   {
    "duration": 20,
    "start_time": "2023-06-16T09:49:35.353Z"
   },
   {
    "duration": 70,
    "start_time": "2023-06-16T09:56:00.022Z"
   },
   {
    "duration": 58,
    "start_time": "2023-06-16T09:56:23.606Z"
   },
   {
    "duration": 3,
    "start_time": "2023-06-16T09:56:59.629Z"
   },
   {
    "duration": 47,
    "start_time": "2023-06-16T09:56:59.634Z"
   },
   {
    "duration": 10,
    "start_time": "2023-06-16T09:56:59.683Z"
   },
   {
    "duration": 18,
    "start_time": "2023-06-16T09:56:59.695Z"
   },
   {
    "duration": 62,
    "start_time": "2023-06-16T09:56:59.715Z"
   },
   {
    "duration": 25,
    "start_time": "2023-06-16T09:56:59.779Z"
   },
   {
    "duration": 338,
    "start_time": "2023-06-16T09:58:35.608Z"
   },
   {
    "duration": 12,
    "start_time": "2023-06-16T09:59:51.049Z"
   },
   {
    "duration": 10,
    "start_time": "2023-06-16T10:00:07.091Z"
   },
   {
    "duration": 31,
    "start_time": "2023-06-16T10:17:16.013Z"
   },
   {
    "duration": 240,
    "start_time": "2023-06-16T10:21:44.881Z"
   },
   {
    "duration": 276,
    "start_time": "2023-06-16T10:23:38.410Z"
   },
   {
    "duration": 246,
    "start_time": "2023-06-16T10:24:52.513Z"
   },
   {
    "duration": 272,
    "start_time": "2023-06-16T10:27:38.677Z"
   },
   {
    "duration": 242,
    "start_time": "2023-06-16T10:46:31.715Z"
   },
   {
    "duration": 155,
    "start_time": "2023-06-16T10:46:41.140Z"
   },
   {
    "duration": 157,
    "start_time": "2023-06-16T10:52:28.236Z"
   },
   {
    "duration": 153,
    "start_time": "2023-06-16T10:56:15.767Z"
   },
   {
    "duration": 163,
    "start_time": "2023-06-16T10:56:33.329Z"
   },
   {
    "duration": 3,
    "start_time": "2023-06-16T11:27:07.119Z"
   },
   {
    "duration": 76,
    "start_time": "2023-06-16T11:27:07.124Z"
   },
   {
    "duration": 80,
    "start_time": "2023-06-16T11:27:07.202Z"
   },
   {
    "duration": 86,
    "start_time": "2023-06-16T11:27:07.284Z"
   },
   {
    "duration": 55,
    "start_time": "2023-06-16T11:27:07.372Z"
   },
   {
    "duration": 26,
    "start_time": "2023-06-16T11:27:07.429Z"
   },
   {
    "duration": 15,
    "start_time": "2023-06-16T11:27:07.457Z"
   },
   {
    "duration": 298,
    "start_time": "2023-06-16T11:27:07.474Z"
   },
   {
    "duration": 206,
    "start_time": "2023-06-16T11:27:07.775Z"
   },
   {
    "duration": 1414,
    "start_time": "2023-06-16T14:54:10.395Z"
   },
   {
    "duration": 108,
    "start_time": "2023-06-16T14:54:11.811Z"
   },
   {
    "duration": 13,
    "start_time": "2023-06-16T14:54:11.921Z"
   },
   {
    "duration": 13,
    "start_time": "2023-06-16T14:54:11.935Z"
   },
   {
    "duration": 187,
    "start_time": "2023-06-16T14:54:11.949Z"
   },
   {
    "duration": 77,
    "start_time": "2023-06-16T14:54:12.139Z"
   },
   {
    "duration": 14,
    "start_time": "2023-06-16T14:54:12.218Z"
   },
   {
    "duration": 315,
    "start_time": "2023-06-16T14:54:12.234Z"
   },
   {
    "duration": 358,
    "start_time": "2023-06-16T14:54:12.551Z"
   },
   {
    "duration": 224,
    "start_time": "2023-06-16T15:44:01.770Z"
   },
   {
    "duration": 183,
    "start_time": "2023-06-16T15:47:36.993Z"
   },
   {
    "duration": 133,
    "start_time": "2023-06-16T15:48:07.682Z"
   },
   {
    "duration": 192,
    "start_time": "2023-06-16T15:48:47.451Z"
   },
   {
    "duration": 219,
    "start_time": "2023-06-16T15:49:02.454Z"
   },
   {
    "duration": 255,
    "start_time": "2023-06-16T15:49:37.493Z"
   },
   {
    "duration": 241,
    "start_time": "2023-06-16T15:49:51.695Z"
   },
   {
    "duration": 230,
    "start_time": "2023-06-16T15:52:21.899Z"
   },
   {
    "duration": 264,
    "start_time": "2023-06-16T15:57:44.105Z"
   },
   {
    "duration": 227,
    "start_time": "2023-06-16T15:58:42.149Z"
   },
   {
    "duration": 286,
    "start_time": "2023-06-16T15:59:03.210Z"
   },
   {
    "duration": 232,
    "start_time": "2023-06-16T15:59:24.070Z"
   },
   {
    "duration": 327,
    "start_time": "2023-06-16T15:59:40.825Z"
   },
   {
    "duration": 233,
    "start_time": "2023-06-16T15:59:56.119Z"
   },
   {
    "duration": 229,
    "start_time": "2023-06-16T16:00:03.438Z"
   },
   {
    "duration": 212,
    "start_time": "2023-06-16T16:00:37.668Z"
   },
   {
    "duration": 213,
    "start_time": "2023-06-16T16:02:46.599Z"
   },
   {
    "duration": 5,
    "start_time": "2023-06-16T16:10:18.768Z"
   },
   {
    "duration": 63,
    "start_time": "2023-06-16T16:10:18.776Z"
   },
   {
    "duration": 4,
    "start_time": "2023-06-16T16:10:18.842Z"
   },
   {
    "duration": 36,
    "start_time": "2023-06-16T16:10:18.848Z"
   },
   {
    "duration": 14,
    "start_time": "2023-06-16T16:10:18.888Z"
   },
   {
    "duration": 215,
    "start_time": "2023-06-16T16:10:18.904Z"
   },
   {
    "duration": 59,
    "start_time": "2023-06-16T16:10:19.121Z"
   },
   {
    "duration": 29,
    "start_time": "2023-06-16T16:10:19.183Z"
   },
   {
    "duration": 14,
    "start_time": "2023-06-16T16:10:19.214Z"
   },
   {
    "duration": 343,
    "start_time": "2023-06-16T16:10:19.230Z"
   },
   {
    "duration": 230,
    "start_time": "2023-06-16T16:10:19.574Z"
   },
   {
    "duration": 199,
    "start_time": "2023-06-16T16:12:20.098Z"
   },
   {
    "duration": 201,
    "start_time": "2023-06-16T16:12:43.824Z"
   },
   {
    "duration": 271,
    "start_time": "2023-06-16T16:13:48.288Z"
   },
   {
    "duration": 258,
    "start_time": "2023-06-16T16:14:57.245Z"
   },
   {
    "duration": 351,
    "start_time": "2023-06-16T16:17:47.188Z"
   },
   {
    "duration": 252,
    "start_time": "2023-06-16T16:18:03.159Z"
   },
   {
    "duration": 184,
    "start_time": "2023-06-16T16:25:47.321Z"
   },
   {
    "duration": 185,
    "start_time": "2023-06-16T16:25:53.896Z"
   },
   {
    "duration": 205,
    "start_time": "2023-06-16T16:26:55.664Z"
   },
   {
    "duration": 211,
    "start_time": "2023-06-16T16:27:13.463Z"
   },
   {
    "duration": 232,
    "start_time": "2023-06-16T16:27:21.038Z"
   },
   {
    "duration": 212,
    "start_time": "2023-06-16T16:27:29.934Z"
   },
   {
    "duration": 214,
    "start_time": "2023-06-16T16:28:14.332Z"
   },
   {
    "duration": 309,
    "start_time": "2023-06-16T16:33:30.071Z"
   },
   {
    "duration": 242,
    "start_time": "2023-06-16T16:33:35.492Z"
   },
   {
    "duration": 358,
    "start_time": "2023-06-16T16:35:27.680Z"
   },
   {
    "duration": 256,
    "start_time": "2023-06-16T16:35:53.685Z"
   },
   {
    "duration": 283,
    "start_time": "2023-06-16T16:36:16.688Z"
   },
   {
    "duration": 307,
    "start_time": "2023-06-16T16:39:23.107Z"
   },
   {
    "duration": 345,
    "start_time": "2023-06-16T16:39:32.851Z"
   },
   {
    "duration": 1363,
    "start_time": "2023-06-19T08:30:52.828Z"
   },
   {
    "duration": 99,
    "start_time": "2023-06-19T08:30:54.193Z"
   },
   {
    "duration": 3,
    "start_time": "2023-06-19T08:30:54.294Z"
   },
   {
    "duration": 52,
    "start_time": "2023-06-19T08:30:54.298Z"
   },
   {
    "duration": 27,
    "start_time": "2023-06-19T08:30:54.352Z"
   },
   {
    "duration": 228,
    "start_time": "2023-06-19T08:30:54.381Z"
   },
   {
    "duration": 82,
    "start_time": "2023-06-19T08:30:54.611Z"
   },
   {
    "duration": 68,
    "start_time": "2023-06-19T08:30:54.694Z"
   },
   {
    "duration": 14,
    "start_time": "2023-06-19T08:30:54.764Z"
   },
   {
    "duration": 345,
    "start_time": "2023-06-19T08:30:54.780Z"
   },
   {
    "duration": 320,
    "start_time": "2023-06-19T08:30:55.127Z"
   },
   {
    "duration": 255,
    "start_time": "2023-06-19T08:30:55.457Z"
   },
   {
    "duration": 428,
    "start_time": "2023-06-19T08:30:55.714Z"
   },
   {
    "duration": 226,
    "start_time": "2023-06-19T08:48:31.876Z"
   },
   {
    "duration": 231,
    "start_time": "2023-06-19T08:58:22.205Z"
   },
   {
    "duration": 236,
    "start_time": "2023-06-19T08:59:31.475Z"
   },
   {
    "duration": 259,
    "start_time": "2023-06-19T09:01:48.247Z"
   },
   {
    "duration": 235,
    "start_time": "2023-06-19T09:02:13.401Z"
   },
   {
    "duration": 337,
    "start_time": "2023-06-19T09:15:27.656Z"
   },
   {
    "duration": 242,
    "start_time": "2023-06-19T09:16:17.801Z"
   },
   {
    "duration": 265,
    "start_time": "2023-06-19T09:48:57.847Z"
   },
   {
    "duration": 257,
    "start_time": "2023-06-19T09:53:36.394Z"
   },
   {
    "duration": 313,
    "start_time": "2023-06-19T10:08:49.088Z"
   },
   {
    "duration": 284,
    "start_time": "2023-06-19T12:06:42.552Z"
   },
   {
    "duration": 397,
    "start_time": "2023-06-19T12:07:36.553Z"
   },
   {
    "duration": 369,
    "start_time": "2023-06-19T12:08:12.864Z"
   },
   {
    "duration": 525,
    "start_time": "2023-06-19T12:08:53.636Z"
   },
   {
    "duration": 454,
    "start_time": "2023-06-19T12:09:39.197Z"
   },
   {
    "duration": 523,
    "start_time": "2023-06-19T12:09:44.673Z"
   },
   {
    "duration": 517,
    "start_time": "2023-06-19T12:09:50.131Z"
   },
   {
    "duration": 12,
    "start_time": "2023-06-19T12:15:28.567Z"
   },
   {
    "duration": 18,
    "start_time": "2023-06-19T12:17:21.722Z"
   },
   {
    "duration": 140,
    "start_time": "2023-06-19T12:27:57.931Z"
   },
   {
    "duration": 36,
    "start_time": "2023-06-19T12:28:09.480Z"
   },
   {
    "duration": 124,
    "start_time": "2023-06-19T12:38:13.285Z"
   },
   {
    "duration": 172,
    "start_time": "2023-06-19T12:38:21.899Z"
   },
   {
    "duration": 196,
    "start_time": "2023-06-19T12:39:01.077Z"
   },
   {
    "duration": 171,
    "start_time": "2023-06-19T12:39:10.635Z"
   },
   {
    "duration": 176,
    "start_time": "2023-06-19T12:39:45.470Z"
   },
   {
    "duration": 164,
    "start_time": "2023-06-19T12:41:56.432Z"
   },
   {
    "duration": 14,
    "start_time": "2023-06-19T12:42:22.167Z"
   },
   {
    "duration": 13,
    "start_time": "2023-06-19T12:42:26.292Z"
   },
   {
    "duration": 162,
    "start_time": "2023-06-19T12:42:28.254Z"
   },
   {
    "duration": 166,
    "start_time": "2023-06-19T12:45:05.077Z"
   },
   {
    "duration": 133,
    "start_time": "2023-06-19T12:46:49.948Z"
   },
   {
    "duration": 118,
    "start_time": "2023-06-19T12:47:05.927Z"
   },
   {
    "duration": 79,
    "start_time": "2023-06-19T12:47:38.052Z"
   },
   {
    "duration": 158,
    "start_time": "2023-06-19T12:47:50.911Z"
   },
   {
    "duration": 258,
    "start_time": "2023-06-19T12:47:58.106Z"
   },
   {
    "duration": 155,
    "start_time": "2023-06-19T12:48:59.884Z"
   },
   {
    "duration": 192,
    "start_time": "2023-06-19T12:49:30.186Z"
   },
   {
    "duration": 6,
    "start_time": "2023-06-19T12:53:45.615Z"
   },
   {
    "duration": 6,
    "start_time": "2023-06-19T12:55:41.175Z"
   },
   {
    "duration": 7,
    "start_time": "2023-06-19T13:09:03.339Z"
   },
   {
    "duration": 9,
    "start_time": "2023-06-19T13:09:48.800Z"
   },
   {
    "duration": 8,
    "start_time": "2023-06-19T13:10:59.066Z"
   },
   {
    "duration": 65,
    "start_time": "2023-06-19T13:11:39.722Z"
   },
   {
    "duration": 6,
    "start_time": "2023-06-19T13:11:45.805Z"
   },
   {
    "duration": 1141,
    "start_time": "2023-06-19T13:16:59.182Z"
   },
   {
    "duration": 148,
    "start_time": "2023-06-19T13:17:53.622Z"
   },
   {
    "duration": 161,
    "start_time": "2023-06-19T13:18:02.383Z"
   },
   {
    "duration": 72,
    "start_time": "2023-06-19T13:18:47.191Z"
   },
   {
    "duration": 181,
    "start_time": "2023-06-19T13:18:51.470Z"
   },
   {
    "duration": 183,
    "start_time": "2023-06-19T13:19:19.555Z"
   },
   {
    "duration": 220,
    "start_time": "2023-06-19T13:21:06.506Z"
   },
   {
    "duration": 195,
    "start_time": "2023-06-19T13:24:00.369Z"
   },
   {
    "duration": 170,
    "start_time": "2023-06-19T13:24:21.450Z"
   },
   {
    "duration": 176,
    "start_time": "2023-06-19T13:24:32.390Z"
   },
   {
    "duration": 90,
    "start_time": "2023-06-19T13:27:26.553Z"
   },
   {
    "duration": 69,
    "start_time": "2023-06-19T13:27:35.028Z"
   },
   {
    "duration": 65,
    "start_time": "2023-06-19T13:27:48.281Z"
   },
   {
    "duration": 151,
    "start_time": "2023-06-19T13:28:08.251Z"
   },
   {
    "duration": 15,
    "start_time": "2023-06-19T13:28:56.727Z"
   },
   {
    "duration": 185,
    "start_time": "2023-06-19T13:30:26.475Z"
   },
   {
    "duration": 322,
    "start_time": "2023-06-19T13:30:50.400Z"
   },
   {
    "duration": 180,
    "start_time": "2023-06-19T13:31:22.834Z"
   },
   {
    "duration": 175,
    "start_time": "2023-06-19T13:31:34.948Z"
   },
   {
    "duration": 183,
    "start_time": "2023-06-19T13:32:04.039Z"
   },
   {
    "duration": 170,
    "start_time": "2023-06-19T13:32:11.168Z"
   },
   {
    "duration": 14,
    "start_time": "2023-06-19T13:35:47.617Z"
   },
   {
    "duration": 16,
    "start_time": "2023-06-19T13:36:00.825Z"
   },
   {
    "duration": 184,
    "start_time": "2023-06-19T13:36:45.819Z"
   },
   {
    "duration": 160,
    "start_time": "2023-06-19T13:37:56.778Z"
   },
   {
    "duration": 6,
    "start_time": "2023-06-19T13:39:25.737Z"
   },
   {
    "duration": 19,
    "start_time": "2023-06-19T13:39:36.633Z"
   },
   {
    "duration": 189,
    "start_time": "2023-06-19T13:40:18.562Z"
   },
   {
    "duration": 66,
    "start_time": "2023-06-19T15:19:09.169Z"
   },
   {
    "duration": 1288,
    "start_time": "2023-06-19T15:19:20.561Z"
   },
   {
    "duration": 85,
    "start_time": "2023-06-19T15:19:21.851Z"
   },
   {
    "duration": 4,
    "start_time": "2023-06-19T15:19:21.938Z"
   },
   {
    "duration": 37,
    "start_time": "2023-06-19T15:19:21.943Z"
   },
   {
    "duration": 11,
    "start_time": "2023-06-19T15:19:21.983Z"
   },
   {
    "duration": 187,
    "start_time": "2023-06-19T15:19:21.995Z"
   },
   {
    "duration": 96,
    "start_time": "2023-06-19T15:19:22.184Z"
   },
   {
    "duration": 64,
    "start_time": "2023-06-19T15:19:22.282Z"
   },
   {
    "duration": 16,
    "start_time": "2023-06-19T15:19:22.348Z"
   },
   {
    "duration": 318,
    "start_time": "2023-06-19T15:19:22.366Z"
   },
   {
    "duration": 398,
    "start_time": "2023-06-19T15:19:22.685Z"
   },
   {
    "duration": 238,
    "start_time": "2023-06-19T15:19:23.085Z"
   },
   {
    "duration": 369,
    "start_time": "2023-06-19T15:19:23.325Z"
   },
   {
    "duration": 266,
    "start_time": "2023-06-19T15:19:23.698Z"
   },
   {
    "duration": 362,
    "start_time": "2023-06-19T15:19:23.966Z"
   },
   {
    "duration": 16,
    "start_time": "2023-06-19T15:19:24.330Z"
   },
   {
    "duration": 22,
    "start_time": "2023-06-19T15:19:24.350Z"
   },
   {
    "duration": 158,
    "start_time": "2023-06-19T15:19:24.374Z"
   },
   {
    "duration": 158,
    "start_time": "2023-06-19T15:19:24.534Z"
   },
   {
    "duration": 6,
    "start_time": "2023-06-19T15:19:24.694Z"
   },
   {
    "duration": 200,
    "start_time": "2023-06-19T15:19:24.701Z"
   },
   {
    "duration": 234,
    "start_time": "2023-06-19T15:19:24.902Z"
   },
   {
    "duration": 8,
    "start_time": "2023-06-19T15:19:25.137Z"
   },
   {
    "duration": 5,
    "start_time": "2023-06-19T15:20:59.431Z"
   },
   {
    "duration": 1294,
    "start_time": "2023-06-19T18:58:39.765Z"
   },
   {
    "duration": 101,
    "start_time": "2023-06-19T18:58:41.062Z"
   },
   {
    "duration": 4,
    "start_time": "2023-06-19T18:58:41.165Z"
   },
   {
    "duration": 23,
    "start_time": "2023-06-19T18:58:41.171Z"
   },
   {
    "duration": 14,
    "start_time": "2023-06-19T18:58:41.195Z"
   },
   {
    "duration": 265,
    "start_time": "2023-06-19T18:58:41.211Z"
   },
   {
    "duration": 95,
    "start_time": "2023-06-19T18:58:41.478Z"
   },
   {
    "duration": 64,
    "start_time": "2023-06-19T18:58:41.575Z"
   },
   {
    "duration": 14,
    "start_time": "2023-06-19T18:58:41.640Z"
   },
   {
    "duration": 317,
    "start_time": "2023-06-19T18:58:41.657Z"
   },
   {
    "duration": 294,
    "start_time": "2023-06-19T18:58:41.975Z"
   },
   {
    "duration": 225,
    "start_time": "2023-06-19T18:58:42.271Z"
   },
   {
    "duration": 445,
    "start_time": "2023-06-19T18:58:42.498Z"
   },
   {
    "duration": 255,
    "start_time": "2023-06-19T18:58:42.945Z"
   },
   {
    "duration": 395,
    "start_time": "2023-06-19T18:58:43.203Z"
   },
   {
    "duration": 9,
    "start_time": "2023-06-19T18:58:43.600Z"
   },
   {
    "duration": 16,
    "start_time": "2023-06-19T18:58:43.611Z"
   },
   {
    "duration": 176,
    "start_time": "2023-06-19T18:58:43.629Z"
   },
   {
    "duration": 154,
    "start_time": "2023-06-19T18:58:43.808Z"
   },
   {
    "duration": 5,
    "start_time": "2023-06-19T18:58:43.964Z"
   },
   {
    "duration": 177,
    "start_time": "2023-06-19T18:58:43.971Z"
   },
   {
    "duration": 262,
    "start_time": "2023-06-19T18:58:44.151Z"
   },
   {
    "duration": 6,
    "start_time": "2023-06-19T18:58:44.415Z"
   },
   {
    "duration": 230,
    "start_time": "2023-06-19T19:01:15.292Z"
   },
   {
    "duration": 15,
    "start_time": "2023-06-19T19:01:39.254Z"
   },
   {
    "duration": 13,
    "start_time": "2023-06-19T19:03:12.930Z"
   },
   {
    "duration": 219,
    "start_time": "2023-06-19T19:05:58.163Z"
   },
   {
    "duration": 217,
    "start_time": "2023-06-19T19:06:09.121Z"
   },
   {
    "duration": 216,
    "start_time": "2023-06-19T19:06:37.170Z"
   },
   {
    "duration": 205,
    "start_time": "2023-06-19T19:06:46.869Z"
   },
   {
    "duration": 21,
    "start_time": "2023-06-19T19:18:01.664Z"
   },
   {
    "duration": 203,
    "start_time": "2023-06-19T19:18:57.490Z"
   },
   {
    "duration": 11,
    "start_time": "2023-06-19T19:19:07.549Z"
   },
   {
    "duration": 346,
    "start_time": "2023-06-19T19:36:11.797Z"
   },
   {
    "duration": 1249,
    "start_time": "2023-06-19T19:39:26.733Z"
   },
   {
    "duration": 1736,
    "start_time": "2023-06-19T19:39:41.683Z"
   },
   {
    "duration": 25,
    "start_time": "2023-06-19T19:40:59.893Z"
   },
   {
    "duration": 24,
    "start_time": "2023-06-19T19:42:07.052Z"
   },
   {
    "duration": 40,
    "start_time": "2023-06-19T19:45:50.654Z"
   },
   {
    "duration": 25,
    "start_time": "2023-06-19T19:47:00.883Z"
   },
   {
    "duration": 46,
    "start_time": "2023-06-19T20:14:15.382Z"
   },
   {
    "duration": 35,
    "start_time": "2023-06-19T20:14:35.015Z"
   },
   {
    "duration": 48,
    "start_time": "2023-06-19T20:15:32.518Z"
   },
   {
    "duration": 1462,
    "start_time": "2023-06-20T14:44:04.567Z"
   },
   {
    "duration": 105,
    "start_time": "2023-06-20T14:44:06.032Z"
   },
   {
    "duration": 3,
    "start_time": "2023-06-20T14:44:06.140Z"
   },
   {
    "duration": 33,
    "start_time": "2023-06-20T14:44:06.146Z"
   },
   {
    "duration": 17,
    "start_time": "2023-06-20T14:44:06.181Z"
   },
   {
    "duration": 246,
    "start_time": "2023-06-20T14:44:06.200Z"
   },
   {
    "duration": 116,
    "start_time": "2023-06-20T14:44:06.448Z"
   },
   {
    "duration": 71,
    "start_time": "2023-06-20T14:44:06.567Z"
   },
   {
    "duration": 15,
    "start_time": "2023-06-20T14:44:06.640Z"
   },
   {
    "duration": 319,
    "start_time": "2023-06-20T14:44:06.659Z"
   },
   {
    "duration": 338,
    "start_time": "2023-06-20T14:44:06.982Z"
   },
   {
    "duration": 316,
    "start_time": "2023-06-20T14:44:07.321Z"
   },
   {
    "duration": 435,
    "start_time": "2023-06-20T14:44:07.640Z"
   },
   {
    "duration": 331,
    "start_time": "2023-06-20T14:44:08.078Z"
   },
   {
    "duration": 506,
    "start_time": "2023-06-20T14:44:08.411Z"
   },
   {
    "duration": 12,
    "start_time": "2023-06-20T14:44:08.919Z"
   },
   {
    "duration": 34,
    "start_time": "2023-06-20T14:44:08.933Z"
   },
   {
    "duration": 224,
    "start_time": "2023-06-20T14:44:08.969Z"
   },
   {
    "duration": 204,
    "start_time": "2023-06-20T14:44:09.195Z"
   },
   {
    "duration": 9,
    "start_time": "2023-06-20T14:44:09.401Z"
   },
   {
    "duration": 236,
    "start_time": "2023-06-20T14:44:09.412Z"
   },
   {
    "duration": 366,
    "start_time": "2023-06-20T14:44:09.651Z"
   },
   {
    "duration": 7,
    "start_time": "2023-06-20T14:44:10.019Z"
   },
   {
    "duration": 288,
    "start_time": "2023-06-20T14:44:10.029Z"
   },
   {
    "duration": 170,
    "start_time": "2023-06-20T14:44:10.319Z"
   },
   {
    "duration": 27,
    "start_time": "2023-06-20T14:44:10.491Z"
   },
   {
    "duration": 192,
    "start_time": "2023-06-20T14:44:10.521Z"
   },
   {
    "duration": 23,
    "start_time": "2023-06-20T14:45:58.382Z"
   },
   {
    "duration": 26,
    "start_time": "2023-06-20T14:46:12.066Z"
   },
   {
    "duration": 21,
    "start_time": "2023-06-20T14:47:46.117Z"
   },
   {
    "duration": 43,
    "start_time": "2023-06-20T14:48:52.447Z"
   },
   {
    "duration": 27,
    "start_time": "2023-06-20T14:51:02.614Z"
   },
   {
    "duration": 59,
    "start_time": "2023-06-20T14:59:35.059Z"
   },
   {
    "duration": 40,
    "start_time": "2023-06-20T14:59:47.355Z"
   },
   {
    "duration": 8,
    "start_time": "2023-06-20T15:03:44.711Z"
   },
   {
    "duration": 10,
    "start_time": "2023-06-20T15:03:59.557Z"
   },
   {
    "duration": 42,
    "start_time": "2023-06-20T15:06:24.476Z"
   },
   {
    "duration": 65,
    "start_time": "2023-06-20T15:09:40.187Z"
   },
   {
    "duration": 57,
    "start_time": "2023-06-20T15:09:49.338Z"
   },
   {
    "duration": 13,
    "start_time": "2023-06-20T15:27:52.887Z"
   },
   {
    "duration": 13,
    "start_time": "2023-06-20T15:30:26.598Z"
   },
   {
    "duration": 1008,
    "start_time": "2023-06-20T15:47:07.239Z"
   },
   {
    "duration": 1168,
    "start_time": "2023-06-20T15:48:45.872Z"
   },
   {
    "duration": 10,
    "start_time": "2023-06-20T15:49:10.156Z"
   },
   {
    "duration": 6,
    "start_time": "2023-06-20T16:20:59.217Z"
   },
   {
    "duration": 23,
    "start_time": "2023-06-20T16:23:05.097Z"
   },
   {
    "duration": 30,
    "start_time": "2023-06-20T16:26:34.864Z"
   },
   {
    "duration": 1580,
    "start_time": "2023-06-20T16:29:04.077Z"
   },
   {
    "duration": 14,
    "start_time": "2023-06-20T16:30:03.381Z"
   },
   {
    "duration": 42,
    "start_time": "2023-06-20T16:39:13.230Z"
   },
   {
    "duration": 48,
    "start_time": "2023-06-20T16:41:12.449Z"
   },
   {
    "duration": 33,
    "start_time": "2023-06-20T16:42:16.590Z"
   },
   {
    "duration": 1818,
    "start_time": "2023-06-20T16:44:02.924Z"
   },
   {
    "duration": 18,
    "start_time": "2023-06-20T16:44:43.904Z"
   },
   {
    "duration": 28,
    "start_time": "2023-06-20T16:47:26.257Z"
   },
   {
    "duration": 14,
    "start_time": "2023-06-20T16:50:01.881Z"
   },
   {
    "duration": 18,
    "start_time": "2023-06-20T16:50:55.289Z"
   },
   {
    "duration": 14,
    "start_time": "2023-06-20T16:51:27.658Z"
   },
   {
    "duration": 21,
    "start_time": "2023-06-20T16:54:44.004Z"
   },
   {
    "duration": 23,
    "start_time": "2023-06-20T16:58:10.553Z"
   },
   {
    "duration": 28,
    "start_time": "2023-06-20T16:58:15.090Z"
   },
   {
    "duration": 1327,
    "start_time": "2023-06-22T13:39:56.517Z"
   },
   {
    "duration": 84,
    "start_time": "2023-06-22T13:39:57.846Z"
   },
   {
    "duration": 3,
    "start_time": "2023-06-22T13:39:57.932Z"
   },
   {
    "duration": 20,
    "start_time": "2023-06-22T13:39:57.937Z"
   },
   {
    "duration": 14,
    "start_time": "2023-06-22T13:39:57.959Z"
   },
   {
    "duration": 229,
    "start_time": "2023-06-22T13:39:57.975Z"
   },
   {
    "duration": 99,
    "start_time": "2023-06-22T13:39:58.209Z"
   },
   {
    "duration": 68,
    "start_time": "2023-06-22T13:39:58.310Z"
   },
   {
    "duration": 15,
    "start_time": "2023-06-22T13:39:58.380Z"
   },
   {
    "duration": 313,
    "start_time": "2023-06-22T13:39:58.397Z"
   },
   {
    "duration": 302,
    "start_time": "2023-06-22T13:39:58.712Z"
   },
   {
    "duration": 235,
    "start_time": "2023-06-22T13:39:59.016Z"
   },
   {
    "duration": 384,
    "start_time": "2023-06-22T13:39:59.253Z"
   },
   {
    "duration": 264,
    "start_time": "2023-06-22T13:39:59.641Z"
   },
   {
    "duration": 365,
    "start_time": "2023-06-22T13:39:59.906Z"
   },
   {
    "duration": 9,
    "start_time": "2023-06-22T13:40:00.273Z"
   },
   {
    "duration": 66,
    "start_time": "2023-06-22T13:40:00.284Z"
   },
   {
    "duration": 238,
    "start_time": "2023-06-22T13:40:00.352Z"
   },
   {
    "duration": 176,
    "start_time": "2023-06-22T13:40:00.592Z"
   },
   {
    "duration": 5,
    "start_time": "2023-06-22T13:40:00.770Z"
   },
   {
    "duration": 215,
    "start_time": "2023-06-22T13:40:00.777Z"
   },
   {
    "duration": 296,
    "start_time": "2023-06-22T13:40:00.994Z"
   },
   {
    "duration": 6,
    "start_time": "2023-06-22T13:40:01.292Z"
   },
   {
    "duration": 255,
    "start_time": "2023-06-22T13:40:01.310Z"
   },
   {
    "duration": 167,
    "start_time": "2023-06-22T13:40:01.567Z"
   },
   {
    "duration": 137,
    "start_time": "2023-06-22T13:40:01.736Z"
   },
   {
    "duration": 54,
    "start_time": "2023-06-22T13:40:01.875Z"
   },
   {
    "duration": 92,
    "start_time": "2023-06-22T13:40:01.932Z"
   },
   {
    "duration": 281,
    "start_time": "2023-06-22T13:40:02.026Z"
   },
   {
    "duration": 0,
    "start_time": "2023-06-22T13:40:02.310Z"
   },
   {
    "duration": 1,
    "start_time": "2023-06-22T13:40:02.311Z"
   },
   {
    "duration": 8,
    "start_time": "2023-06-22T13:40:41.857Z"
   },
   {
    "duration": 23,
    "start_time": "2023-06-22T13:40:47.213Z"
   },
   {
    "duration": 15,
    "start_time": "2023-06-22T13:40:51.243Z"
   },
   {
    "duration": 6,
    "start_time": "2023-06-22T13:46:08.357Z"
   },
   {
    "duration": 366,
    "start_time": "2023-06-22T15:17:12.717Z"
   },
   {
    "duration": 79,
    "start_time": "2023-06-22T15:37:25.218Z"
   },
   {
    "duration": 6,
    "start_time": "2023-06-22T16:59:46.722Z"
   },
   {
    "duration": 4,
    "start_time": "2023-06-22T18:15:11.198Z"
   },
   {
    "duration": 60,
    "start_time": "2023-06-22T18:15:11.204Z"
   },
   {
    "duration": 16,
    "start_time": "2023-06-22T18:15:11.267Z"
   },
   {
    "duration": 34,
    "start_time": "2023-06-22T18:15:11.284Z"
   },
   {
    "duration": 19,
    "start_time": "2023-06-22T18:15:11.321Z"
   },
   {
    "duration": 217,
    "start_time": "2023-06-22T18:15:11.342Z"
   },
   {
    "duration": 53,
    "start_time": "2023-06-22T18:15:11.561Z"
   },
   {
    "duration": 29,
    "start_time": "2023-06-22T18:15:11.615Z"
   },
   {
    "duration": 15,
    "start_time": "2023-06-22T18:15:11.646Z"
   },
   {
    "duration": 318,
    "start_time": "2023-06-22T18:15:11.663Z"
   },
   {
    "duration": 244,
    "start_time": "2023-06-22T18:15:11.984Z"
   },
   {
    "duration": 234,
    "start_time": "2023-06-22T18:15:12.230Z"
   },
   {
    "duration": 345,
    "start_time": "2023-06-22T18:15:12.466Z"
   },
   {
    "duration": 256,
    "start_time": "2023-06-22T18:15:12.812Z"
   },
   {
    "duration": 389,
    "start_time": "2023-06-22T18:15:13.069Z"
   },
   {
    "duration": 9,
    "start_time": "2023-06-22T18:15:13.460Z"
   },
   {
    "duration": 29,
    "start_time": "2023-06-22T18:15:13.471Z"
   },
   {
    "duration": 174,
    "start_time": "2023-06-22T18:15:13.502Z"
   },
   {
    "duration": 164,
    "start_time": "2023-06-22T18:15:13.678Z"
   },
   {
    "duration": 6,
    "start_time": "2023-06-22T18:15:13.844Z"
   },
   {
    "duration": 298,
    "start_time": "2023-06-22T18:15:13.852Z"
   },
   {
    "duration": 185,
    "start_time": "2023-06-22T18:15:14.152Z"
   },
   {
    "duration": 5,
    "start_time": "2023-06-22T18:15:14.339Z"
   },
   {
    "duration": 247,
    "start_time": "2023-06-22T18:15:14.346Z"
   },
   {
    "duration": 153,
    "start_time": "2023-06-22T18:15:14.595Z"
   },
   {
    "duration": 27,
    "start_time": "2023-06-22T18:15:14.750Z"
   },
   {
    "duration": 30,
    "start_time": "2023-06-22T18:15:14.778Z"
   },
   {
    "duration": 10,
    "start_time": "2023-06-22T18:15:14.810Z"
   },
   {
    "duration": 18,
    "start_time": "2023-06-22T18:15:14.823Z"
   },
   {
    "duration": 33,
    "start_time": "2023-06-22T18:15:14.843Z"
   },
   {
    "duration": 30,
    "start_time": "2023-06-22T18:15:14.878Z"
   },
   {
    "duration": 4,
    "start_time": "2023-06-22T19:23:58.393Z"
   },
   {
    "duration": 54,
    "start_time": "2023-06-22T19:23:58.399Z"
   },
   {
    "duration": 4,
    "start_time": "2023-06-22T19:23:58.455Z"
   },
   {
    "duration": 41,
    "start_time": "2023-06-22T19:23:58.462Z"
   },
   {
    "duration": 31,
    "start_time": "2023-06-22T19:23:58.505Z"
   },
   {
    "duration": 212,
    "start_time": "2023-06-22T19:23:58.538Z"
   },
   {
    "duration": 53,
    "start_time": "2023-06-22T19:23:58.752Z"
   },
   {
    "duration": 29,
    "start_time": "2023-06-22T19:23:58.807Z"
   },
   {
    "duration": 13,
    "start_time": "2023-06-22T19:23:58.840Z"
   },
   {
    "duration": 305,
    "start_time": "2023-06-22T19:23:58.855Z"
   },
   {
    "duration": 234,
    "start_time": "2023-06-22T19:23:59.162Z"
   },
   {
    "duration": 258,
    "start_time": "2023-06-22T19:23:59.398Z"
   },
   {
    "duration": 318,
    "start_time": "2023-06-22T19:23:59.658Z"
   },
   {
    "duration": 261,
    "start_time": "2023-06-22T19:23:59.978Z"
   },
   {
    "duration": 343,
    "start_time": "2023-06-22T19:24:00.241Z"
   },
   {
    "duration": 10,
    "start_time": "2023-06-22T19:24:00.586Z"
   },
   {
    "duration": 20,
    "start_time": "2023-06-22T19:24:00.609Z"
   },
   {
    "duration": 194,
    "start_time": "2023-06-22T19:24:00.631Z"
   },
   {
    "duration": 161,
    "start_time": "2023-06-22T19:24:00.827Z"
   },
   {
    "duration": 5,
    "start_time": "2023-06-22T19:24:00.990Z"
   },
   {
    "duration": 302,
    "start_time": "2023-06-22T19:24:01.009Z"
   },
   {
    "duration": 189,
    "start_time": "2023-06-22T19:24:01.313Z"
   },
   {
    "duration": 8,
    "start_time": "2023-06-22T19:24:01.504Z"
   },
   {
    "duration": 322,
    "start_time": "2023-06-22T19:24:01.515Z"
   },
   {
    "duration": 145,
    "start_time": "2023-06-22T19:24:01.839Z"
   },
   {
    "duration": 34,
    "start_time": "2023-06-22T19:24:01.986Z"
   },
   {
    "duration": 48,
    "start_time": "2023-06-22T19:24:02.022Z"
   },
   {
    "duration": 44,
    "start_time": "2023-06-22T19:24:02.072Z"
   },
   {
    "duration": 37,
    "start_time": "2023-06-22T19:24:02.117Z"
   },
   {
    "duration": 89,
    "start_time": "2023-06-22T19:24:02.156Z"
   },
   {
    "duration": 52,
    "start_time": "2023-06-22T19:24:02.247Z"
   },
   {
    "duration": 1449,
    "start_time": "2023-06-22T20:01:38.677Z"
   },
   {
    "duration": 98,
    "start_time": "2023-06-22T20:01:40.127Z"
   },
   {
    "duration": 4,
    "start_time": "2023-06-22T20:01:40.226Z"
   },
   {
    "duration": 16,
    "start_time": "2023-06-22T20:01:40.231Z"
   },
   {
    "duration": 21,
    "start_time": "2023-06-22T20:01:40.249Z"
   },
   {
    "duration": 223,
    "start_time": "2023-06-22T20:01:40.276Z"
   },
   {
    "duration": 105,
    "start_time": "2023-06-22T20:01:40.500Z"
   },
   {
    "duration": 80,
    "start_time": "2023-06-22T20:01:40.607Z"
   },
   {
    "duration": 19,
    "start_time": "2023-06-22T20:01:40.690Z"
   },
   {
    "duration": 304,
    "start_time": "2023-06-22T20:01:40.711Z"
   },
   {
    "duration": 315,
    "start_time": "2023-06-22T20:01:41.017Z"
   },
   {
    "duration": 270,
    "start_time": "2023-06-22T20:01:41.334Z"
   },
   {
    "duration": 380,
    "start_time": "2023-06-22T20:01:41.605Z"
   },
   {
    "duration": 257,
    "start_time": "2023-06-22T20:01:41.988Z"
   },
   {
    "duration": 377,
    "start_time": "2023-06-22T20:01:42.246Z"
   },
   {
    "duration": 9,
    "start_time": "2023-06-22T20:01:42.624Z"
   },
   {
    "duration": 31,
    "start_time": "2023-06-22T20:01:42.634Z"
   },
   {
    "duration": 163,
    "start_time": "2023-06-22T20:01:42.673Z"
   },
   {
    "duration": 186,
    "start_time": "2023-06-22T20:01:42.838Z"
   },
   {
    "duration": 5,
    "start_time": "2023-06-22T20:01:43.026Z"
   },
   {
    "duration": 200,
    "start_time": "2023-06-22T20:01:43.033Z"
   },
   {
    "duration": 268,
    "start_time": "2023-06-22T20:01:43.235Z"
   },
   {
    "duration": 4,
    "start_time": "2023-06-22T20:01:43.505Z"
   },
   {
    "duration": 243,
    "start_time": "2023-06-22T20:01:43.511Z"
   },
   {
    "duration": 153,
    "start_time": "2023-06-22T20:01:43.756Z"
   },
   {
    "duration": 24,
    "start_time": "2023-06-22T20:01:43.911Z"
   },
   {
    "duration": 42,
    "start_time": "2023-06-22T20:01:43.937Z"
   },
   {
    "duration": 9,
    "start_time": "2023-06-22T20:01:43.983Z"
   },
   {
    "duration": 8,
    "start_time": "2023-06-22T20:01:43.993Z"
   },
   {
    "duration": 20,
    "start_time": "2023-06-22T20:01:44.003Z"
   },
   {
    "duration": 14,
    "start_time": "2023-06-22T20:01:44.025Z"
   },
   {
    "duration": 1503,
    "start_time": "2023-06-23T07:42:20.341Z"
   },
   {
    "duration": 84,
    "start_time": "2023-06-23T07:42:21.846Z"
   },
   {
    "duration": 4,
    "start_time": "2023-06-23T07:42:21.932Z"
   },
   {
    "duration": 45,
    "start_time": "2023-06-23T07:42:21.938Z"
   },
   {
    "duration": 41,
    "start_time": "2023-06-23T07:42:21.985Z"
   },
   {
    "duration": 290,
    "start_time": "2023-06-23T07:42:22.028Z"
   },
   {
    "duration": 108,
    "start_time": "2023-06-23T07:42:22.321Z"
   },
   {
    "duration": 68,
    "start_time": "2023-06-23T07:42:22.431Z"
   },
   {
    "duration": 14,
    "start_time": "2023-06-23T07:42:22.501Z"
   },
   {
    "duration": 345,
    "start_time": "2023-06-23T07:42:22.519Z"
   },
   {
    "duration": 319,
    "start_time": "2023-06-23T07:42:22.866Z"
   },
   {
    "duration": 240,
    "start_time": "2023-06-23T07:42:23.187Z"
   },
   {
    "duration": 390,
    "start_time": "2023-06-23T07:42:23.428Z"
   },
   {
    "duration": 306,
    "start_time": "2023-06-23T07:42:23.820Z"
   },
   {
    "duration": 388,
    "start_time": "2023-06-23T07:42:24.129Z"
   },
   {
    "duration": 9,
    "start_time": "2023-06-23T07:42:24.518Z"
   },
   {
    "duration": 23,
    "start_time": "2023-06-23T07:42:24.529Z"
   },
   {
    "duration": 191,
    "start_time": "2023-06-23T07:42:24.553Z"
   },
   {
    "duration": 186,
    "start_time": "2023-06-23T07:42:24.747Z"
   },
   {
    "duration": 5,
    "start_time": "2023-06-23T07:42:24.934Z"
   },
   {
    "duration": 195,
    "start_time": "2023-06-23T07:42:24.941Z"
   },
   {
    "duration": 286,
    "start_time": "2023-06-23T07:42:25.137Z"
   },
   {
    "duration": 5,
    "start_time": "2023-06-23T07:42:25.425Z"
   },
   {
    "duration": 251,
    "start_time": "2023-06-23T07:42:25.431Z"
   },
   {
    "duration": 146,
    "start_time": "2023-06-23T07:42:25.684Z"
   },
   {
    "duration": 26,
    "start_time": "2023-06-23T07:42:25.831Z"
   },
   {
    "duration": 12,
    "start_time": "2023-06-23T07:42:25.859Z"
   },
   {
    "duration": 56,
    "start_time": "2023-06-23T07:42:25.874Z"
   },
   {
    "duration": 48,
    "start_time": "2023-06-23T07:42:25.931Z"
   },
   {
    "duration": 48,
    "start_time": "2023-06-23T07:42:25.981Z"
   },
   {
    "duration": 30,
    "start_time": "2023-06-23T07:42:26.030Z"
   },
   {
    "duration": 11,
    "start_time": "2023-06-23T07:45:11.261Z"
   },
   {
    "duration": 102,
    "start_time": "2023-06-23T07:49:09.901Z"
   },
   {
    "duration": 2872,
    "start_time": "2023-06-23T07:50:32.508Z"
   },
   {
    "duration": 16,
    "start_time": "2023-06-23T07:54:22.850Z"
   },
   {
    "duration": 1308,
    "start_time": "2023-06-23T07:55:25.225Z"
   },
   {
    "duration": 1464,
    "start_time": "2023-06-23T07:55:49.501Z"
   },
   {
    "duration": 1746,
    "start_time": "2023-06-23T08:01:56.860Z"
   },
   {
    "duration": 15,
    "start_time": "2023-06-23T08:09:14.512Z"
   },
   {
    "duration": 15,
    "start_time": "2023-06-23T08:09:25.509Z"
   },
   {
    "duration": 19,
    "start_time": "2023-06-23T08:54:53.120Z"
   },
   {
    "duration": 15,
    "start_time": "2023-06-23T08:55:21.166Z"
   },
   {
    "duration": 13,
    "start_time": "2023-06-23T08:56:22.816Z"
   },
   {
    "duration": 14,
    "start_time": "2023-06-23T08:56:59.312Z"
   },
   {
    "duration": 14,
    "start_time": "2023-06-23T09:01:50.237Z"
   },
   {
    "duration": 16,
    "start_time": "2023-06-23T09:01:59.655Z"
   },
   {
    "duration": 16,
    "start_time": "2023-06-23T09:02:16.120Z"
   },
   {
    "duration": 22,
    "start_time": "2023-06-23T09:09:30.000Z"
   },
   {
    "duration": 15,
    "start_time": "2023-06-23T09:10:32.254Z"
   },
   {
    "duration": 15,
    "start_time": "2023-06-23T09:10:47.820Z"
   },
   {
    "duration": 15,
    "start_time": "2023-06-23T09:11:11.135Z"
   },
   {
    "duration": 13,
    "start_time": "2023-06-23T09:11:44.643Z"
   },
   {
    "duration": 13,
    "start_time": "2023-06-23T09:18:26.940Z"
   },
   {
    "duration": 11,
    "start_time": "2023-06-23T09:18:49.417Z"
   },
   {
    "duration": 11,
    "start_time": "2023-06-23T09:23:43.007Z"
   },
   {
    "duration": 12,
    "start_time": "2023-06-23T09:23:54.356Z"
   },
   {
    "duration": 4,
    "start_time": "2023-06-23T09:24:04.032Z"
   },
   {
    "duration": 48,
    "start_time": "2023-06-23T09:24:04.038Z"
   },
   {
    "duration": 4,
    "start_time": "2023-06-23T09:24:04.087Z"
   },
   {
    "duration": 19,
    "start_time": "2023-06-23T09:24:04.093Z"
   },
   {
    "duration": 24,
    "start_time": "2023-06-23T09:24:04.115Z"
   },
   {
    "duration": 233,
    "start_time": "2023-06-23T09:24:04.141Z"
   },
   {
    "duration": 54,
    "start_time": "2023-06-23T09:24:04.376Z"
   },
   {
    "duration": 27,
    "start_time": "2023-06-23T09:24:04.432Z"
   },
   {
    "duration": 13,
    "start_time": "2023-06-23T09:24:04.461Z"
   },
   {
    "duration": 296,
    "start_time": "2023-06-23T09:24:04.475Z"
   },
   {
    "duration": 238,
    "start_time": "2023-06-23T09:24:04.772Z"
   },
   {
    "duration": 241,
    "start_time": "2023-06-23T09:24:05.012Z"
   },
   {
    "duration": 383,
    "start_time": "2023-06-23T09:24:05.255Z"
   },
   {
    "duration": 261,
    "start_time": "2023-06-23T09:24:05.641Z"
   },
   {
    "duration": 360,
    "start_time": "2023-06-23T09:24:05.903Z"
   },
   {
    "duration": 9,
    "start_time": "2023-06-23T09:24:06.264Z"
   },
   {
    "duration": 30,
    "start_time": "2023-06-23T09:24:06.275Z"
   },
   {
    "duration": 169,
    "start_time": "2023-06-23T09:24:06.307Z"
   },
   {
    "duration": 158,
    "start_time": "2023-06-23T09:24:06.478Z"
   },
   {
    "duration": 5,
    "start_time": "2023-06-23T09:24:06.637Z"
   },
   {
    "duration": 191,
    "start_time": "2023-06-23T09:24:06.644Z"
   },
   {
    "duration": 280,
    "start_time": "2023-06-23T09:24:06.836Z"
   },
   {
    "duration": 5,
    "start_time": "2023-06-23T09:24:07.118Z"
   },
   {
    "duration": 258,
    "start_time": "2023-06-23T09:24:07.124Z"
   },
   {
    "duration": 132,
    "start_time": "2023-06-23T09:24:07.383Z"
   },
   {
    "duration": 31,
    "start_time": "2023-06-23T09:24:07.517Z"
   },
   {
    "duration": 26,
    "start_time": "2023-06-23T09:24:07.549Z"
   },
   {
    "duration": 26,
    "start_time": "2023-06-23T09:24:07.577Z"
   },
   {
    "duration": 10,
    "start_time": "2023-06-23T09:24:07.606Z"
   },
   {
    "duration": 29,
    "start_time": "2023-06-23T09:24:07.618Z"
   },
   {
    "duration": 15,
    "start_time": "2023-06-23T09:24:07.650Z"
   },
   {
    "duration": 24,
    "start_time": "2023-06-23T09:24:07.667Z"
   },
   {
    "duration": 31,
    "start_time": "2023-06-23T09:24:07.692Z"
   },
   {
    "duration": 35,
    "start_time": "2023-06-23T09:24:07.724Z"
   },
   {
    "duration": 191,
    "start_time": "2023-06-23T09:25:47.669Z"
   },
   {
    "duration": 25,
    "start_time": "2023-06-23T09:34:48.941Z"
   },
   {
    "duration": 253,
    "start_time": "2023-06-23T09:35:06.535Z"
   },
   {
    "duration": 18,
    "start_time": "2023-06-23T09:36:54.808Z"
   },
   {
    "duration": 18,
    "start_time": "2023-06-23T09:37:13.346Z"
   },
   {
    "duration": 5,
    "start_time": "2023-06-23T09:37:30.630Z"
   },
   {
    "duration": 101,
    "start_time": "2023-06-23T09:37:30.637Z"
   },
   {
    "duration": 25,
    "start_time": "2023-06-23T09:37:30.741Z"
   },
   {
    "duration": 137,
    "start_time": "2023-06-23T09:37:30.768Z"
   },
   {
    "duration": 115,
    "start_time": "2023-06-23T09:37:30.915Z"
   },
   {
    "duration": 323,
    "start_time": "2023-06-23T09:37:31.032Z"
   },
   {
    "duration": 63,
    "start_time": "2023-06-23T09:37:31.358Z"
   },
   {
    "duration": 69,
    "start_time": "2023-06-23T09:37:31.424Z"
   },
   {
    "duration": 155,
    "start_time": "2023-06-23T09:37:31.495Z"
   },
   {
    "duration": 450,
    "start_time": "2023-06-23T09:37:31.653Z"
   },
   {
    "duration": 263,
    "start_time": "2023-06-23T09:37:32.105Z"
   },
   {
    "duration": 272,
    "start_time": "2023-06-23T09:37:32.370Z"
   },
   {
    "duration": 347,
    "start_time": "2023-06-23T09:37:32.645Z"
   },
   {
    "duration": 310,
    "start_time": "2023-06-23T09:37:33.005Z"
   },
   {
    "duration": 423,
    "start_time": "2023-06-23T09:37:33.326Z"
   },
   {
    "duration": 13,
    "start_time": "2023-06-23T09:37:33.751Z"
   },
   {
    "duration": 43,
    "start_time": "2023-06-23T09:37:33.766Z"
   },
   {
    "duration": 229,
    "start_time": "2023-06-23T09:37:33.822Z"
   },
   {
    "duration": 317,
    "start_time": "2023-06-23T09:37:34.053Z"
   },
   {
    "duration": 7,
    "start_time": "2023-06-23T09:37:34.373Z"
   },
   {
    "duration": 250,
    "start_time": "2023-06-23T09:37:34.382Z"
   },
   {
    "duration": 208,
    "start_time": "2023-06-23T09:37:34.635Z"
   },
   {
    "duration": 8,
    "start_time": "2023-06-23T09:37:34.846Z"
   },
   {
    "duration": 307,
    "start_time": "2023-06-23T09:37:34.856Z"
   },
   {
    "duration": 200,
    "start_time": "2023-06-23T09:37:35.166Z"
   },
   {
    "duration": 36,
    "start_time": "2023-06-23T09:37:35.368Z"
   },
   {
    "duration": 26,
    "start_time": "2023-06-23T09:37:35.408Z"
   },
   {
    "duration": 37,
    "start_time": "2023-06-23T09:37:35.436Z"
   },
   {
    "duration": 33,
    "start_time": "2023-06-23T09:37:35.476Z"
   },
   {
    "duration": 59,
    "start_time": "2023-06-23T09:37:35.516Z"
   },
   {
    "duration": 16,
    "start_time": "2023-06-23T09:37:35.577Z"
   },
   {
    "duration": 52,
    "start_time": "2023-06-23T09:37:35.595Z"
   },
   {
    "duration": 34,
    "start_time": "2023-06-23T09:37:35.649Z"
   },
   {
    "duration": 246,
    "start_time": "2023-06-23T09:37:35.685Z"
   },
   {
    "duration": 1804,
    "start_time": "2023-06-23T09:38:10.570Z"
   },
   {
    "duration": 23,
    "start_time": "2023-06-23T09:38:24.838Z"
   },
   {
    "duration": 18,
    "start_time": "2023-06-23T09:38:36.718Z"
   },
   {
    "duration": 5,
    "start_time": "2023-06-23T09:38:42.108Z"
   },
   {
    "duration": 57,
    "start_time": "2023-06-23T09:38:42.117Z"
   },
   {
    "duration": 4,
    "start_time": "2023-06-23T09:38:42.176Z"
   },
   {
    "duration": 28,
    "start_time": "2023-06-23T09:38:42.182Z"
   },
   {
    "duration": 31,
    "start_time": "2023-06-23T09:38:42.213Z"
   },
   {
    "duration": 233,
    "start_time": "2023-06-23T09:38:42.246Z"
   },
   {
    "duration": 57,
    "start_time": "2023-06-23T09:38:42.481Z"
   },
   {
    "duration": 29,
    "start_time": "2023-06-23T09:38:42.539Z"
   },
   {
    "duration": 14,
    "start_time": "2023-06-23T09:38:42.570Z"
   },
   {
    "duration": 369,
    "start_time": "2023-06-23T09:38:42.587Z"
   },
   {
    "duration": 296,
    "start_time": "2023-06-23T09:38:42.958Z"
   },
   {
    "duration": 283,
    "start_time": "2023-06-23T09:38:43.256Z"
   },
   {
    "duration": 357,
    "start_time": "2023-06-23T09:38:43.541Z"
   },
   {
    "duration": 303,
    "start_time": "2023-06-23T09:38:43.899Z"
   },
   {
    "duration": 428,
    "start_time": "2023-06-23T09:38:44.205Z"
   },
   {
    "duration": 10,
    "start_time": "2023-06-23T09:38:44.636Z"
   },
   {
    "duration": 38,
    "start_time": "2023-06-23T09:38:44.648Z"
   },
   {
    "duration": 317,
    "start_time": "2023-06-23T09:38:44.688Z"
   },
   {
    "duration": 197,
    "start_time": "2023-06-23T09:38:45.008Z"
   },
   {
    "duration": 6,
    "start_time": "2023-06-23T09:38:45.208Z"
   },
   {
    "duration": 241,
    "start_time": "2023-06-23T09:38:45.216Z"
   },
   {
    "duration": 214,
    "start_time": "2023-06-23T09:38:45.459Z"
   },
   {
    "duration": 5,
    "start_time": "2023-06-23T09:38:45.675Z"
   },
   {
    "duration": 289,
    "start_time": "2023-06-23T09:38:45.682Z"
   },
   {
    "duration": 179,
    "start_time": "2023-06-23T09:38:45.972Z"
   },
   {
    "duration": 27,
    "start_time": "2023-06-23T09:38:46.153Z"
   },
   {
    "duration": 135,
    "start_time": "2023-06-23T09:38:46.182Z"
   },
   {
    "duration": 35,
    "start_time": "2023-06-23T09:38:46.322Z"
   },
   {
    "duration": 34,
    "start_time": "2023-06-23T09:38:46.359Z"
   },
   {
    "duration": 52,
    "start_time": "2023-06-23T09:38:46.395Z"
   },
   {
    "duration": 17,
    "start_time": "2023-06-23T09:38:46.449Z"
   },
   {
    "duration": 19,
    "start_time": "2023-06-23T09:38:46.468Z"
   },
   {
    "duration": 50,
    "start_time": "2023-06-23T09:38:46.489Z"
   },
   {
    "duration": 284,
    "start_time": "2023-06-23T09:38:46.542Z"
   },
   {
    "duration": 3182,
    "start_time": "2023-06-23T09:43:39.469Z"
   },
   {
    "duration": 3456,
    "start_time": "2023-06-23T09:44:09.451Z"
   },
   {
    "duration": 25,
    "start_time": "2023-06-23T09:44:21.440Z"
   },
   {
    "duration": 24,
    "start_time": "2023-06-23T09:44:36.445Z"
   },
   {
    "duration": 28,
    "start_time": "2023-06-23T09:44:45.310Z"
   },
   {
    "duration": 4,
    "start_time": "2023-06-23T09:44:56.656Z"
   },
   {
    "duration": 75,
    "start_time": "2023-06-23T09:44:56.662Z"
   },
   {
    "duration": 3,
    "start_time": "2023-06-23T09:44:56.739Z"
   },
   {
    "duration": 22,
    "start_time": "2023-06-23T09:44:56.745Z"
   },
   {
    "duration": 37,
    "start_time": "2023-06-23T09:44:56.770Z"
   },
   {
    "duration": 237,
    "start_time": "2023-06-23T09:44:56.811Z"
   },
   {
    "duration": 55,
    "start_time": "2023-06-23T09:44:57.050Z"
   },
   {
    "duration": 32,
    "start_time": "2023-06-23T09:44:57.107Z"
   },
   {
    "duration": 15,
    "start_time": "2023-06-23T09:44:57.142Z"
   },
   {
    "duration": 324,
    "start_time": "2023-06-23T09:44:57.159Z"
   },
   {
    "duration": 260,
    "start_time": "2023-06-23T09:44:57.484Z"
   },
   {
    "duration": 280,
    "start_time": "2023-06-23T09:44:57.746Z"
   },
   {
    "duration": 362,
    "start_time": "2023-06-23T09:44:58.028Z"
   },
   {
    "duration": 315,
    "start_time": "2023-06-23T09:44:58.391Z"
   },
   {
    "duration": 519,
    "start_time": "2023-06-23T09:44:58.713Z"
   },
   {
    "duration": 12,
    "start_time": "2023-06-23T09:44:59.234Z"
   },
   {
    "duration": 14,
    "start_time": "2023-06-23T09:44:59.248Z"
   },
   {
    "duration": 243,
    "start_time": "2023-06-23T09:44:59.264Z"
   },
   {
    "duration": 199,
    "start_time": "2023-06-23T09:44:59.509Z"
   },
   {
    "duration": 7,
    "start_time": "2023-06-23T09:44:59.711Z"
   },
   {
    "duration": 227,
    "start_time": "2023-06-23T09:44:59.725Z"
   },
   {
    "duration": 204,
    "start_time": "2023-06-23T09:44:59.954Z"
   },
   {
    "duration": 6,
    "start_time": "2023-06-23T09:45:00.161Z"
   },
   {
    "duration": 372,
    "start_time": "2023-06-23T09:45:00.171Z"
   },
   {
    "duration": 228,
    "start_time": "2023-06-23T09:45:00.545Z"
   },
   {
    "duration": 51,
    "start_time": "2023-06-23T09:45:00.775Z"
   },
   {
    "duration": 66,
    "start_time": "2023-06-23T09:45:00.829Z"
   },
   {
    "duration": 35,
    "start_time": "2023-06-23T09:45:00.897Z"
   },
   {
    "duration": 35,
    "start_time": "2023-06-23T09:45:00.934Z"
   },
   {
    "duration": 61,
    "start_time": "2023-06-23T09:45:00.971Z"
   },
   {
    "duration": 20,
    "start_time": "2023-06-23T09:45:01.034Z"
   },
   {
    "duration": 66,
    "start_time": "2023-06-23T09:45:01.057Z"
   },
   {
    "duration": 98,
    "start_time": "2023-06-23T09:45:01.126Z"
   },
   {
    "duration": 300,
    "start_time": "2023-06-23T09:45:01.228Z"
   },
   {
    "duration": 16,
    "start_time": "2023-06-23T09:46:04.943Z"
   },
   {
    "duration": 16,
    "start_time": "2023-06-23T09:49:34.127Z"
   },
   {
    "duration": 267,
    "start_time": "2023-06-23T09:49:41.818Z"
   },
   {
    "duration": 30,
    "start_time": "2023-06-23T09:51:57.515Z"
   },
   {
    "duration": 244,
    "start_time": "2023-06-23T09:52:01.316Z"
   },
   {
    "duration": 21,
    "start_time": "2023-06-23T09:55:59.713Z"
   },
   {
    "duration": 23,
    "start_time": "2023-06-23T09:56:14.510Z"
   },
   {
    "duration": 22,
    "start_time": "2023-06-23T09:59:22.626Z"
   },
   {
    "duration": 3,
    "start_time": "2023-06-23T09:59:40.053Z"
   },
   {
    "duration": 49,
    "start_time": "2023-06-23T09:59:40.059Z"
   },
   {
    "duration": 5,
    "start_time": "2023-06-23T09:59:40.114Z"
   },
   {
    "duration": 20,
    "start_time": "2023-06-23T09:59:40.120Z"
   },
   {
    "duration": 33,
    "start_time": "2023-06-23T09:59:40.142Z"
   },
   {
    "duration": 47,
    "start_time": "2023-06-23T09:59:40.177Z"
   },
   {
    "duration": 266,
    "start_time": "2023-06-23T09:59:40.226Z"
   },
   {
    "duration": 265,
    "start_time": "2023-06-23T09:59:40.501Z"
   },
   {
    "duration": 79,
    "start_time": "2023-06-23T09:59:40.769Z"
   },
   {
    "duration": 43,
    "start_time": "2023-06-23T09:59:40.850Z"
   },
   {
    "duration": 18,
    "start_time": "2023-06-23T09:59:40.895Z"
   },
   {
    "duration": 457,
    "start_time": "2023-06-23T09:59:40.916Z"
   },
   {
    "duration": 280,
    "start_time": "2023-06-23T09:59:41.375Z"
   },
   {
    "duration": 257,
    "start_time": "2023-06-23T09:59:41.657Z"
   },
   {
    "duration": 379,
    "start_time": "2023-06-23T09:59:41.917Z"
   },
   {
    "duration": 277,
    "start_time": "2023-06-23T09:59:42.298Z"
   },
   {
    "duration": 450,
    "start_time": "2023-06-23T09:59:42.577Z"
   },
   {
    "duration": 10,
    "start_time": "2023-06-23T09:59:43.029Z"
   },
   {
    "duration": 51,
    "start_time": "2023-06-23T09:59:43.042Z"
   },
   {
    "duration": 221,
    "start_time": "2023-06-23T09:59:43.095Z"
   },
   {
    "duration": 178,
    "start_time": "2023-06-23T09:59:43.319Z"
   },
   {
    "duration": 8,
    "start_time": "2023-06-23T09:59:43.498Z"
   },
   {
    "duration": 276,
    "start_time": "2023-06-23T09:59:43.509Z"
   },
   {
    "duration": 215,
    "start_time": "2023-06-23T09:59:43.787Z"
   },
   {
    "duration": 6,
    "start_time": "2023-06-23T09:59:44.006Z"
   },
   {
    "duration": 283,
    "start_time": "2023-06-23T09:59:44.015Z"
   },
   {
    "duration": 191,
    "start_time": "2023-06-23T09:59:44.302Z"
   },
   {
    "duration": 39,
    "start_time": "2023-06-23T09:59:44.501Z"
   },
   {
    "duration": 17,
    "start_time": "2023-06-23T09:59:44.542Z"
   },
   {
    "duration": 18,
    "start_time": "2023-06-23T09:59:44.561Z"
   },
   {
    "duration": 16,
    "start_time": "2023-06-23T09:59:44.602Z"
   },
   {
    "duration": 32,
    "start_time": "2023-06-23T09:59:44.622Z"
   },
   {
    "duration": 16,
    "start_time": "2023-06-23T09:59:44.656Z"
   },
   {
    "duration": 47,
    "start_time": "2023-06-23T09:59:44.673Z"
   },
   {
    "duration": 233,
    "start_time": "2023-06-23T09:59:44.722Z"
   },
   {
    "duration": 24,
    "start_time": "2023-06-23T10:01:34.727Z"
   },
   {
    "duration": 27,
    "start_time": "2023-06-23T10:02:19.128Z"
   },
   {
    "duration": 337,
    "start_time": "2023-06-23T10:02:28.312Z"
   },
   {
    "duration": 20,
    "start_time": "2023-06-23T10:03:12.623Z"
   },
   {
    "duration": 268,
    "start_time": "2023-06-23T10:03:41.224Z"
   },
   {
    "duration": 17,
    "start_time": "2023-06-23T10:05:49.041Z"
   },
   {
    "duration": 22,
    "start_time": "2023-06-23T10:05:53.944Z"
   },
   {
    "duration": 39,
    "start_time": "2023-06-23T10:06:19.122Z"
   },
   {
    "duration": 16,
    "start_time": "2023-06-23T10:06:22.668Z"
   },
   {
    "duration": 23,
    "start_time": "2023-06-23T10:06:54.866Z"
   },
   {
    "duration": 42,
    "start_time": "2023-06-23T10:08:36.896Z"
   },
   {
    "duration": 15,
    "start_time": "2023-06-23T10:08:41.963Z"
   },
   {
    "duration": 46,
    "start_time": "2023-06-23T10:08:47.610Z"
   },
   {
    "duration": 21,
    "start_time": "2023-06-23T10:11:46.552Z"
   },
   {
    "duration": 215,
    "start_time": "2023-06-23T10:11:57.644Z"
   },
   {
    "duration": 3,
    "start_time": "2023-06-23T10:59:08.545Z"
   },
   {
    "duration": 75,
    "start_time": "2023-06-23T10:59:08.551Z"
   },
   {
    "duration": 4,
    "start_time": "2023-06-23T10:59:08.628Z"
   },
   {
    "duration": 46,
    "start_time": "2023-06-23T10:59:08.633Z"
   },
   {
    "duration": 29,
    "start_time": "2023-06-23T10:59:08.682Z"
   },
   {
    "duration": 23,
    "start_time": "2023-06-23T10:59:08.713Z"
   },
   {
    "duration": 220,
    "start_time": "2023-06-23T10:59:08.739Z"
   },
   {
    "duration": 52,
    "start_time": "2023-06-23T10:59:08.961Z"
   },
   {
    "duration": 28,
    "start_time": "2023-06-23T10:59:09.015Z"
   },
   {
    "duration": 14,
    "start_time": "2023-06-23T10:59:09.045Z"
   },
   {
    "duration": 329,
    "start_time": "2023-06-23T10:59:09.061Z"
   },
   {
    "duration": 247,
    "start_time": "2023-06-23T10:59:09.391Z"
   },
   {
    "duration": 237,
    "start_time": "2023-06-23T10:59:09.640Z"
   },
   {
    "duration": 361,
    "start_time": "2023-06-23T10:59:09.880Z"
   },
   {
    "duration": 315,
    "start_time": "2023-06-23T10:59:10.243Z"
   },
   {
    "duration": 415,
    "start_time": "2023-06-23T10:59:10.560Z"
   },
   {
    "duration": 8,
    "start_time": "2023-06-23T10:59:10.977Z"
   },
   {
    "duration": 27,
    "start_time": "2023-06-23T10:59:11.001Z"
   },
   {
    "duration": 182,
    "start_time": "2023-06-23T10:59:11.030Z"
   },
   {
    "duration": 180,
    "start_time": "2023-06-23T10:59:11.214Z"
   },
   {
    "duration": 9,
    "start_time": "2023-06-23T10:59:11.396Z"
   },
   {
    "duration": 308,
    "start_time": "2023-06-23T10:59:11.406Z"
   },
   {
    "duration": 197,
    "start_time": "2023-06-23T10:59:11.716Z"
   },
   {
    "duration": 6,
    "start_time": "2023-06-23T10:59:11.915Z"
   },
   {
    "duration": 256,
    "start_time": "2023-06-23T10:59:11.923Z"
   },
   {
    "duration": 157,
    "start_time": "2023-06-23T10:59:12.181Z"
   },
   {
    "duration": 27,
    "start_time": "2023-06-23T10:59:12.340Z"
   },
   {
    "duration": 36,
    "start_time": "2023-06-23T10:59:12.369Z"
   },
   {
    "duration": 24,
    "start_time": "2023-06-23T10:59:12.407Z"
   },
   {
    "duration": 35,
    "start_time": "2023-06-23T10:59:12.433Z"
   },
   {
    "duration": 51,
    "start_time": "2023-06-23T10:59:12.471Z"
   },
   {
    "duration": 23,
    "start_time": "2023-06-23T10:59:12.525Z"
   },
   {
    "duration": 44,
    "start_time": "2023-06-23T10:59:12.550Z"
   },
   {
    "duration": 277,
    "start_time": "2023-06-23T10:59:12.596Z"
   },
   {
    "duration": 16,
    "start_time": "2023-06-23T11:01:31.508Z"
   },
   {
    "duration": 4,
    "start_time": "2023-06-23T11:01:35.960Z"
   },
   {
    "duration": 96,
    "start_time": "2023-06-23T11:01:35.966Z"
   },
   {
    "duration": 4,
    "start_time": "2023-06-23T11:01:36.065Z"
   },
   {
    "duration": 48,
    "start_time": "2023-06-23T11:01:36.071Z"
   },
   {
    "duration": 28,
    "start_time": "2023-06-23T11:01:36.122Z"
   },
   {
    "duration": 33,
    "start_time": "2023-06-23T11:01:36.152Z"
   },
   {
    "duration": 246,
    "start_time": "2023-06-23T11:01:36.189Z"
   },
   {
    "duration": 58,
    "start_time": "2023-06-23T11:01:36.437Z"
   },
   {
    "duration": 37,
    "start_time": "2023-06-23T11:01:36.497Z"
   },
   {
    "duration": 23,
    "start_time": "2023-06-23T11:01:36.536Z"
   },
   {
    "duration": 341,
    "start_time": "2023-06-23T11:01:36.564Z"
   },
   {
    "duration": 254,
    "start_time": "2023-06-23T11:01:36.907Z"
   },
   {
    "duration": 256,
    "start_time": "2023-06-23T11:01:37.164Z"
   },
   {
    "duration": 340,
    "start_time": "2023-06-23T11:01:37.422Z"
   },
   {
    "duration": 294,
    "start_time": "2023-06-23T11:01:37.764Z"
   },
   {
    "duration": 406,
    "start_time": "2023-06-23T11:01:38.060Z"
   },
   {
    "duration": 9,
    "start_time": "2023-06-23T11:01:38.468Z"
   },
   {
    "duration": 29,
    "start_time": "2023-06-23T11:01:38.478Z"
   },
   {
    "duration": 179,
    "start_time": "2023-06-23T11:01:38.509Z"
   },
   {
    "duration": 258,
    "start_time": "2023-06-23T11:01:38.691Z"
   },
   {
    "duration": 6,
    "start_time": "2023-06-23T11:01:38.951Z"
   },
   {
    "duration": 193,
    "start_time": "2023-06-23T11:01:38.959Z"
   },
   {
    "duration": 199,
    "start_time": "2023-06-23T11:01:39.154Z"
   },
   {
    "duration": 5,
    "start_time": "2023-06-23T11:01:39.355Z"
   },
   {
    "duration": 261,
    "start_time": "2023-06-23T11:01:39.362Z"
   },
   {
    "duration": 142,
    "start_time": "2023-06-23T11:01:39.625Z"
   },
   {
    "duration": 34,
    "start_time": "2023-06-23T11:01:39.769Z"
   },
   {
    "duration": 34,
    "start_time": "2023-06-23T11:01:39.805Z"
   },
   {
    "duration": 11,
    "start_time": "2023-06-23T11:01:39.842Z"
   },
   {
    "duration": 25,
    "start_time": "2023-06-23T11:01:39.855Z"
   },
   {
    "duration": 36,
    "start_time": "2023-06-23T11:01:39.883Z"
   },
   {
    "duration": 34,
    "start_time": "2023-06-23T11:01:39.921Z"
   },
   {
    "duration": 77,
    "start_time": "2023-06-23T11:09:32.105Z"
   },
   {
    "duration": 47,
    "start_time": "2023-06-23T11:09:41.248Z"
   },
   {
    "duration": 15,
    "start_time": "2023-06-23T11:40:33.517Z"
   },
   {
    "duration": 12,
    "start_time": "2023-06-23T11:41:07.058Z"
   },
   {
    "duration": 21,
    "start_time": "2023-06-23T11:42:46.325Z"
   },
   {
    "duration": 16,
    "start_time": "2023-06-23T11:44:11.421Z"
   },
   {
    "duration": 15,
    "start_time": "2023-06-23T11:49:27.162Z"
   },
   {
    "duration": 15,
    "start_time": "2023-06-23T11:50:12.331Z"
   },
   {
    "duration": 20,
    "start_time": "2023-06-23T11:53:20.324Z"
   },
   {
    "duration": 15,
    "start_time": "2023-06-23T11:54:21.509Z"
   },
   {
    "duration": 4,
    "start_time": "2023-06-23T11:54:30.239Z"
   },
   {
    "duration": 66,
    "start_time": "2023-06-23T11:54:30.245Z"
   },
   {
    "duration": 8,
    "start_time": "2023-06-23T11:54:30.312Z"
   },
   {
    "duration": 45,
    "start_time": "2023-06-23T11:54:30.322Z"
   },
   {
    "duration": 69,
    "start_time": "2023-06-23T11:54:30.369Z"
   },
   {
    "duration": 50,
    "start_time": "2023-06-23T11:54:30.440Z"
   },
   {
    "duration": 275,
    "start_time": "2023-06-23T11:54:30.492Z"
   },
   {
    "duration": 55,
    "start_time": "2023-06-23T11:54:30.769Z"
   },
   {
    "duration": 41,
    "start_time": "2023-06-23T11:54:30.827Z"
   },
   {
    "duration": 41,
    "start_time": "2023-06-23T11:54:30.869Z"
   },
   {
    "duration": 90,
    "start_time": "2023-06-23T11:54:30.912Z"
   },
   {
    "duration": 364,
    "start_time": "2023-06-23T11:54:31.003Z"
   },
   {
    "duration": 240,
    "start_time": "2023-06-23T11:54:31.369Z"
   },
   {
    "duration": 325,
    "start_time": "2023-06-23T11:54:31.611Z"
   },
   {
    "duration": 323,
    "start_time": "2023-06-23T11:54:31.938Z"
   },
   {
    "duration": 337,
    "start_time": "2023-06-23T11:54:32.263Z"
   },
   {
    "duration": 375,
    "start_time": "2023-06-23T11:54:32.602Z"
   },
   {
    "duration": 9,
    "start_time": "2023-06-23T11:54:32.978Z"
   },
   {
    "duration": 17,
    "start_time": "2023-06-23T11:54:33.001Z"
   },
   {
    "duration": 184,
    "start_time": "2023-06-23T11:54:33.020Z"
   },
   {
    "duration": 265,
    "start_time": "2023-06-23T11:54:33.206Z"
   },
   {
    "duration": 6,
    "start_time": "2023-06-23T11:54:33.473Z"
   },
   {
    "duration": 206,
    "start_time": "2023-06-23T11:54:33.481Z"
   },
   {
    "duration": 216,
    "start_time": "2023-06-23T11:54:33.691Z"
   },
   {
    "duration": 6,
    "start_time": "2023-06-23T11:54:33.909Z"
   },
   {
    "duration": 274,
    "start_time": "2023-06-23T11:54:33.917Z"
   },
   {
    "duration": 191,
    "start_time": "2023-06-23T11:54:34.193Z"
   },
   {
    "duration": 33,
    "start_time": "2023-06-23T11:54:34.386Z"
   },
   {
    "duration": 16,
    "start_time": "2023-06-23T11:54:34.422Z"
   },
   {
    "duration": 24,
    "start_time": "2023-06-23T11:54:34.440Z"
   },
   {
    "duration": 35,
    "start_time": "2023-06-23T11:54:34.467Z"
   },
   {
    "duration": 54,
    "start_time": "2023-06-23T11:54:34.504Z"
   },
   {
    "duration": 18,
    "start_time": "2023-06-23T11:54:34.560Z"
   },
   {
    "duration": 14,
    "start_time": "2023-06-23T11:54:55.345Z"
   },
   {
    "duration": 21,
    "start_time": "2023-06-23T11:55:30.874Z"
   },
   {
    "duration": 14,
    "start_time": "2023-06-23T11:56:05.452Z"
   },
   {
    "duration": 5,
    "start_time": "2023-06-23T11:56:46.880Z"
   },
   {
    "duration": 14,
    "start_time": "2023-06-23T11:57:13.828Z"
   },
   {
    "duration": 7,
    "start_time": "2023-06-23T12:02:04.212Z"
   },
   {
    "duration": 16,
    "start_time": "2023-06-23T12:02:55.279Z"
   },
   {
    "duration": 17,
    "start_time": "2023-06-23T12:03:00.038Z"
   },
   {
    "duration": 1751,
    "start_time": "2023-06-23T12:17:47.931Z"
   },
   {
    "duration": 17,
    "start_time": "2023-06-23T12:21:53.057Z"
   },
   {
    "duration": 15,
    "start_time": "2023-06-23T12:22:17.765Z"
   },
   {
    "duration": 98,
    "start_time": "2023-06-23T12:22:35.734Z"
   },
   {
    "duration": 16,
    "start_time": "2023-06-23T12:22:58.566Z"
   },
   {
    "duration": 7,
    "start_time": "2023-06-23T12:27:18.824Z"
   },
   {
    "duration": 20,
    "start_time": "2023-06-23T12:27:59.119Z"
   },
   {
    "duration": 17,
    "start_time": "2023-06-23T12:28:04.479Z"
   },
   {
    "duration": 14,
    "start_time": "2023-06-23T12:28:12.938Z"
   },
   {
    "duration": 15,
    "start_time": "2023-06-23T12:29:19.235Z"
   },
   {
    "duration": 2235,
    "start_time": "2023-06-23T12:29:44.025Z"
   },
   {
    "duration": 24,
    "start_time": "2023-06-23T12:30:03.227Z"
   },
   {
    "duration": 1881,
    "start_time": "2023-06-23T12:30:50.620Z"
   },
   {
    "duration": 1544,
    "start_time": "2023-06-23T12:31:16.921Z"
   },
   {
    "duration": 15,
    "start_time": "2023-06-23T12:35:41.266Z"
   },
   {
    "duration": 8,
    "start_time": "2023-06-23T12:36:13.548Z"
   },
   {
    "duration": 15,
    "start_time": "2023-06-23T12:36:32.756Z"
   },
   {
    "duration": 367,
    "start_time": "2023-06-23T12:37:50.924Z"
   },
   {
    "duration": 404,
    "start_time": "2023-06-23T12:37:54.962Z"
   },
   {
    "duration": 398,
    "start_time": "2023-06-23T12:38:09.920Z"
   },
   {
    "duration": 428,
    "start_time": "2023-06-23T12:39:14.843Z"
   },
   {
    "duration": 12,
    "start_time": "2023-06-23T12:39:28.520Z"
   },
   {
    "duration": 93,
    "start_time": "2023-06-23T12:39:58.419Z"
   },
   {
    "duration": 19,
    "start_time": "2023-06-23T12:40:07.133Z"
   },
   {
    "duration": 1288,
    "start_time": "2023-06-23T13:55:35.106Z"
   },
   {
    "duration": 98,
    "start_time": "2023-06-23T13:55:36.396Z"
   },
   {
    "duration": 3,
    "start_time": "2023-06-23T13:55:36.495Z"
   },
   {
    "duration": 50,
    "start_time": "2023-06-23T13:55:36.499Z"
   },
   {
    "duration": 11,
    "start_time": "2023-06-23T13:55:36.551Z"
   },
   {
    "duration": 22,
    "start_time": "2023-06-23T13:55:36.563Z"
   },
   {
    "duration": 223,
    "start_time": "2023-06-23T13:55:36.587Z"
   },
   {
    "duration": 106,
    "start_time": "2023-06-23T13:55:36.812Z"
   },
   {
    "duration": 63,
    "start_time": "2023-06-23T13:55:36.922Z"
   },
   {
    "duration": 12,
    "start_time": "2023-06-23T13:55:36.987Z"
   },
   {
    "duration": 55,
    "start_time": "2023-06-23T13:55:37.000Z"
   },
   {
    "duration": 20,
    "start_time": "2023-06-23T13:55:37.057Z"
   },
   {
    "duration": 295,
    "start_time": "2023-06-23T13:55:37.078Z"
   },
   {
    "duration": 290,
    "start_time": "2023-06-23T13:55:37.376Z"
   },
   {
    "duration": 212,
    "start_time": "2023-06-23T13:55:37.667Z"
   },
   {
    "duration": 364,
    "start_time": "2023-06-23T13:55:37.881Z"
   },
   {
    "duration": 219,
    "start_time": "2023-06-23T13:55:38.246Z"
   },
   {
    "duration": 316,
    "start_time": "2023-06-23T13:55:38.467Z"
   },
   {
    "duration": 8,
    "start_time": "2023-06-23T13:55:38.784Z"
   },
   {
    "duration": 40,
    "start_time": "2023-06-23T13:55:38.793Z"
   },
   {
    "duration": 188,
    "start_time": "2023-06-23T13:55:38.835Z"
   },
   {
    "duration": 132,
    "start_time": "2023-06-23T13:55:39.025Z"
   },
   {
    "duration": 3,
    "start_time": "2023-06-23T13:55:39.159Z"
   },
   {
    "duration": 170,
    "start_time": "2023-06-23T13:55:39.164Z"
   },
   {
    "duration": 220,
    "start_time": "2023-06-23T13:55:39.336Z"
   },
   {
    "duration": 5,
    "start_time": "2023-06-23T13:55:39.557Z"
   },
   {
    "duration": 217,
    "start_time": "2023-06-23T13:55:39.563Z"
   },
   {
    "duration": 147,
    "start_time": "2023-06-23T13:55:39.782Z"
   },
   {
    "duration": 22,
    "start_time": "2023-06-23T13:55:39.931Z"
   },
   {
    "duration": 9,
    "start_time": "2023-06-23T13:55:39.955Z"
   },
   {
    "duration": 11,
    "start_time": "2023-06-23T13:55:39.966Z"
   },
   {
    "duration": 10,
    "start_time": "2023-06-23T13:55:39.978Z"
   },
   {
    "duration": 44,
    "start_time": "2023-06-23T13:55:39.989Z"
   },
   {
    "duration": 25,
    "start_time": "2023-06-23T13:55:40.034Z"
   },
   {
    "duration": 1771,
    "start_time": "2023-06-23T13:55:55.622Z"
   },
   {
    "duration": 7,
    "start_time": "2023-06-23T13:56:13.225Z"
   },
   {
    "duration": 5,
    "start_time": "2023-06-23T13:56:38.646Z"
   },
   {
    "duration": 12,
    "start_time": "2023-06-23T13:57:14.925Z"
   },
   {
    "duration": 8,
    "start_time": "2023-06-23T13:57:20.926Z"
   },
   {
    "duration": 11,
    "start_time": "2023-06-23T13:58:20.049Z"
   },
   {
    "duration": 75,
    "start_time": "2023-06-23T13:58:57.219Z"
   },
   {
    "duration": 16,
    "start_time": "2023-06-23T13:59:03.486Z"
   },
   {
    "duration": 10,
    "start_time": "2023-06-23T14:02:23.425Z"
   },
   {
    "duration": 14,
    "start_time": "2023-06-23T14:04:27.427Z"
   },
   {
    "duration": 16,
    "start_time": "2023-06-23T14:04:45.220Z"
   },
   {
    "duration": 14,
    "start_time": "2023-06-23T14:05:43.940Z"
   },
   {
    "duration": 19,
    "start_time": "2023-06-23T14:07:23.525Z"
   },
   {
    "duration": 18,
    "start_time": "2023-06-23T14:07:41.926Z"
   },
   {
    "duration": 169,
    "start_time": "2023-06-23T14:13:16.394Z"
   },
   {
    "duration": 3,
    "start_time": "2023-06-23T14:15:59.650Z"
   },
   {
    "duration": 54,
    "start_time": "2023-06-23T14:15:59.655Z"
   },
   {
    "duration": 3,
    "start_time": "2023-06-23T14:15:59.711Z"
   },
   {
    "duration": 21,
    "start_time": "2023-06-23T14:15:59.717Z"
   },
   {
    "duration": 21,
    "start_time": "2023-06-23T14:15:59.740Z"
   },
   {
    "duration": 28,
    "start_time": "2023-06-23T14:15:59.763Z"
   },
   {
    "duration": 162,
    "start_time": "2023-06-23T14:15:59.793Z"
   },
   {
    "duration": 53,
    "start_time": "2023-06-23T14:15:59.957Z"
   },
   {
    "duration": 27,
    "start_time": "2023-06-23T14:16:00.013Z"
   },
   {
    "duration": 30,
    "start_time": "2023-06-23T14:16:00.041Z"
   },
   {
    "duration": 63,
    "start_time": "2023-06-23T14:16:00.072Z"
   },
   {
    "duration": 57,
    "start_time": "2023-06-23T14:16:00.136Z"
   },
   {
    "duration": 335,
    "start_time": "2023-06-23T14:16:00.194Z"
   },
   {
    "duration": 208,
    "start_time": "2023-06-23T14:16:00.530Z"
   },
   {
    "duration": 199,
    "start_time": "2023-06-23T14:16:00.740Z"
   },
   {
    "duration": 291,
    "start_time": "2023-06-23T14:16:00.940Z"
   },
   {
    "duration": 222,
    "start_time": "2023-06-23T14:16:01.233Z"
   },
   {
    "duration": 305,
    "start_time": "2023-06-23T14:16:01.457Z"
   },
   {
    "duration": 7,
    "start_time": "2023-06-23T14:16:01.763Z"
   },
   {
    "duration": 59,
    "start_time": "2023-06-23T14:16:01.771Z"
   },
   {
    "duration": 172,
    "start_time": "2023-06-23T14:16:01.831Z"
   },
   {
    "duration": 137,
    "start_time": "2023-06-23T14:16:02.005Z"
   },
   {
    "duration": 4,
    "start_time": "2023-06-23T14:16:02.144Z"
   },
   {
    "duration": 273,
    "start_time": "2023-06-23T14:16:02.151Z"
   },
   {
    "duration": 161,
    "start_time": "2023-06-23T14:16:02.425Z"
   },
   {
    "duration": 4,
    "start_time": "2023-06-23T14:16:02.587Z"
   },
   {
    "duration": 220,
    "start_time": "2023-06-23T14:16:02.600Z"
   },
   {
    "duration": 125,
    "start_time": "2023-06-23T14:16:02.822Z"
   },
   {
    "duration": 22,
    "start_time": "2023-06-23T14:16:02.948Z"
   },
   {
    "duration": 9,
    "start_time": "2023-06-23T14:16:02.971Z"
   },
   {
    "duration": 32,
    "start_time": "2023-06-23T14:16:02.981Z"
   },
   {
    "duration": 37,
    "start_time": "2023-06-23T14:16:03.014Z"
   },
   {
    "duration": 27,
    "start_time": "2023-06-23T14:16:03.052Z"
   },
   {
    "duration": 12,
    "start_time": "2023-06-23T14:16:03.080Z"
   },
   {
    "duration": 16,
    "start_time": "2023-06-23T14:21:09.227Z"
   },
   {
    "duration": 19,
    "start_time": "2023-06-23T14:24:53.731Z"
   },
   {
    "duration": 7,
    "start_time": "2023-06-23T14:28:09.346Z"
   },
   {
    "duration": 64,
    "start_time": "2023-06-23T14:35:05.608Z"
   },
   {
    "duration": 11,
    "start_time": "2023-06-23T14:36:08.253Z"
   },
   {
    "duration": 11,
    "start_time": "2023-06-23T14:36:17.962Z"
   },
   {
    "duration": 5,
    "start_time": "2023-06-23T15:01:51.961Z"
   },
   {
    "duration": 9,
    "start_time": "2023-06-23T15:02:50.172Z"
   },
   {
    "duration": 8,
    "start_time": "2023-06-23T15:03:04.515Z"
   },
   {
    "duration": 9,
    "start_time": "2023-06-23T15:03:35.367Z"
   },
   {
    "duration": 3,
    "start_time": "2023-06-23T15:05:39.435Z"
   },
   {
    "duration": 9,
    "start_time": "2023-06-23T15:05:52.198Z"
   },
   {
    "duration": 4,
    "start_time": "2023-06-23T15:16:55.620Z"
   },
   {
    "duration": 75,
    "start_time": "2023-06-23T15:16:55.629Z"
   },
   {
    "duration": 3,
    "start_time": "2023-06-23T15:16:55.706Z"
   },
   {
    "duration": 24,
    "start_time": "2023-06-23T15:16:55.710Z"
   },
   {
    "duration": 19,
    "start_time": "2023-06-23T15:16:55.735Z"
   },
   {
    "duration": 28,
    "start_time": "2023-06-23T15:16:55.757Z"
   },
   {
    "duration": 247,
    "start_time": "2023-06-23T15:16:55.786Z"
   },
   {
    "duration": 60,
    "start_time": "2023-06-23T15:16:56.035Z"
   },
   {
    "duration": 37,
    "start_time": "2023-06-23T15:16:56.097Z"
   },
   {
    "duration": 18,
    "start_time": "2023-06-23T15:16:56.136Z"
   },
   {
    "duration": 56,
    "start_time": "2023-06-23T15:16:56.156Z"
   },
   {
    "duration": 289,
    "start_time": "2023-06-23T15:16:56.213Z"
   },
   {
    "duration": 202,
    "start_time": "2023-06-23T15:16:56.503Z"
   },
   {
    "duration": 202,
    "start_time": "2023-06-23T15:16:56.707Z"
   },
   {
    "duration": 322,
    "start_time": "2023-06-23T15:16:56.912Z"
   },
   {
    "duration": 238,
    "start_time": "2023-06-23T15:16:57.236Z"
   },
   {
    "duration": 374,
    "start_time": "2023-06-23T15:16:57.476Z"
   },
   {
    "duration": 8,
    "start_time": "2023-06-23T15:16:57.852Z"
   },
   {
    "duration": 18,
    "start_time": "2023-06-23T15:16:57.861Z"
   },
   {
    "duration": 157,
    "start_time": "2023-06-23T15:16:57.881Z"
   },
   {
    "duration": 141,
    "start_time": "2023-06-23T15:16:58.040Z"
   },
   {
    "duration": 17,
    "start_time": "2023-06-23T15:16:58.182Z"
   },
   {
    "duration": 233,
    "start_time": "2023-06-23T15:16:58.202Z"
   },
   {
    "duration": 166,
    "start_time": "2023-06-23T15:16:58.437Z"
   },
   {
    "duration": 6,
    "start_time": "2023-06-23T15:16:58.605Z"
   },
   {
    "duration": 227,
    "start_time": "2023-06-23T15:16:58.613Z"
   },
   {
    "duration": 150,
    "start_time": "2023-06-23T15:16:58.842Z"
   },
   {
    "duration": 24,
    "start_time": "2023-06-23T15:16:58.999Z"
   },
   {
    "duration": 22,
    "start_time": "2023-06-23T15:16:59.025Z"
   },
   {
    "duration": 16,
    "start_time": "2023-06-23T15:16:59.049Z"
   },
   {
    "duration": 26,
    "start_time": "2023-06-23T15:16:59.067Z"
   },
   {
    "duration": 40,
    "start_time": "2023-06-23T15:16:59.094Z"
   },
   {
    "duration": 40,
    "start_time": "2023-06-23T15:16:59.135Z"
   },
   {
    "duration": 26,
    "start_time": "2023-06-23T15:16:59.177Z"
   },
   {
    "duration": 37,
    "start_time": "2023-06-23T15:16:59.204Z"
   },
   {
    "duration": 197,
    "start_time": "2023-06-23T15:43:30.454Z"
   },
   {
    "duration": 5,
    "start_time": "2023-06-23T15:45:11.736Z"
   },
   {
    "duration": 4,
    "start_time": "2023-06-23T16:11:51.506Z"
   },
   {
    "duration": 41,
    "start_time": "2023-06-23T16:11:51.512Z"
   },
   {
    "duration": 3,
    "start_time": "2023-06-23T16:11:51.554Z"
   },
   {
    "duration": 14,
    "start_time": "2023-06-23T16:11:51.559Z"
   },
   {
    "duration": 18,
    "start_time": "2023-06-23T16:11:51.575Z"
   },
   {
    "duration": 19,
    "start_time": "2023-06-23T16:11:51.595Z"
   },
   {
    "duration": 185,
    "start_time": "2023-06-23T16:11:51.615Z"
   },
   {
    "duration": 55,
    "start_time": "2023-06-23T16:11:51.802Z"
   },
   {
    "duration": 29,
    "start_time": "2023-06-23T16:11:51.858Z"
   },
   {
    "duration": 26,
    "start_time": "2023-06-23T16:11:51.888Z"
   },
   {
    "duration": 38,
    "start_time": "2023-06-23T16:11:51.915Z"
   },
   {
    "duration": 255,
    "start_time": "2023-06-23T16:11:51.955Z"
   },
   {
    "duration": 183,
    "start_time": "2023-06-23T16:11:52.211Z"
   },
   {
    "duration": 176,
    "start_time": "2023-06-23T16:11:52.399Z"
   },
   {
    "duration": 312,
    "start_time": "2023-06-23T16:11:52.576Z"
   },
   {
    "duration": 200,
    "start_time": "2023-06-23T16:11:52.899Z"
   },
   {
    "duration": 329,
    "start_time": "2023-06-23T16:11:53.101Z"
   },
   {
    "duration": 8,
    "start_time": "2023-06-23T16:11:53.431Z"
   },
   {
    "duration": 22,
    "start_time": "2023-06-23T16:11:53.440Z"
   },
   {
    "duration": 139,
    "start_time": "2023-06-23T16:11:53.463Z"
   },
   {
    "duration": 189,
    "start_time": "2023-06-23T16:11:53.603Z"
   },
   {
    "duration": 7,
    "start_time": "2023-06-23T16:11:53.794Z"
   },
   {
    "duration": 165,
    "start_time": "2023-06-23T16:11:53.802Z"
   },
   {
    "duration": 145,
    "start_time": "2023-06-23T16:11:53.968Z"
   },
   {
    "duration": 4,
    "start_time": "2023-06-23T16:11:54.114Z"
   },
   {
    "duration": 209,
    "start_time": "2023-06-23T16:11:54.120Z"
   },
   {
    "duration": 129,
    "start_time": "2023-06-23T16:11:54.330Z"
   },
   {
    "duration": 23,
    "start_time": "2023-06-23T16:11:54.460Z"
   },
   {
    "duration": 21,
    "start_time": "2023-06-23T16:11:54.485Z"
   },
   {
    "duration": 8,
    "start_time": "2023-06-23T16:11:54.508Z"
   },
   {
    "duration": 27,
    "start_time": "2023-06-23T16:11:54.517Z"
   },
   {
    "duration": 26,
    "start_time": "2023-06-23T16:11:54.545Z"
   },
   {
    "duration": 12,
    "start_time": "2023-06-23T16:11:54.573Z"
   }
  ],
  "kernelspec": {
   "display_name": "Python 3 (ipykernel)",
   "language": "python",
   "name": "python3"
  },
  "language_info": {
   "codemirror_mode": {
    "name": "ipython",
    "version": 3
   },
   "file_extension": ".py",
   "mimetype": "text/x-python",
   "name": "python",
   "nbconvert_exporter": "python",
   "pygments_lexer": "ipython3",
   "version": "3.9.16"
  },
  "toc": {
   "base_numbering": 1,
   "nav_menu": {},
   "number_sections": false,
   "sideBar": true,
   "skip_h1_title": false,
   "title_cell": "Table of Contents",
   "title_sidebar": "Contents",
   "toc_cell": false,
   "toc_position": {
    "height": "calc(100% - 180px)",
    "left": "10px",
    "top": "150px",
    "width": "213.188px"
   },
   "toc_section_display": true,
   "toc_window_display": true
  }
 },
 "nbformat": 4,
 "nbformat_minor": 2
}
